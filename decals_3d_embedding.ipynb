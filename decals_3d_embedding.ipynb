{
  "nbformat": 4,
  "nbformat_minor": 0,
  "metadata": {
    "colab": {
      "provenance": [],
      "gpuType": "T4",
      "mount_file_id": "https://github.com/mtsizh/galaxy-morphology-manifold-learning/blob/master/morphology_classification.ipynb",
      "authorship_tag": "ABX9TyOouGCMqYIVJP62YrrRI7iJ",
      "include_colab_link": true
    },
    "kernelspec": {
      "name": "python3",
      "display_name": "Python 3"
    },
    "language_info": {
      "name": "python"
    },
    "widgets": {
      "application/vnd.jupyter.widget-state+json": {
        "bc564221b742484db57d81dd81098242": {
          "model_module": "@jupyter-widgets/controls",
          "model_name": "HBoxModel",
          "model_module_version": "1.5.0",
          "state": {
            "_dom_classes": [],
            "_model_module": "@jupyter-widgets/controls",
            "_model_module_version": "1.5.0",
            "_model_name": "HBoxModel",
            "_view_count": null,
            "_view_module": "@jupyter-widgets/controls",
            "_view_module_version": "1.5.0",
            "_view_name": "HBoxView",
            "box_style": "",
            "children": [
              "IPY_MODEL_cd859e73791d4838b6f07548ea726a2c",
              "IPY_MODEL_ca60f44b86864da5b9c3dd190df21d4a",
              "IPY_MODEL_a1431804e15f45f3a805cdd62b4f7e50"
            ],
            "layout": "IPY_MODEL_c82d1d58d84745e8ac4ac15208c0f3a5"
          }
        },
        "cd859e73791d4838b6f07548ea726a2c": {
          "model_module": "@jupyter-widgets/controls",
          "model_name": "HTMLModel",
          "model_module_version": "1.5.0",
          "state": {
            "_dom_classes": [],
            "_model_module": "@jupyter-widgets/controls",
            "_model_module_version": "1.5.0",
            "_model_name": "HTMLModel",
            "_view_count": null,
            "_view_module": "@jupyter-widgets/controls",
            "_view_module_version": "1.5.0",
            "_view_name": "HTMLView",
            "description": "",
            "description_tooltip": null,
            "layout": "IPY_MODEL_4190e8fa40c34648b8080c46c9225f5b",
            "placeholder": "​",
            "style": "IPY_MODEL_a2933a7331214b87b78a1ca64cfb7b58",
            "value": "100%"
          }
        },
        "ca60f44b86864da5b9c3dd190df21d4a": {
          "model_module": "@jupyter-widgets/controls",
          "model_name": "FloatProgressModel",
          "model_module_version": "1.5.0",
          "state": {
            "_dom_classes": [],
            "_model_module": "@jupyter-widgets/controls",
            "_model_module_version": "1.5.0",
            "_model_name": "FloatProgressModel",
            "_view_count": null,
            "_view_module": "@jupyter-widgets/controls",
            "_view_module_version": "1.5.0",
            "_view_name": "ProgressView",
            "bar_style": "success",
            "description": "",
            "description_tooltip": null,
            "layout": "IPY_MODEL_f03504028f8d47b4937ed3acf86e4f0c",
            "max": 6000,
            "min": 0,
            "orientation": "horizontal",
            "style": "IPY_MODEL_97b05d6d68a04eea8c856fa166a98637",
            "value": 6000
          }
        },
        "a1431804e15f45f3a805cdd62b4f7e50": {
          "model_module": "@jupyter-widgets/controls",
          "model_name": "HTMLModel",
          "model_module_version": "1.5.0",
          "state": {
            "_dom_classes": [],
            "_model_module": "@jupyter-widgets/controls",
            "_model_module_version": "1.5.0",
            "_model_name": "HTMLModel",
            "_view_count": null,
            "_view_module": "@jupyter-widgets/controls",
            "_view_module_version": "1.5.0",
            "_view_name": "HTMLView",
            "description": "",
            "description_tooltip": null,
            "layout": "IPY_MODEL_fa2bacbebd0a44f993e2540f1907ac69",
            "placeholder": "​",
            "style": "IPY_MODEL_07b8dbe251784f2f8fc70a21813ae203",
            "value": " 6000/6000 [00:07&lt;00:00, 912.45it/s]"
          }
        },
        "c82d1d58d84745e8ac4ac15208c0f3a5": {
          "model_module": "@jupyter-widgets/base",
          "model_name": "LayoutModel",
          "model_module_version": "1.2.0",
          "state": {
            "_model_module": "@jupyter-widgets/base",
            "_model_module_version": "1.2.0",
            "_model_name": "LayoutModel",
            "_view_count": null,
            "_view_module": "@jupyter-widgets/base",
            "_view_module_version": "1.2.0",
            "_view_name": "LayoutView",
            "align_content": null,
            "align_items": null,
            "align_self": null,
            "border": null,
            "bottom": null,
            "display": null,
            "flex": null,
            "flex_flow": null,
            "grid_area": null,
            "grid_auto_columns": null,
            "grid_auto_flow": null,
            "grid_auto_rows": null,
            "grid_column": null,
            "grid_gap": null,
            "grid_row": null,
            "grid_template_areas": null,
            "grid_template_columns": null,
            "grid_template_rows": null,
            "height": null,
            "justify_content": null,
            "justify_items": null,
            "left": null,
            "margin": null,
            "max_height": null,
            "max_width": null,
            "min_height": null,
            "min_width": null,
            "object_fit": null,
            "object_position": null,
            "order": null,
            "overflow": null,
            "overflow_x": null,
            "overflow_y": null,
            "padding": null,
            "right": null,
            "top": null,
            "visibility": null,
            "width": null
          }
        },
        "4190e8fa40c34648b8080c46c9225f5b": {
          "model_module": "@jupyter-widgets/base",
          "model_name": "LayoutModel",
          "model_module_version": "1.2.0",
          "state": {
            "_model_module": "@jupyter-widgets/base",
            "_model_module_version": "1.2.0",
            "_model_name": "LayoutModel",
            "_view_count": null,
            "_view_module": "@jupyter-widgets/base",
            "_view_module_version": "1.2.0",
            "_view_name": "LayoutView",
            "align_content": null,
            "align_items": null,
            "align_self": null,
            "border": null,
            "bottom": null,
            "display": null,
            "flex": null,
            "flex_flow": null,
            "grid_area": null,
            "grid_auto_columns": null,
            "grid_auto_flow": null,
            "grid_auto_rows": null,
            "grid_column": null,
            "grid_gap": null,
            "grid_row": null,
            "grid_template_areas": null,
            "grid_template_columns": null,
            "grid_template_rows": null,
            "height": null,
            "justify_content": null,
            "justify_items": null,
            "left": null,
            "margin": null,
            "max_height": null,
            "max_width": null,
            "min_height": null,
            "min_width": null,
            "object_fit": null,
            "object_position": null,
            "order": null,
            "overflow": null,
            "overflow_x": null,
            "overflow_y": null,
            "padding": null,
            "right": null,
            "top": null,
            "visibility": null,
            "width": null
          }
        },
        "a2933a7331214b87b78a1ca64cfb7b58": {
          "model_module": "@jupyter-widgets/controls",
          "model_name": "DescriptionStyleModel",
          "model_module_version": "1.5.0",
          "state": {
            "_model_module": "@jupyter-widgets/controls",
            "_model_module_version": "1.5.0",
            "_model_name": "DescriptionStyleModel",
            "_view_count": null,
            "_view_module": "@jupyter-widgets/base",
            "_view_module_version": "1.2.0",
            "_view_name": "StyleView",
            "description_width": ""
          }
        },
        "f03504028f8d47b4937ed3acf86e4f0c": {
          "model_module": "@jupyter-widgets/base",
          "model_name": "LayoutModel",
          "model_module_version": "1.2.0",
          "state": {
            "_model_module": "@jupyter-widgets/base",
            "_model_module_version": "1.2.0",
            "_model_name": "LayoutModel",
            "_view_count": null,
            "_view_module": "@jupyter-widgets/base",
            "_view_module_version": "1.2.0",
            "_view_name": "LayoutView",
            "align_content": null,
            "align_items": null,
            "align_self": null,
            "border": null,
            "bottom": null,
            "display": null,
            "flex": null,
            "flex_flow": null,
            "grid_area": null,
            "grid_auto_columns": null,
            "grid_auto_flow": null,
            "grid_auto_rows": null,
            "grid_column": null,
            "grid_gap": null,
            "grid_row": null,
            "grid_template_areas": null,
            "grid_template_columns": null,
            "grid_template_rows": null,
            "height": null,
            "justify_content": null,
            "justify_items": null,
            "left": null,
            "margin": null,
            "max_height": null,
            "max_width": null,
            "min_height": null,
            "min_width": null,
            "object_fit": null,
            "object_position": null,
            "order": null,
            "overflow": null,
            "overflow_x": null,
            "overflow_y": null,
            "padding": null,
            "right": null,
            "top": null,
            "visibility": null,
            "width": null
          }
        },
        "97b05d6d68a04eea8c856fa166a98637": {
          "model_module": "@jupyter-widgets/controls",
          "model_name": "ProgressStyleModel",
          "model_module_version": "1.5.0",
          "state": {
            "_model_module": "@jupyter-widgets/controls",
            "_model_module_version": "1.5.0",
            "_model_name": "ProgressStyleModel",
            "_view_count": null,
            "_view_module": "@jupyter-widgets/base",
            "_view_module_version": "1.2.0",
            "_view_name": "StyleView",
            "bar_color": null,
            "description_width": ""
          }
        },
        "fa2bacbebd0a44f993e2540f1907ac69": {
          "model_module": "@jupyter-widgets/base",
          "model_name": "LayoutModel",
          "model_module_version": "1.2.0",
          "state": {
            "_model_module": "@jupyter-widgets/base",
            "_model_module_version": "1.2.0",
            "_model_name": "LayoutModel",
            "_view_count": null,
            "_view_module": "@jupyter-widgets/base",
            "_view_module_version": "1.2.0",
            "_view_name": "LayoutView",
            "align_content": null,
            "align_items": null,
            "align_self": null,
            "border": null,
            "bottom": null,
            "display": null,
            "flex": null,
            "flex_flow": null,
            "grid_area": null,
            "grid_auto_columns": null,
            "grid_auto_flow": null,
            "grid_auto_rows": null,
            "grid_column": null,
            "grid_gap": null,
            "grid_row": null,
            "grid_template_areas": null,
            "grid_template_columns": null,
            "grid_template_rows": null,
            "height": null,
            "justify_content": null,
            "justify_items": null,
            "left": null,
            "margin": null,
            "max_height": null,
            "max_width": null,
            "min_height": null,
            "min_width": null,
            "object_fit": null,
            "object_position": null,
            "order": null,
            "overflow": null,
            "overflow_x": null,
            "overflow_y": null,
            "padding": null,
            "right": null,
            "top": null,
            "visibility": null,
            "width": null
          }
        },
        "07b8dbe251784f2f8fc70a21813ae203": {
          "model_module": "@jupyter-widgets/controls",
          "model_name": "DescriptionStyleModel",
          "model_module_version": "1.5.0",
          "state": {
            "_model_module": "@jupyter-widgets/controls",
            "_model_module_version": "1.5.0",
            "_model_name": "DescriptionStyleModel",
            "_view_count": null,
            "_view_module": "@jupyter-widgets/base",
            "_view_module_version": "1.2.0",
            "_view_name": "StyleView",
            "description_width": ""
          }
        }
      }
    },
    "accelerator": "GPU"
  },
  "cells": [
    {
      "cell_type": "markdown",
      "metadata": {
        "id": "view-in-github",
        "colab_type": "text"
      },
      "source": [
        "<a href=\"https://colab.research.google.com/github/mtsizh/galaxy-morphology-manifold-learning/blob/main/decals_3d_embedding.ipynb\" target=\"_parent\"><img src=\"https://colab.research.google.com/assets/colab-badge.svg\" alt=\"Open In Colab\"/></a>"
      ]
    },
    {
      "cell_type": "markdown",
      "source": [
        "You can either upload your own `curated_imgs.zip` or use the following code to download it from our repository."
      ],
      "metadata": {
        "id": "TdcyFMnJyU8t"
      }
    },
    {
      "cell_type": "code",
      "source": [
        "!wget -q https://raw.githubusercontent.com/mtsizh/galaxy-morphology-manifold-learning/main/curated_dataset/curated_imgs_multipart.zip && echo \"HEAD dowloaded\" || \"ERROR downloading HEAD\"\n",
        "\n",
        "for i in range(1,8):\n",
        "  !wget -q https://raw.githubusercontent.com/mtsizh/galaxy-morphology-manifold-learning/main/curated_dataset/curated_imgs_multipart.z0{i}  && echo \"PART {i} of 7 OK\" || \"ERROR downloading PART {i}\"\n",
        "\n",
        "print('MERGING PARTS')\n",
        "!zip -FF curated_imgs_multipart.zip --out curated_imgs.zip > /dev/null && rm curated_imgs_multipart.z* && echo \"COMPLETE\" || \"FAILED\"\n",
        "\n",
        "!unzip -q -o curated_imgs.zip && echo \"UNZIPPED\" || \"FAIL\""
      ],
      "metadata": {
        "colab": {
          "base_uri": "https://localhost:8080/"
        },
        "id": "peMXLfox98FW",
        "outputId": "32007107-8ab4-452e-f465-cc7555ea9418"
      },
      "execution_count": null,
      "outputs": [
        {
          "output_type": "stream",
          "name": "stdout",
          "text": [
            "HEAD dowloaded\n",
            "PART 1 of 7 OK\n",
            "PART 2 of 7 OK\n",
            "PART 3 of 7 OK\n",
            "PART 4 of 7 OK\n",
            "PART 5 of 7 OK\n",
            "PART 6 of 7 OK\n",
            "PART 7 of 7 OK\n",
            "MERGING PARTS\n",
            "COMPLETE\n",
            "UNZIPPED\n"
          ]
        }
      ]
    },
    {
      "cell_type": "markdown",
      "source": [
        "Few libraries are not installed by default."
      ],
      "metadata": {
        "id": "JraRV82hAe4l"
      }
    },
    {
      "cell_type": "code",
      "execution_count": null,
      "metadata": {
        "colab": {
          "base_uri": "https://localhost:8080/"
        },
        "id": "aqO98zoY9Qv7",
        "outputId": "a56871dd-b0d6-484e-e39d-61d997560de7"
      },
      "outputs": [
        {
          "output_type": "stream",
          "name": "stdout",
          "text": [
            "COMPLETE\n"
          ]
        }
      ],
      "source": [
        "!git clone https://github.com/rapidsai/rapidsai-csp-utils.git\n",
        "!python rapidsai-csp-utils/colab/pip-install.py\n",
        "\n",
        "try:\n",
        "  from cuml.manifold import TSNE\n",
        "  from cuml.manifold import UMAP\n",
        "  from cuml.decomposition import PCA\n",
        "  from google.colab import output\n",
        "  output.clear()\n",
        "except:\n",
        "  print('ERROR')\n",
        "finally:\n",
        "  print('COMPLETE')"
      ]
    },
    {
      "cell_type": "code",
      "source": [
        "import pandas as pd\n",
        "import numpy as np\n",
        "from sklearn.manifold import LocallyLinearEmbedding, Isomap, TSNE\n",
        "from cuml.manifold import UMAP\n",
        "from cuml.decomposition import PCA\n",
        "from tqdm.auto import tqdm\n",
        "from PIL import Image\n",
        "import pickle\n",
        "\n",
        "\n",
        "# use different class maps to get different plots\n",
        "class_map = {1: 'round', 2: 'inbetween', 3: 'cigar'}\n",
        "#class_map = {4: 'edge on', 5: 'edge off'}\n",
        "#class_map = {6: 'smooth', 7: 'featured'}\n",
        "n_bootstrap_samples = 6000\n",
        "\n",
        "\n",
        "df = pd.read_parquet('curated_dataset.parquet')\n",
        "regex_filter = '|'.join(class_map.values())\n",
        "filtered_df = df[df['class'].str.contains(regex_filter, regex=True)]\n",
        "bootstrapped_df = filtered_df.sample(n=n_bootstrap_samples)\n",
        "X = np.zeros((len(bootstrapped_df), 120, 120))\n",
        "y = np.zeros(len(bootstrapped_df))\n",
        "\n",
        "\n",
        "for key, val in class_map.items():\n",
        "  y[bootstrapped_df['class'].str.contains(val, regex=True)] = key\n",
        "\n",
        "print('LOAD IMAGES')\n",
        "paths = bootstrapped_df['png_loc'].str.replace('dr5', 'curated_imgs')\n",
        "with tqdm(total=len(paths)) as progress:\n",
        "  for idx, file_path in enumerate(paths):\n",
        "    with Image.open(file_path) as img:\n",
        "      X[idx,:,:] = np.array(img)\n",
        "      progress.update()\n",
        "X_flattened = X.reshape(X.shape[0], -1)\n",
        "\n",
        "\n",
        "reduction_methods = {\n",
        "    'TSNE': TSNE(n_components=3, perplexity=50),\n",
        "    'UMAP': UMAP(n_components=3, n_neighbors=30, min_dist=0.1, metric='euclidean'),\n",
        "    'ISO': Isomap(n_neighbors=30, n_components=3),\n",
        "    'PCA': PCA(n_components=3),\n",
        "    'LLE': LocallyLinearEmbedding(n_neighbors=30, n_components=3)\n",
        "}\n",
        "\n",
        "for name, method in reduction_methods.items():\n",
        "  print(f'CALCULATE {name}')\n",
        "  X_embedded = method.fit_transform(X_flattened)\n",
        "  cname = '_'.join(class_map.values())\n",
        "  out_file = f'{cname}_{name}_3D.pkl'.replace(' ', '_')\n",
        "  print('SAVING to: ', out_file)\n",
        "  with open(out_file, 'wb') as f:\n",
        "    pickle.dump({'X_embedded': X_embedded, 'y': y, 'class_map': class_map}, f)\n",
        "print('COMPLETE')"
      ],
      "metadata": {
        "colab": {
          "base_uri": "https://localhost:8080/",
          "height": 257,
          "referenced_widgets": [
            "bc564221b742484db57d81dd81098242",
            "cd859e73791d4838b6f07548ea726a2c",
            "ca60f44b86864da5b9c3dd190df21d4a",
            "a1431804e15f45f3a805cdd62b4f7e50",
            "c82d1d58d84745e8ac4ac15208c0f3a5",
            "4190e8fa40c34648b8080c46c9225f5b",
            "a2933a7331214b87b78a1ca64cfb7b58",
            "f03504028f8d47b4937ed3acf86e4f0c",
            "97b05d6d68a04eea8c856fa166a98637",
            "fa2bacbebd0a44f993e2540f1907ac69",
            "07b8dbe251784f2f8fc70a21813ae203"
          ]
        },
        "id": "k7E1unhHZWto",
        "outputId": "556089e7-8bff-4966-887c-e69898f20b39"
      },
      "execution_count": null,
      "outputs": [
        {
          "output_type": "stream",
          "name": "stdout",
          "text": [
            "LOAD IMAGES\n"
          ]
        },
        {
          "output_type": "display_data",
          "data": {
            "text/plain": [
              "  0%|          | 0/6000 [00:00<?, ?it/s]"
            ],
            "application/vnd.jupyter.widget-view+json": {
              "version_major": 2,
              "version_minor": 0,
              "model_id": "bc564221b742484db57d81dd81098242"
            }
          },
          "metadata": {}
        },
        {
          "output_type": "stream",
          "name": "stdout",
          "text": [
            "CALCULATE TSNE\n",
            "SAVING to:  round_inbetween_cigar_TSNE_3D.pkl\n",
            "CALCULATE UMAP\n",
            "SAVING to:  round_inbetween_cigar_UMAP_3D.pkl\n",
            "CALCULATE ISO\n",
            "SAVING to:  round_inbetween_cigar_ISO_3D.pkl\n",
            "CALCULATE PCA\n",
            "SAVING to:  round_inbetween_cigar_PCA_3D.pkl\n",
            "CALCULATE LLE\n",
            "SAVING to:  round_inbetween_cigar_LLE_3D.pkl\n",
            "COMPLETE\n"
          ]
        }
      ]
    },
    {
      "cell_type": "markdown",
      "source": [
        "You can download precomputed embeddings\n",
        "\n",
        "\n"
      ],
      "metadata": {
        "id": "m5-ueupFmpHX"
      }
    },
    {
      "cell_type": "code",
      "source": [
        "!wget https://raw.githubusercontent.com/mtsizh/galaxy-morphology-manifold-learning/main/embeddings/edge_on_edge_off_LLE_138_neighbours_10.pkl\n",
        "!wget https://raw.githubusercontent.com/mtsizh/galaxy-morphology-manifold-learning/main/embeddings/round_inbetween_cigar_LLE_138_neighbours_10.pkl\n",
        "!wget https://raw.githubusercontent.com/mtsizh/galaxy-morphology-manifold-learning/main/embeddings/smooth_featured_LLE_138_neighbours_10.pkl\n"
      ],
      "metadata": {
        "id": "111Y8Wrems-x"
      },
      "execution_count": null,
      "outputs": []
    },
    {
      "cell_type": "markdown",
      "source": [
        "Draw the final result"
      ],
      "metadata": {
        "id": "0PGbfYPMoHpt"
      }
    },
    {
      "cell_type": "code",
      "source": [
        "import numpy as np\n",
        "import matplotlib.pyplot as plt\n",
        "import pickle\n",
        "import pandas as pd\n",
        "import seaborn as sns\n",
        "import plotly.express as px\n",
        "\n",
        "# set correct filename to load embedding data\n",
        "load_from = '/content/round_inbetween_cigar_ISO_3D.pkl'\n",
        "\n",
        "with open(load_from, 'rb') as f:\n",
        "  data = pickle.load(f)\n",
        "  X_embedded = data['X_embedded']\n",
        "  y = data['y']\n",
        "  class_map = data['class_map']\n",
        "\n",
        "\n",
        "# Convert data to DataFrame\n",
        "df = pd.DataFrame(X_embedded, columns=['X', 'Y', 'Z'])\n",
        "df['Class'] = df.index.map(lambda i: class_map[y[i]])  # Map numerical labels to names\n",
        "\n",
        "# Define custom colors for each class\n",
        "custom_color_map = {\n",
        "    \"round\": \"red\",\n",
        "    \"inbetween\": \"blue\",\n",
        "    \"cigar\": \"green\"\n",
        "}\n",
        "\n",
        "# Create 3D scatter plot with labeled classes\n",
        "fig = px.scatter_3d(df, x='X', y='Y', z='Z',\n",
        "                     color='Class',  # Use class names instead of numbers\n",
        "                     color_discrete_map=custom_color_map,  # Apply custom colors\n",
        "                     title=\"3D Point Cloud\",\n",
        "                     labels={'Class': 'Category'},\n",
        "                     opacity=0.8)  # Adjust opacity if needed\n",
        "\n",
        "# Change marker size\n",
        "fig.update_traces(marker=dict(size=2))  # Set smaller point size\n",
        "\n",
        "fig.show()\n"
      ],
      "metadata": {
        "id": "vd5GaTbfDqd4",
        "outputId": "20fde07a-e839-4731-f4c5-9dee1c4b1d55",
        "colab": {
          "base_uri": "https://localhost:8080/"
        }
      },
      "execution_count": null,
      "outputs": [
        {
          "output_type": "stream",
          "name": "stdout",
          "text": [
            "(6000, 3)\n",
            "(6000,)\n"
          ]
        }
      ]
    }
  ]
}