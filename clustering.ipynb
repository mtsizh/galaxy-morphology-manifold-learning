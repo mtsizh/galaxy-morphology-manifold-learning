{
  "cells": [
    {
      "cell_type": "markdown",
      "metadata": {
        "id": "view-in-github",
        "colab_type": "text"
      },
      "source": [
        "<a href=\"https://colab.research.google.com/github/mtsizh/galaxy-morphology-manifold-learning/blob/main/clustering.ipynb\" target=\"_parent\"><img src=\"https://colab.research.google.com/assets/colab-badge.svg\" alt=\"Open In Colab\"/></a>"
      ]
    },
    {
      "cell_type": "markdown",
      "source": [
        "Download images from GitHub (Instead of this code you can upload yor own archive and unzip it)."
      ],
      "metadata": {
        "id": "GZHVV00dC-hh"
      }
    },
    {
      "cell_type": "code",
      "execution_count": null,
      "metadata": {
        "colab": {
          "base_uri": "https://localhost:8080/"
        },
        "id": "JM3ZDuhgZM0Y",
        "outputId": "144f1474-02bb-4b80-fabc-d0e4214eb8fb"
      },
      "outputs": [
        {
          "output_type": "stream",
          "name": "stdout",
          "text": [
            "HEAD dowloaded\n",
            "PART 1 of 7 OK\n",
            "PART 2 of 7 OK\n",
            "PART 3 of 7 OK\n",
            "PART 4 of 7 OK\n",
            "PART 5 of 7 OK\n",
            "PART 6 of 7 OK\n",
            "PART 7 of 7 OK\n",
            "MERGING PARTS\n",
            "COMPLETE\n",
            "UNZIPPED\n"
          ]
        }
      ],
      "source": [
        "!wget -q https://raw.githubusercontent.com/mtsizh/galaxy-morphology-manifold-learning/main/curated_dataset/curated_imgs_multipart.zip && echo \"HEAD dowloaded\" || \"ERROR downloading HEAD\"\n",
        "\n",
        "for i in range(1,8):\n",
        "  !wget -q https://raw.githubusercontent.com/mtsizh/galaxy-morphology-manifold-learning/main/curated_dataset/curated_imgs_multipart.z0{i}  && echo \"PART {i} of 7 OK\" || \"ERROR downloading PART {i}\"\n",
        "\n",
        "print('MERGING PARTS')\n",
        "!zip -FF curated_imgs_multipart.zip --out curated_imgs.zip > /dev/null && rm curated_imgs_multipart.z* && echo \"COMPLETE\" || \"FAILED\"\n",
        "\n",
        "!unzip -q -o curated_imgs.zip && echo \"UNZIPPED\" || \"FAIL\""
      ]
    },
    {
      "cell_type": "markdown",
      "source": [
        "Perform dimensionality reduction with best parameters."
      ],
      "metadata": {
        "id": "tn6ij6rdDRng"
      }
    },
    {
      "cell_type": "code",
      "execution_count": null,
      "metadata": {
        "colab": {
          "base_uri": "https://localhost:8080/",
          "height": 118,
          "referenced_widgets": [
            "c2be75bbdeb844a0ab4436b6e0ba1230",
            "3d83438ee6844f21b4c837edecac35e4",
            "8e4dba5686c041b183311eec1ac03e79",
            "d0f596a3c2014d0695aaa97dda8a1e0b",
            "71e595ac5d494cc58921b33335bf0458",
            "987ba591899e4154b43859eddba31785",
            "01ad83a89f514feab2262d2557b73ddf",
            "aefa8fbc901141818ed870dbd295adeb",
            "ed9142a2cf4f441e8976e294b845d268",
            "6d06774ac86a47dfabd667f6bb614d99",
            "c349882a158c4cbb8588354c2049d524"
          ]
        },
        "id": "UMryznZOZR72",
        "outputId": "669a1bb0-cb77-49b0-be2e-6fb4f40cb2bd"
      },
      "outputs": [
        {
          "output_type": "stream",
          "name": "stdout",
          "text": [
            "LOAD IMAGES\n"
          ]
        },
        {
          "output_type": "display_data",
          "data": {
            "text/plain": [
              "  0%|          | 0/20000 [00:00<?, ?it/s]"
            ],
            "application/vnd.jupyter.widget-view+json": {
              "version_major": 2,
              "version_minor": 0,
              "model_id": "c2be75bbdeb844a0ab4436b6e0ba1230"
            }
          },
          "metadata": {}
        },
        {
          "output_type": "stream",
          "name": "stdout",
          "text": [
            "CALCULATE LLE\n",
            "SAVING to:  unsupervised_LLE_138_neighbours_10.pkl\n",
            "COMPLETE\n"
          ]
        }
      ],
      "source": [
        "import pandas as pd\n",
        "import numpy as np\n",
        "from sklearn.manifold import LocallyLinearEmbedding\n",
        "from tqdm.auto import tqdm\n",
        "from PIL import Image\n",
        "import pickle\n",
        "\n",
        "\n",
        "n_neighbors = 10\n",
        "n_components = 138\n",
        "n_bootstrap_samples = 20000\n",
        "\n",
        "\n",
        "df = pd.read_parquet('curated_dataset.parquet')\n",
        "bootstrapped_df = df.sample(n=n_bootstrap_samples)\n",
        "X = np.zeros((len(bootstrapped_df), 120, 120))\n",
        "\n",
        "print('LOAD IMAGES')\n",
        "paths = bootstrapped_df['png_loc'].str.replace('dr5', 'curated_imgs')\n",
        "with tqdm(total=len(paths)) as progress:\n",
        "  for idx, file_path in enumerate(paths):\n",
        "    with Image.open(file_path) as img:\n",
        "      X[idx,:,:] = np.array(img)\n",
        "      progress.update()\n",
        "\n",
        "print('CALCULATE LLE')\n",
        "X_flattened = X.reshape(X.shape[0], -1)\n",
        "lle = LocallyLinearEmbedding(n_neighbors=n_neighbors, n_components=n_components)\n",
        "X_embedded = lle.fit_transform(X_flattened)\n",
        "\n",
        "\n",
        "out_file = f'unsupervised_LLE_{n_components}_neighbours_{n_neighbors}.pkl'.replace(' ', '_')\n",
        "print('SAVING to: ', out_file)\n",
        "with open(out_file, 'wb') as f:\n",
        "  pickle.dump({'X_embedded': X_embedded,\n",
        "               'metadata': bootstrapped_df}, f)\n",
        "print('COMPLETE')"
      ]
    },
    {
      "cell_type": "markdown",
      "source": [
        "Install library for Dunn index calculation (Davis-Bolduin already implemented in sklearn)."
      ],
      "metadata": {
        "id": "GYs_Wag5DYn1"
      }
    },
    {
      "cell_type": "code",
      "execution_count": 2,
      "metadata": {
        "colab": {
          "base_uri": "https://localhost:8080/"
        },
        "id": "yF5Uqvg0hKe-",
        "outputId": "aedd9a51-56c9-404f-9b89-d71438dd423e"
      },
      "outputs": [
        {
          "output_type": "stream",
          "name": "stdout",
          "text": [
            "Collecting git+https://github.com/jqmviegas/jqm_cvi.git\n",
            "  Cloning https://github.com/jqmviegas/jqm_cvi.git to /tmp/pip-req-build-38zx0g9t\n",
            "  Running command git clone --filter=blob:none --quiet https://github.com/jqmviegas/jqm_cvi.git /tmp/pip-req-build-38zx0g9t\n",
            "  Resolved https://github.com/jqmviegas/jqm_cvi.git to commit 9e1137d4f4df70c1287011e1a544b0c3fe36af36\n",
            "  Preparing metadata (setup.py) ... \u001b[?25l\u001b[?25hdone\n",
            "Building wheels for collected packages: jqmcvi\n",
            "  Building wheel for jqmcvi (setup.py) ... \u001b[?25l\u001b[?25hdone\n",
            "  Created wheel for jqmcvi: filename=jqmcvi-1.0-cp311-cp311-linux_x86_64.whl size=450014 sha256=e938223a71a5cd05ad36b0580cb6a212eb771eae9efc72a50dd116712abb48d3\n",
            "  Stored in directory: /tmp/pip-ephem-wheel-cache-7l94hia6/wheels/29/10/d5/511cfe31e24f6431d3c2b84287074fe8d1c92c2128f93bdc9c\n",
            "Successfully built jqmcvi\n",
            "Installing collected packages: jqmcvi\n",
            "Successfully installed jqmcvi-1.0\n"
          ]
        }
      ],
      "source": [
        "!pip install git+https://github.com/jqmviegas/jqm_cvi.git"
      ]
    },
    {
      "cell_type": "markdown",
      "source": [
        "Calculate indices and dump data for further plotting."
      ],
      "metadata": {
        "id": "6Ns78AJBDiCF"
      }
    },
    {
      "cell_type": "code",
      "source": [
        "from sklearn.cluster import KMeans\n",
        "from sklearn.metrics import davies_bouldin_score, silhouette_score\n",
        "from jqmcvi import base\n",
        "import pickle\n",
        "import numpy as np\n",
        "from tqdm.auto import tqdm\n",
        "import json\n",
        "import os\n",
        "\n",
        "# Configurations\n",
        "load_from = 'unsupervised_LLE_138_neighbours_10.pkl'\n",
        "sample_size = 1000\n",
        "n_iterations = 1000\n",
        "calc_dunn = True  # Very slow\n",
        "dump_file = './scores.json'\n",
        "cluster_range = range(2, 10)  # Cluster range for evaluation\n",
        "\n",
        "def get_scores(X, calc_db=True, calc_dunn=True, calc_elbow=True, calc_silhouette=True):\n",
        "  scores = {\n",
        "    'db': [], 'dunn': [], 'elbow': [], 'silhouette': []\n",
        "  }\n",
        "\n",
        "  for n_clusters in cluster_range:\n",
        "    kmeans = KMeans(n_clusters=n_clusters, random_state=42)\n",
        "    labels = kmeans.fit_predict(X)\n",
        "\n",
        "    if calc_db:\n",
        "      scores['db'].append(davies_bouldin_score(X, labels))\n",
        "    if calc_dunn:\n",
        "      points_by_cluster = [X[labels == c] for c in range(n_clusters)]\n",
        "      scores['dunn'].append(base.dunn(points_by_cluster))\n",
        "    if calc_elbow:\n",
        "      scores['elbow'].append(kmeans.inertia_)\n",
        "    if calc_silhouette:\n",
        "      if len(set(labels)) > 1:  # Silhouette score requires at least 2 clusters\n",
        "        scores['silhouette'].append(silhouette_score(X, labels))\n",
        "      else:\n",
        "        scores['silhouette'].append(0.0)  # Invalid case\n",
        "\n",
        "  return scores\n",
        "\n",
        "# Load data\n",
        "with open(load_from, 'rb') as f:\n",
        "  data = pickle.load(f)\n",
        "  X_embedded = data['X_embedded']\n",
        "\n",
        "# Load existing scores or initialize\n",
        "if os.path.isfile(dump_file):\n",
        "  with open(dump_file, 'r') as f:\n",
        "    all_scores = json.load(f)\n",
        "  already_processed = max([len(all_scores[n]) for n in ['db', 'dunn', 'elbow', 'silhouette']])\n",
        "  n_iterations -= already_processed\n",
        "  print(f'Already processed {already_processed}, remaining iterations: {n_iterations}')\n",
        "else:\n",
        "  all_scores = {'db': [], 'dunn': [], 'elbow': [], 'silhouette': []}\n",
        "\n",
        "# Perform clustering and score calculation\n",
        "try:\n",
        "  with tqdm(total=n_iterations) as progress:\n",
        "    for _ in range(n_iterations):\n",
        "      row_indices = np.random.choice(X_embedded.shape[0], size=sample_size, replace=False)\n",
        "      sample = X_embedded[row_indices]\n",
        "      scores = get_scores(sample, calc_dunn=calc_dunn)\n",
        "\n",
        "      for key in all_scores:\n",
        "        if scores[key]:\n",
        "          all_scores[key].append(scores[key])\n",
        "\n",
        "      with open(dump_file, 'w') as out_file:\n",
        "        json.dump(all_scores, out_file)\n",
        "\n",
        "      progress.update()\n",
        "except KeyboardInterrupt:\n",
        "  print(\"Execution stopped by user. Exiting gracefully.\")\n"
      ],
      "metadata": {
        "id": "6jFjJanTILzn",
        "outputId": "e626e5d2-c662-4d84-ff20-b05d700d2ffc",
        "colab": {
          "base_uri": "https://localhost:8080/",
          "height": 66,
          "referenced_widgets": [
            "a6202fc5b6464c04af174ac35e4f751f",
            "1726913472e64a7ab8b4298b6ee0ad75",
            "6b5bf69f9f044c16986c1257729e65d8",
            "a345949c561a4cadbb9351429edc2ab6",
            "fbdebc00f1bb48d987d0686f1e79ed91",
            "e321874860254133837de46728338951",
            "325e75de06494c589de08b0d1e8586d3",
            "70f9a05377b5410baa741fd51d14241b",
            "44acd58f2f4e49d0a621f45d6634ff36",
            "2afa3836be80411988106760a04be82b",
            "88c8ae88f539464b85344fbf7ef2330b"
          ]
        }
      },
      "execution_count": 56,
      "outputs": [
        {
          "output_type": "stream",
          "name": "stdout",
          "text": [
            "Already processed 1000, remaining iterations: 0\n"
          ]
        },
        {
          "output_type": "display_data",
          "data": {
            "text/plain": [
              "0it [00:00, ?it/s]"
            ],
            "application/vnd.jupyter.widget-view+json": {
              "version_major": 2,
              "version_minor": 0,
              "model_id": "a6202fc5b6464c04af174ac35e4f751f"
            }
          },
          "metadata": {}
        }
      ]
    },
    {
      "cell_type": "code",
      "source": [
        "import matplotlib.pyplot as plt\n",
        "import json\n",
        "import numpy as np\n",
        "\n",
        "# Load the scores from file\n",
        "dump_file = './scores.json'\n",
        "\n",
        "with open(dump_file, 'r') as in_file:\n",
        "  all_scores = json.load(in_file)\n",
        "\n",
        "# Convert lists to NumPy arrays and compute means\n",
        "db_scores = np.mean(np.array(all_scores['db']), axis=0)\n",
        "dunn_scores = np.mean(np.array(all_scores['dunn']), axis=0)\n",
        "elbow_scores = np.mean(np.array(all_scores['elbow']), axis=0)\n",
        "silhouette_scores = np.mean(np.array(all_scores['silhouette']), axis=0)\n",
        "\n",
        "clusters = np.arange(2, 10)  # X-axis values\n",
        "\n",
        "# Create subplots (2x2 grid)\n",
        "fig, axes = plt.subplots(2, 2, figsize=(10, 4), sharex=True)\n",
        "fig.suptitle(\"Clustering Scores vs. Number of Clusters\", fontsize=14, fontweight=\"bold\")\n",
        "\n",
        "# Plot Davies-Bouldin Score\n",
        "axes[0, 0].plot(clusters, db_scores, marker='o', linestyle='-', color='b')\n",
        "axes[0, 0].set_ylabel(\"Davies-Bouldin Score\")\n",
        "axes[0, 0].grid(True)\n",
        "\n",
        "# Plot Dunn Score (if available)\n",
        "if np.any(dunn_scores):\n",
        "  axes[0, 1].plot(clusters, dunn_scores, marker='s', linestyle='-', color='r')\n",
        "axes[0, 1].set_ylabel(\"Dunn Score\")\n",
        "axes[0, 1].grid(True)\n",
        "\n",
        "# Plot Elbow Score (Inertia)\n",
        "axes[1, 0].plot(clusters, elbow_scores, marker='d', linestyle='-', color='g')\n",
        "axes[1, 0].set_ylabel(\"Elbow Score\")\n",
        "axes[1, 0].set_xlabel(\"Number of Clusters\")\n",
        "axes[1, 0].grid(True)\n",
        "\n",
        "# Plot Silhouette Score (if available)\n",
        "if np.any(silhouette_scores):\n",
        "  axes[1, 1].plot(clusters, silhouette_scores, marker='^', linestyle='-', color='m')\n",
        "axes[1, 1].set_ylabel(\"Silhouette Score\")\n",
        "axes[1, 1].set_xlabel(\"Number of Clusters\")\n",
        "axes[1, 1].grid(True)\n",
        "\n",
        "plt.tight_layout(rect=[0, 0, 1, 0.96])  # Adjust layout to fit title\n",
        "plt.show()\n"
      ],
      "metadata": {
        "id": "sVLZRBHFLfKY",
        "outputId": "b47675b0-03f2-4fff-cd1d-4c7dca6ad477",
        "colab": {
          "base_uri": "https://localhost:8080/",
          "height": 361
        }
      },
      "execution_count": 58,
      "outputs": [
        {
          "output_type": "display_data",
          "data": {
            "text/plain": [
              "<Figure size 1000x400 with 4 Axes>"
            ],
            "image/png": "[encoded data removed]"
          },
          "metadata": {}
        }
      ]
    }
  ],
  "metadata": {
    "colab": {
      "provenance": [],
      "include_colab_link": true
    },
    "kernelspec": {
      "display_name": "Python 3",
      "name": "python3"
    },
    "language_info": {
      "name": "python"
    },
    "widgets": {
      "application/vnd.jupyter.widget-state+json": {
        "c2be75bbdeb844a0ab4436b6e0ba1230": {
          "model_module": "@jupyter-widgets/controls",
          "model_name": "HBoxModel",
          "model_module_version": "1.5.0",
          "state": {
            "_dom_classes": [],
            "_model_module": "@jupyter-widgets/controls",
            "_model_module_version": "1.5.0",
            "_model_name": "HBoxModel",
            "_view_count": null,
            "_view_module": "@jupyter-widgets/controls",
            "_view_module_version": "1.5.0",
            "_view_name": "HBoxView",
            "box_style": "",
            "children": [
              "IPY_MODEL_3d83438ee6844f21b4c837edecac35e4",
              "IPY_MODEL_8e4dba5686c041b183311eec1ac03e79",
              "IPY_MODEL_d0f596a3c2014d0695aaa97dda8a1e0b"
            ],
            "layout": "IPY_MODEL_71e595ac5d494cc58921b33335bf0458"
          }
        },
        "3d83438ee6844f21b4c837edecac35e4": {
          "model_module": "@jupyter-widgets/controls",
          "model_name": "HTMLModel",
          "model_module_version": "1.5.0",
          "state": {
            "_dom_classes": [],
            "_model_module": "@jupyter-widgets/controls",
            "_model_module_version": "1.5.0",
            "_model_name": "HTMLModel",
            "_view_count": null,
            "_view_module": "@jupyter-widgets/controls",
            "_view_module_version": "1.5.0",
            "_view_name": "HTMLView",
            "description": "",
            "description_tooltip": null,
            "layout": "IPY_MODEL_987ba591899e4154b43859eddba31785",
            "placeholder": "​",
            "style": "IPY_MODEL_01ad83a89f514feab2262d2557b73ddf",
            "value": "100%"
          }
        },
        "8e4dba5686c041b183311eec1ac03e79": {
          "model_module": "@jupyter-widgets/controls",
          "model_name": "FloatProgressModel",
          "model_module_version": "1.5.0",
          "state": {
            "_dom_classes": [],
            "_model_module": "@jupyter-widgets/controls",
            "_model_module_version": "1.5.0",
            "_model_name": "FloatProgressModel",
            "_view_count": null,
            "_view_module": "@jupyter-widgets/controls",
            "_view_module_version": "1.5.0",
            "_view_name": "ProgressView",
            "bar_style": "success",
            "description": "",
            "description_tooltip": null,
            "layout": "IPY_MODEL_aefa8fbc901141818ed870dbd295adeb",
            "max": 20000,
            "min": 0,
            "orientation": "horizontal",
            "style": "IPY_MODEL_ed9142a2cf4f441e8976e294b845d268",
            "value": 20000
          }
        },
        "d0f596a3c2014d0695aaa97dda8a1e0b": {
          "model_module": "@jupyter-widgets/controls",
          "model_name": "HTMLModel",
          "model_module_version": "1.5.0",
          "state": {
            "_dom_classes": [],
            "_model_module": "@jupyter-widgets/controls",
            "_model_module_version": "1.5.0",
            "_model_name": "HTMLModel",
            "_view_count": null,
            "_view_module": "@jupyter-widgets/controls",
            "_view_module_version": "1.5.0",
            "_view_name": "HTMLView",
            "description": "",
            "description_tooltip": null,
            "layout": "IPY_MODEL_6d06774ac86a47dfabd667f6bb614d99",
            "placeholder": "​",
            "style": "IPY_MODEL_c349882a158c4cbb8588354c2049d524",
            "value": " 20000/20000 [00:35&lt;00:00, 1524.26it/s]"
          }
        },
        "71e595ac5d494cc58921b33335bf0458": {
          "model_module": "@jupyter-widgets/base",
          "model_name": "LayoutModel",
          "model_module_version": "1.2.0",
          "state": {
            "_model_module": "@jupyter-widgets/base",
            "_model_module_version": "1.2.0",
            "_model_name": "LayoutModel",
            "_view_count": null,
            "_view_module": "@jupyter-widgets/base",
            "_view_module_version": "1.2.0",
            "_view_name": "LayoutView",
            "align_content": null,
            "align_items": null,
            "align_self": null,
            "border": null,
            "bottom": null,
            "display": null,
            "flex": null,
            "flex_flow": null,
            "grid_area": null,
            "grid_auto_columns": null,
            "grid_auto_flow": null,
            "grid_auto_rows": null,
            "grid_column": null,
            "grid_gap": null,
            "grid_row": null,
            "grid_template_areas": null,
            "grid_template_columns": null,
            "grid_template_rows": null,
            "height": null,
            "justify_content": null,
            "justify_items": null,
            "left": null,
            "margin": null,
            "max_height": null,
            "max_width": null,
            "min_height": null,
            "min_width": null,
            "object_fit": null,
            "object_position": null,
            "order": null,
            "overflow": null,
            "overflow_x": null,
            "overflow_y": null,
            "padding": null,
            "right": null,
            "top": null,
            "visibility": null,
            "width": null
          }
        },
        "987ba591899e4154b43859eddba31785": {
          "model_module": "@jupyter-widgets/base",
          "model_name": "LayoutModel",
          "model_module_version": "1.2.0",
          "state": {
            "_model_module": "@jupyter-widgets/base",
            "_model_module_version": "1.2.0",
            "_model_name": "LayoutModel",
            "_view_count": null,
            "_view_module": "@jupyter-widgets/base",
            "_view_module_version": "1.2.0",
            "_view_name": "LayoutView",
            "align_content": null,
            "align_items": null,
            "align_self": null,
            "border": null,
            "bottom": null,
            "display": null,
            "flex": null,
            "flex_flow": null,
            "grid_area": null,
            "grid_auto_columns": null,
            "grid_auto_flow": null,
            "grid_auto_rows": null,
            "grid_column": null,
            "grid_gap": null,
            "grid_row": null,
            "grid_template_areas": null,
            "grid_template_columns": null,
            "grid_template_rows": null,
            "height": null,
            "justify_content": null,
            "justify_items": null,
            "left": null,
            "margin": null,
            "max_height": null,
            "max_width": null,
            "min_height": null,
            "min_width": null,
            "object_fit": null,
            "object_position": null,
            "order": null,
            "overflow": null,
            "overflow_x": null,
            "overflow_y": null,
            "padding": null,
            "right": null,
            "top": null,
            "visibility": null,
            "width": null
          }
        },
        "01ad83a89f514feab2262d2557b73ddf": {
          "model_module": "@jupyter-widgets/controls",
          "model_name": "DescriptionStyleModel",
          "model_module_version": "1.5.0",
          "state": {
            "_model_module": "@jupyter-widgets/controls",
            "_model_module_version": "1.5.0",
            "_model_name": "DescriptionStyleModel",
            "_view_count": null,
            "_view_module": "@jupyter-widgets/base",
            "_view_module_version": "1.2.0",
            "_view_name": "StyleView",
            "description_width": ""
          }
        },
        "aefa8fbc901141818ed870dbd295adeb": {
          "model_module": "@jupyter-widgets/base",
          "model_name": "LayoutModel",
          "model_module_version": "1.2.0",
          "state": {
            "_model_module": "@jupyter-widgets/base",
            "_model_module_version": "1.2.0",
            "_model_name": "LayoutModel",
            "_view_count": null,
            "_view_module": "@jupyter-widgets/base",
            "_view_module_version": "1.2.0",
            "_view_name": "LayoutView",
            "align_content": null,
            "align_items": null,
            "align_self": null,
            "border": null,
            "bottom": null,
            "display": null,
            "flex": null,
            "flex_flow": null,
            "grid_area": null,
            "grid_auto_columns": null,
            "grid_auto_flow": null,
            "grid_auto_rows": null,
            "grid_column": null,
            "grid_gap": null,
            "grid_row": null,
            "grid_template_areas": null,
            "grid_template_columns": null,
            "grid_template_rows": null,
            "height": null,
            "justify_content": null,
            "justify_items": null,
            "left": null,
            "margin": null,
            "max_height": null,
            "max_width": null,
            "min_height": null,
            "min_width": null,
            "object_fit": null,
            "object_position": null,
            "order": null,
            "overflow": null,
            "overflow_x": null,
            "overflow_y": null,
            "padding": null,
            "right": null,
            "top": null,
            "visibility": null,
            "width": null
          }
        },
        "ed9142a2cf4f441e8976e294b845d268": {
          "model_module": "@jupyter-widgets/controls",
          "model_name": "ProgressStyleModel",
          "model_module_version": "1.5.0",
          "state": {
            "_model_module": "@jupyter-widgets/controls",
            "_model_module_version": "1.5.0",
            "_model_name": "ProgressStyleModel",
            "_view_count": null,
            "_view_module": "@jupyter-widgets/base",
            "_view_module_version": "1.2.0",
            "_view_name": "StyleView",
            "bar_color": null,
            "description_width": ""
          }
        },
        "6d06774ac86a47dfabd667f6bb614d99": {
          "model_module": "@jupyter-widgets/base",
          "model_name": "LayoutModel",
          "model_module_version": "1.2.0",
          "state": {
            "_model_module": "@jupyter-widgets/base",
            "_model_module_version": "1.2.0",
            "_model_name": "LayoutModel",
            "_view_count": null,
            "_view_module": "@jupyter-widgets/base",
            "_view_module_version": "1.2.0",
            "_view_name": "LayoutView",
            "align_content": null,
            "align_items": null,
            "align_self": null,
            "border": null,
            "bottom": null,
            "display": null,
            "flex": null,
            "flex_flow": null,
            "grid_area": null,
            "grid_auto_columns": null,
            "grid_auto_flow": null,
            "grid_auto_rows": null,
            "grid_column": null,
            "grid_gap": null,
            "grid_row": null,
            "grid_template_areas": null,
            "grid_template_columns": null,
            "grid_template_rows": null,
            "height": null,
            "justify_content": null,
            "justify_items": null,
            "left": null,
            "margin": null,
            "max_height": null,
            "max_width": null,
            "min_height": null,
            "min_width": null,
            "object_fit": null,
            "object_position": null,
            "order": null,
            "overflow": null,
            "overflow_x": null,
            "overflow_y": null,
            "padding": null,
            "right": null,
            "top": null,
            "visibility": null,
            "width": null
          }
        },
        "c349882a158c4cbb8588354c2049d524": {
          "model_module": "@jupyter-widgets/controls",
          "model_name": "DescriptionStyleModel",
          "model_module_version": "1.5.0",
          "state": {
            "_model_module": "@jupyter-widgets/controls",
            "_model_module_version": "1.5.0",
            "_model_name": "DescriptionStyleModel",
            "_view_count": null,
            "_view_module": "@jupyter-widgets/base",
            "_view_module_version": "1.2.0",
            "_view_name": "StyleView",
            "description_width": ""
          }
        },
        "a6202fc5b6464c04af174ac35e4f751f": {
          "model_module": "@jupyter-widgets/controls",
          "model_name": "HBoxModel",
          "model_module_version": "1.5.0",
          "state": {
            "_dom_classes": [],
            "_model_module": "@jupyter-widgets/controls",
            "_model_module_version": "1.5.0",
            "_model_name": "HBoxModel",
            "_view_count": null,
            "_view_module": "@jupyter-widgets/controls",
            "_view_module_version": "1.5.0",
            "_view_name": "HBoxView",
            "box_style": "",
            "children": [
              "IPY_MODEL_1726913472e64a7ab8b4298b6ee0ad75",
              "IPY_MODEL_6b5bf69f9f044c16986c1257729e65d8",
              "IPY_MODEL_a345949c561a4cadbb9351429edc2ab6"
            ],
            "layout": "IPY_MODEL_fbdebc00f1bb48d987d0686f1e79ed91"
          }
        },
        "1726913472e64a7ab8b4298b6ee0ad75": {
          "model_module": "@jupyter-widgets/controls",
          "model_name": "HTMLModel",
          "model_module_version": "1.5.0",
          "state": {
            "_dom_classes": [],
            "_model_module": "@jupyter-widgets/controls",
            "_model_module_version": "1.5.0",
            "_model_name": "HTMLModel",
            "_view_count": null,
            "_view_module": "@jupyter-widgets/controls",
            "_view_module_version": "1.5.0",
            "_view_name": "HTMLView",
            "description": "",
            "description_tooltip": null,
            "layout": "IPY_MODEL_e321874860254133837de46728338951",
            "placeholder": "​",
            "style": "IPY_MODEL_325e75de06494c589de08b0d1e8586d3",
            "value": ""
          }
        },
        "6b5bf69f9f044c16986c1257729e65d8": {
          "model_module": "@jupyter-widgets/controls",
          "model_name": "FloatProgressModel",
          "model_module_version": "1.5.0",
          "state": {
            "_dom_classes": [],
            "_model_module": "@jupyter-widgets/controls",
            "_model_module_version": "1.5.0",
            "_model_name": "FloatProgressModel",
            "_view_count": null,
            "_view_module": "@jupyter-widgets/controls",
            "_view_module_version": "1.5.0",
            "_view_name": "ProgressView",
            "bar_style": "success",
            "description": "",
            "description_tooltip": null,
            "layout": "IPY_MODEL_70f9a05377b5410baa741fd51d14241b",
            "max": 1,
            "min": 0,
            "orientation": "horizontal",
            "style": "IPY_MODEL_44acd58f2f4e49d0a621f45d6634ff36",
            "value": 0
          }
        },
        "a345949c561a4cadbb9351429edc2ab6": {
          "model_module": "@jupyter-widgets/controls",
          "model_name": "HTMLModel",
          "model_module_version": "1.5.0",
          "state": {
            "_dom_classes": [],
            "_model_module": "@jupyter-widgets/controls",
            "_model_module_version": "1.5.0",
            "_model_name": "HTMLModel",
            "_view_count": null,
            "_view_module": "@jupyter-widgets/controls",
            "_view_module_version": "1.5.0",
            "_view_name": "HTMLView",
            "description": "",
            "description_tooltip": null,
            "layout": "IPY_MODEL_2afa3836be80411988106760a04be82b",
            "placeholder": "​",
            "style": "IPY_MODEL_88c8ae88f539464b85344fbf7ef2330b",
            "value": " 0/0 [00:00&lt;?, ?it/s]"
          }
        },
        "fbdebc00f1bb48d987d0686f1e79ed91": {
          "model_module": "@jupyter-widgets/base",
          "model_name": "LayoutModel",
          "model_module_version": "1.2.0",
          "state": {
            "_model_module": "@jupyter-widgets/base",
            "_model_module_version": "1.2.0",
            "_model_name": "LayoutModel",
            "_view_count": null,
            "_view_module": "@jupyter-widgets/base",
            "_view_module_version": "1.2.0",
            "_view_name": "LayoutView",
            "align_content": null,
            "align_items": null,
            "align_self": null,
            "border": null,
            "bottom": null,
            "display": null,
            "flex": null,
            "flex_flow": null,
            "grid_area": null,
            "grid_auto_columns": null,
            "grid_auto_flow": null,
            "grid_auto_rows": null,
            "grid_column": null,
            "grid_gap": null,
            "grid_row": null,
            "grid_template_areas": null,
            "grid_template_columns": null,
            "grid_template_rows": null,
            "height": null,
            "justify_content": null,
            "justify_items": null,
            "left": null,
            "margin": null,
            "max_height": null,
            "max_width": null,
            "min_height": null,
            "min_width": null,
            "object_fit": null,
            "object_position": null,
            "order": null,
            "overflow": null,
            "overflow_x": null,
            "overflow_y": null,
            "padding": null,
            "right": null,
            "top": null,
            "visibility": null,
            "width": null
          }
        },
        "e321874860254133837de46728338951": {
          "model_module": "@jupyter-widgets/base",
          "model_name": "LayoutModel",
          "model_module_version": "1.2.0",
          "state": {
            "_model_module": "@jupyter-widgets/base",
            "_model_module_version": "1.2.0",
            "_model_name": "LayoutModel",
            "_view_count": null,
            "_view_module": "@jupyter-widgets/base",
            "_view_module_version": "1.2.0",
            "_view_name": "LayoutView",
            "align_content": null,
            "align_items": null,
            "align_self": null,
            "border": null,
            "bottom": null,
            "display": null,
            "flex": null,
            "flex_flow": null,
            "grid_area": null,
            "grid_auto_columns": null,
            "grid_auto_flow": null,
            "grid_auto_rows": null,
            "grid_column": null,
            "grid_gap": null,
            "grid_row": null,
            "grid_template_areas": null,
            "grid_template_columns": null,
            "grid_template_rows": null,
            "height": null,
            "justify_content": null,
            "justify_items": null,
            "left": null,
            "margin": null,
            "max_height": null,
            "max_width": null,
            "min_height": null,
            "min_width": null,
            "object_fit": null,
            "object_position": null,
            "order": null,
            "overflow": null,
            "overflow_x": null,
            "overflow_y": null,
            "padding": null,
            "right": null,
            "top": null,
            "visibility": null,
            "width": null
          }
        },
        "325e75de06494c589de08b0d1e8586d3": {
          "model_module": "@jupyter-widgets/controls",
          "model_name": "DescriptionStyleModel",
          "model_module_version": "1.5.0",
          "state": {
            "_model_module": "@jupyter-widgets/controls",
            "_model_module_version": "1.5.0",
            "_model_name": "DescriptionStyleModel",
            "_view_count": null,
            "_view_module": "@jupyter-widgets/base",
            "_view_module_version": "1.2.0",
            "_view_name": "StyleView",
            "description_width": ""
          }
        },
        "70f9a05377b5410baa741fd51d14241b": {
          "model_module": "@jupyter-widgets/base",
          "model_name": "LayoutModel",
          "model_module_version": "1.2.0",
          "state": {
            "_model_module": "@jupyter-widgets/base",
            "_model_module_version": "1.2.0",
            "_model_name": "LayoutModel",
            "_view_count": null,
            "_view_module": "@jupyter-widgets/base",
            "_view_module_version": "1.2.0",
            "_view_name": "LayoutView",
            "align_content": null,
            "align_items": null,
            "align_self": null,
            "border": null,
            "bottom": null,
            "display": null,
            "flex": null,
            "flex_flow": null,
            "grid_area": null,
            "grid_auto_columns": null,
            "grid_auto_flow": null,
            "grid_auto_rows": null,
            "grid_column": null,
            "grid_gap": null,
            "grid_row": null,
            "grid_template_areas": null,
            "grid_template_columns": null,
            "grid_template_rows": null,
            "height": null,
            "justify_content": null,
            "justify_items": null,
            "left": null,
            "margin": null,
            "max_height": null,
            "max_width": null,
            "min_height": null,
            "min_width": null,
            "object_fit": null,
            "object_position": null,
            "order": null,
            "overflow": null,
            "overflow_x": null,
            "overflow_y": null,
            "padding": null,
            "right": null,
            "top": null,
            "visibility": null,
            "width": "20px"
          }
        },
        "44acd58f2f4e49d0a621f45d6634ff36": {
          "model_module": "@jupyter-widgets/controls",
          "model_name": "ProgressStyleModel",
          "model_module_version": "1.5.0",
          "state": {
            "_model_module": "@jupyter-widgets/controls",
            "_model_module_version": "1.5.0",
            "_model_name": "ProgressStyleModel",
            "_view_count": null,
            "_view_module": "@jupyter-widgets/base",
            "_view_module_version": "1.2.0",
            "_view_name": "StyleView",
            "bar_color": null,
            "description_width": ""
          }
        },
        "2afa3836be80411988106760a04be82b": {
          "model_module": "@jupyter-widgets/base",
          "model_name": "LayoutModel",
          "model_module_version": "1.2.0",
          "state": {
            "_model_module": "@jupyter-widgets/base",
            "_model_module_version": "1.2.0",
            "_model_name": "LayoutModel",
            "_view_count": null,
            "_view_module": "@jupyter-widgets/base",
            "_view_module_version": "1.2.0",
            "_view_name": "LayoutView",
            "align_content": null,
            "align_items": null,
            "align_self": null,
            "border": null,
            "bottom": null,
            "display": null,
            "flex": null,
            "flex_flow": null,
            "grid_area": null,
            "grid_auto_columns": null,
            "grid_auto_flow": null,
            "grid_auto_rows": null,
            "grid_column": null,
            "grid_gap": null,
            "grid_row": null,
            "grid_template_areas": null,
            "grid_template_columns": null,
            "grid_template_rows": null,
            "height": null,
            "justify_content": null,
            "justify_items": null,
            "left": null,
            "margin": null,
            "max_height": null,
            "max_width": null,
            "min_height": null,
            "min_width": null,
            "object_fit": null,
            "object_position": null,
            "order": null,
            "overflow": null,
            "overflow_x": null,
            "overflow_y": null,
            "padding": null,
            "right": null,
            "top": null,
            "visibility": null,
            "width": null
          }
        },
        "88c8ae88f539464b85344fbf7ef2330b": {
          "model_module": "@jupyter-widgets/controls",
          "model_name": "DescriptionStyleModel",
          "model_module_version": "1.5.0",
          "state": {
            "_model_module": "@jupyter-widgets/controls",
            "_model_module_version": "1.5.0",
            "_model_name": "DescriptionStyleModel",
            "_view_count": null,
            "_view_module": "@jupyter-widgets/base",
            "_view_module_version": "1.2.0",
            "_view_name": "StyleView",
            "description_width": ""
          }
        }
      }
    }
  },
  "nbformat": 4,
  "nbformat_minor": 0
}