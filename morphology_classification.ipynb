{
  "nbformat": 4,
  "nbformat_minor": 0,
  "metadata": {
    "colab": {
      "provenance": [],
      "mount_file_id": "https://github.com/mtsizh/galaxy-morphology-manifold-learning/blob/master/morphology_classification.ipynb",
      "authorship_tag": "ABX9TyOqkCGsHg3Xkrn5VoM57mhk",
      "include_colab_link": true
    },
    "kernelspec": {
      "name": "python3",
      "display_name": "Python 3"
    },
    "language_info": {
      "name": "python"
    },
    "widgets": {
      "application/vnd.jupyter.widget-state+json": {
        "5c0d25565a0a4e1e8673be87cb84d9d3": {
          "model_module": "@jupyter-widgets/controls",
          "model_name": "HBoxModel",
          "model_module_version": "1.5.0",
          "state": {
            "_dom_classes": [],
            "_model_module": "@jupyter-widgets/controls",
            "_model_module_version": "1.5.0",
            "_model_name": "HBoxModel",
            "_view_count": null,
            "_view_module": "@jupyter-widgets/controls",
            "_view_module_version": "1.5.0",
            "_view_name": "HBoxView",
            "box_style": "",
            "children": [
              "IPY_MODEL_d440385cb3b84bb1b08a49e953c71701",
              "IPY_MODEL_0e941aae341746cd83f6e886b9c86333",
              "IPY_MODEL_f59118a3d23d4727b6c41e848190b7b2"
            ],
            "layout": "IPY_MODEL_167c95097b6345fd91d01b3410c8c3c6"
          }
        },
        "d440385cb3b84bb1b08a49e953c71701": {
          "model_module": "@jupyter-widgets/controls",
          "model_name": "HTMLModel",
          "model_module_version": "1.5.0",
          "state": {
            "_dom_classes": [],
            "_model_module": "@jupyter-widgets/controls",
            "_model_module_version": "1.5.0",
            "_model_name": "HTMLModel",
            "_view_count": null,
            "_view_module": "@jupyter-widgets/controls",
            "_view_module_version": "1.5.0",
            "_view_name": "HTMLView",
            "description": "",
            "description_tooltip": null,
            "layout": "IPY_MODEL_57bd65c44575409692ce9275fe3ff166",
            "placeholder": "​",
            "style": "IPY_MODEL_e89854f1d85346978ab105bee0ef2288",
            "value": "100%"
          }
        },
        "0e941aae341746cd83f6e886b9c86333": {
          "model_module": "@jupyter-widgets/controls",
          "model_name": "FloatProgressModel",
          "model_module_version": "1.5.0",
          "state": {
            "_dom_classes": [],
            "_model_module": "@jupyter-widgets/controls",
            "_model_module_version": "1.5.0",
            "_model_name": "FloatProgressModel",
            "_view_count": null,
            "_view_module": "@jupyter-widgets/controls",
            "_view_module_version": "1.5.0",
            "_view_name": "ProgressView",
            "bar_style": "success",
            "description": "",
            "description_tooltip": null,
            "layout": "IPY_MODEL_6a247e134eb8420f845048eb5f2ace88",
            "max": 10000,
            "min": 0,
            "orientation": "horizontal",
            "style": "IPY_MODEL_7be20f13177c4af7b096433a433b9443",
            "value": 10000
          }
        },
        "f59118a3d23d4727b6c41e848190b7b2": {
          "model_module": "@jupyter-widgets/controls",
          "model_name": "HTMLModel",
          "model_module_version": "1.5.0",
          "state": {
            "_dom_classes": [],
            "_model_module": "@jupyter-widgets/controls",
            "_model_module_version": "1.5.0",
            "_model_name": "HTMLModel",
            "_view_count": null,
            "_view_module": "@jupyter-widgets/controls",
            "_view_module_version": "1.5.0",
            "_view_name": "HTMLView",
            "description": "",
            "description_tooltip": null,
            "layout": "IPY_MODEL_6bfff491861c43889be0756d9b477faa",
            "placeholder": "​",
            "style": "IPY_MODEL_3acc7e7642c540f2a0c272b307a3b206",
            "value": " 10000/10000 [00:11&lt;00:00, 1320.13it/s]"
          }
        },
        "167c95097b6345fd91d01b3410c8c3c6": {
          "model_module": "@jupyter-widgets/base",
          "model_name": "LayoutModel",
          "model_module_version": "1.2.0",
          "state": {
            "_model_module": "@jupyter-widgets/base",
            "_model_module_version": "1.2.0",
            "_model_name": "LayoutModel",
            "_view_count": null,
            "_view_module": "@jupyter-widgets/base",
            "_view_module_version": "1.2.0",
            "_view_name": "LayoutView",
            "align_content": null,
            "align_items": null,
            "align_self": null,
            "border": null,
            "bottom": null,
            "display": null,
            "flex": null,
            "flex_flow": null,
            "grid_area": null,
            "grid_auto_columns": null,
            "grid_auto_flow": null,
            "grid_auto_rows": null,
            "grid_column": null,
            "grid_gap": null,
            "grid_row": null,
            "grid_template_areas": null,
            "grid_template_columns": null,
            "grid_template_rows": null,
            "height": null,
            "justify_content": null,
            "justify_items": null,
            "left": null,
            "margin": null,
            "max_height": null,
            "max_width": null,
            "min_height": null,
            "min_width": null,
            "object_fit": null,
            "object_position": null,
            "order": null,
            "overflow": null,
            "overflow_x": null,
            "overflow_y": null,
            "padding": null,
            "right": null,
            "top": null,
            "visibility": null,
            "width": null
          }
        },
        "57bd65c44575409692ce9275fe3ff166": {
          "model_module": "@jupyter-widgets/base",
          "model_name": "LayoutModel",
          "model_module_version": "1.2.0",
          "state": {
            "_model_module": "@jupyter-widgets/base",
            "_model_module_version": "1.2.0",
            "_model_name": "LayoutModel",
            "_view_count": null,
            "_view_module": "@jupyter-widgets/base",
            "_view_module_version": "1.2.0",
            "_view_name": "LayoutView",
            "align_content": null,
            "align_items": null,
            "align_self": null,
            "border": null,
            "bottom": null,
            "display": null,
            "flex": null,
            "flex_flow": null,
            "grid_area": null,
            "grid_auto_columns": null,
            "grid_auto_flow": null,
            "grid_auto_rows": null,
            "grid_column": null,
            "grid_gap": null,
            "grid_row": null,
            "grid_template_areas": null,
            "grid_template_columns": null,
            "grid_template_rows": null,
            "height": null,
            "justify_content": null,
            "justify_items": null,
            "left": null,
            "margin": null,
            "max_height": null,
            "max_width": null,
            "min_height": null,
            "min_width": null,
            "object_fit": null,
            "object_position": null,
            "order": null,
            "overflow": null,
            "overflow_x": null,
            "overflow_y": null,
            "padding": null,
            "right": null,
            "top": null,
            "visibility": null,
            "width": null
          }
        },
        "e89854f1d85346978ab105bee0ef2288": {
          "model_module": "@jupyter-widgets/controls",
          "model_name": "DescriptionStyleModel",
          "model_module_version": "1.5.0",
          "state": {
            "_model_module": "@jupyter-widgets/controls",
            "_model_module_version": "1.5.0",
            "_model_name": "DescriptionStyleModel",
            "_view_count": null,
            "_view_module": "@jupyter-widgets/base",
            "_view_module_version": "1.2.0",
            "_view_name": "StyleView",
            "description_width": ""
          }
        },
        "6a247e134eb8420f845048eb5f2ace88": {
          "model_module": "@jupyter-widgets/base",
          "model_name": "LayoutModel",
          "model_module_version": "1.2.0",
          "state": {
            "_model_module": "@jupyter-widgets/base",
            "_model_module_version": "1.2.0",
            "_model_name": "LayoutModel",
            "_view_count": null,
            "_view_module": "@jupyter-widgets/base",
            "_view_module_version": "1.2.0",
            "_view_name": "LayoutView",
            "align_content": null,
            "align_items": null,
            "align_self": null,
            "border": null,
            "bottom": null,
            "display": null,
            "flex": null,
            "flex_flow": null,
            "grid_area": null,
            "grid_auto_columns": null,
            "grid_auto_flow": null,
            "grid_auto_rows": null,
            "grid_column": null,
            "grid_gap": null,
            "grid_row": null,
            "grid_template_areas": null,
            "grid_template_columns": null,
            "grid_template_rows": null,
            "height": null,
            "justify_content": null,
            "justify_items": null,
            "left": null,
            "margin": null,
            "max_height": null,
            "max_width": null,
            "min_height": null,
            "min_width": null,
            "object_fit": null,
            "object_position": null,
            "order": null,
            "overflow": null,
            "overflow_x": null,
            "overflow_y": null,
            "padding": null,
            "right": null,
            "top": null,
            "visibility": null,
            "width": null
          }
        },
        "7be20f13177c4af7b096433a433b9443": {
          "model_module": "@jupyter-widgets/controls",
          "model_name": "ProgressStyleModel",
          "model_module_version": "1.5.0",
          "state": {
            "_model_module": "@jupyter-widgets/controls",
            "_model_module_version": "1.5.0",
            "_model_name": "ProgressStyleModel",
            "_view_count": null,
            "_view_module": "@jupyter-widgets/base",
            "_view_module_version": "1.2.0",
            "_view_name": "StyleView",
            "bar_color": null,
            "description_width": ""
          }
        },
        "6bfff491861c43889be0756d9b477faa": {
          "model_module": "@jupyter-widgets/base",
          "model_name": "LayoutModel",
          "model_module_version": "1.2.0",
          "state": {
            "_model_module": "@jupyter-widgets/base",
            "_model_module_version": "1.2.0",
            "_model_name": "LayoutModel",
            "_view_count": null,
            "_view_module": "@jupyter-widgets/base",
            "_view_module_version": "1.2.0",
            "_view_name": "LayoutView",
            "align_content": null,
            "align_items": null,
            "align_self": null,
            "border": null,
            "bottom": null,
            "display": null,
            "flex": null,
            "flex_flow": null,
            "grid_area": null,
            "grid_auto_columns": null,
            "grid_auto_flow": null,
            "grid_auto_rows": null,
            "grid_column": null,
            "grid_gap": null,
            "grid_row": null,
            "grid_template_areas": null,
            "grid_template_columns": null,
            "grid_template_rows": null,
            "height": null,
            "justify_content": null,
            "justify_items": null,
            "left": null,
            "margin": null,
            "max_height": null,
            "max_width": null,
            "min_height": null,
            "min_width": null,
            "object_fit": null,
            "object_position": null,
            "order": null,
            "overflow": null,
            "overflow_x": null,
            "overflow_y": null,
            "padding": null,
            "right": null,
            "top": null,
            "visibility": null,
            "width": null
          }
        },
        "3acc7e7642c540f2a0c272b307a3b206": {
          "model_module": "@jupyter-widgets/controls",
          "model_name": "DescriptionStyleModel",
          "model_module_version": "1.5.0",
          "state": {
            "_model_module": "@jupyter-widgets/controls",
            "_model_module_version": "1.5.0",
            "_model_name": "DescriptionStyleModel",
            "_view_count": null,
            "_view_module": "@jupyter-widgets/base",
            "_view_module_version": "1.2.0",
            "_view_name": "StyleView",
            "description_width": ""
          }
        }
      }
    }
  },
  "cells": [
    {
      "cell_type": "markdown",
      "metadata": {
        "id": "view-in-github",
        "colab_type": "text"
      },
      "source": [
        "<a href=\"https://colab.research.google.com/github/mtsizh/galaxy-morphology-manifold-learning/blob/main/morphology_classification.ipynb\" target=\"_parent\"><img src=\"https://colab.research.google.com/assets/colab-badge.svg\" alt=\"Open In Colab\"/></a>"
      ]
    },
    {
      "cell_type": "markdown",
      "source": [
        "You can either upload your own `curated_imgs.zip` or use the following code to download it from our repository."
      ],
      "metadata": {
        "id": "TdcyFMnJyU8t"
      }
    },
    {
      "cell_type": "code",
      "source": [
        "!wget -q https://raw.githubusercontent.com/mtsizh/galaxy-morphology-manifold-learning/main/curated_dataset/curated_imgs_multipart.zip && echo \"HEAD dowloaded\" || \"ERROR downloading HEAD\"\n",
        "\n",
        "for i in range(1,8):\n",
        "  !wget -q https://raw.githubusercontent.com/mtsizh/galaxy-morphology-manifold-learning/main/curated_dataset/curated_imgs_multipart.z0{i}  && echo \"PART {i} of 7 OK\" || \"ERROR downloading PART {i}\"\n",
        "\n",
        "print('MERGING PARTS')\n",
        "!zip -FF curated_imgs_multipart.zip --out curated_imgs.zip > /dev/null && rm curated_imgs_multipart.z* && echo \"COMPLETE\" || \"FAILED\"\n",
        "\n",
        "!unzip -q -o curated_imgs.zip && echo \"UNZIPPED\" || \"FAIL\""
      ],
      "metadata": {
        "colab": {
          "base_uri": "https://localhost:8080/"
        },
        "id": "peMXLfox98FW",
        "outputId": "53be123d-64a9-4f81-8c24-06ef7bb279f0"
      },
      "execution_count": 1,
      "outputs": [
        {
          "output_type": "stream",
          "name": "stdout",
          "text": [
            "HEAD dowloaded\n",
            "PART 1 of 7 OK\n",
            "PART 2 of 7 OK\n",
            "PART 3 of 7 OK\n",
            "PART 4 of 7 OK\n",
            "PART 5 of 7 OK\n",
            "PART 6 of 7 OK\n",
            "PART 7 of 7 OK\n",
            "MERGING PARTS\n",
            "COMPLETE\n",
            "UNZIPPED\n"
          ]
        }
      ]
    },
    {
      "cell_type": "markdown",
      "source": [
        "You can process data by LLE creating dataset with reduced dimension. Result will be saved into pickle file, expected size ~30Mb. You can download it if you wish for processing.\n",
        "\n",
        "Processing takes ~30 min, so you may want to use precomputed results (see the next block of code)"
      ],
      "metadata": {
        "id": "e48c7Mv4Htg6"
      }
    },
    {
      "cell_type": "code",
      "source": [
        "import pandas as pd\n",
        "import numpy as np\n",
        "from sklearn.manifold import LocallyLinearEmbedding\n",
        "from tqdm.auto import tqdm\n",
        "from PIL import Image\n",
        "import pickle\n",
        "\n",
        "\n",
        "# use different class maps to get different plots\n",
        "class_map = {1: 'round', 2: 'inbetween', 3: 'cigar'}\n",
        "#class_map = {4: 'edge on', 5: 'edge off'}\n",
        "#class_map = {6: 'smooth', 7: 'featured'}\n",
        "n_neighbors = 10\n",
        "n_components = 138\n",
        "n_bootstrap_samples = 20000\n",
        "\n",
        "\n",
        "df = pd.read_parquet('curated_dataset.parquet')\n",
        "regex_filter = '|'.join(class_map.values())\n",
        "filtered_df = df[df['class'].str.contains(regex_filter, regex=True)]\n",
        "bootstrapped_df = filtered_df.sample(n=n_bootstrap_samples)\n",
        "X = np.zeros((len(bootstrapped_df), 120, 120))\n",
        "y = np.zeros(len(bootstrapped_df))\n",
        "\n",
        "\n",
        "for key, val in class_map.items():\n",
        "  y[bootstrapped_df['class'].str.contains(val, regex=True)] = key\n",
        "\n",
        "print('LOAD IMAGES')\n",
        "paths = bootstrapped_df['png_loc'].str.replace('dr5', 'curated_imgs')\n",
        "with tqdm(total=len(paths)) as progress:\n",
        "  for idx, file_path in enumerate(paths):\n",
        "    with Image.open(file_path) as img:\n",
        "      X[idx,:,:] = np.array(img)\n",
        "      progress.update()\n",
        "\n",
        "print('CALCULATE LLE')\n",
        "X_flattened = X.reshape(X.shape[0], -1)\n",
        "lle = LocallyLinearEmbedding(n_neighbors=n_neighbors, n_components=n_components)\n",
        "X_embedded = lle.fit_transform(X_flattened)\n",
        "\n",
        "cname = '_'.join(class_map.values())\n",
        "out_file = f'{cname}_LLE_{n_components}_neighbours_{n_neighbors}.pkl'.replace(' ', '_')\n",
        "print('SAVING to: ', out_file)\n",
        "with open(out_file, 'wb') as f:\n",
        "  pickle.dump({'X_embedded': X_embedded, 'y': y, 'class_map': class_map}, f)\n",
        "print('COMPLETE')"
      ],
      "metadata": {
        "colab": {
          "base_uri": "https://localhost:8080/",
          "height": 118,
          "referenced_widgets": [
            "5c0d25565a0a4e1e8673be87cb84d9d3",
            "d440385cb3b84bb1b08a49e953c71701",
            "0e941aae341746cd83f6e886b9c86333",
            "f59118a3d23d4727b6c41e848190b7b2",
            "167c95097b6345fd91d01b3410c8c3c6",
            "57bd65c44575409692ce9275fe3ff166",
            "e89854f1d85346978ab105bee0ef2288",
            "6a247e134eb8420f845048eb5f2ace88",
            "7be20f13177c4af7b096433a433b9443",
            "6bfff491861c43889be0756d9b477faa",
            "3acc7e7642c540f2a0c272b307a3b206"
          ]
        },
        "id": "k7E1unhHZWto",
        "outputId": "3efd4cfe-52c7-4268-b45e-351b53874edf"
      },
      "execution_count": 7,
      "outputs": [
        {
          "output_type": "stream",
          "name": "stdout",
          "text": [
            "LOAD IMAGES\n"
          ]
        },
        {
          "output_type": "display_data",
          "data": {
            "text/plain": [
              "  0%|          | 0/10000 [00:00<?, ?it/s]"
            ],
            "application/vnd.jupyter.widget-view+json": {
              "version_major": 2,
              "version_minor": 0,
              "model_id": "5c0d25565a0a4e1e8673be87cb84d9d3"
            }
          },
          "metadata": {}
        },
        {
          "output_type": "stream",
          "name": "stdout",
          "text": [
            "CALCULATE LLE\n",
            "SAVING to:  no_spiral_arms_has_spiral_arms_LLE_138_neighbours_10.pkl\n",
            "COMPLETE\n"
          ]
        }
      ]
    },
    {
      "cell_type": "markdown",
      "source": [
        "You can download precomputed embeddings\n",
        "\n",
        "|filename|dimesions|neighbors|bootstrap|\n",
        "|---|---|---|---|\n",
        "edge_on_edge_off_LLE_138_neighbours_10.pkl | 138 | 10 | 20K|\n",
        "round_inbetween_cigar_LLE_138_neighbours_10.pkl | 138 | 10 | 20K|\n",
        "smooth_featured_LLE_138_neighbours_10.pkl | 138 | 10 | 20K|\n",
        "\n"
      ],
      "metadata": {
        "id": "m5-ueupFmpHX"
      }
    },
    {
      "cell_type": "code",
      "source": [
        "!wget https://raw.githubusercontent.com/mtsizh/galaxy-morphology-manifold-learning/main/embeddings/edge_on_edge_off_LLE_138_neighbours_10.pkl\n",
        "!wget https://raw.githubusercontent.com/mtsizh/galaxy-morphology-manifold-learning/main/embeddings/round_inbetween_cigar_LLE_138_neighbours_10.pkl\n",
        "!wget https://raw.githubusercontent.com/mtsizh/galaxy-morphology-manifold-learning/main/embeddings/smooth_featured_LLE_138_neighbours_10.pkl\n"
      ],
      "metadata": {
        "colab": {
          "base_uri": "https://localhost:8080/"
        },
        "id": "111Y8Wrems-x",
        "outputId": "6f1834de-0eb8-413b-8cc0-d47b8ae0356e"
      },
      "execution_count": 9,
      "outputs": [
        {
          "output_type": "stream",
          "name": "stdout",
          "text": [
            "--2025-02-26 13:50:08--  https://raw.githubusercontent.com/mtsizh/galaxy-morphology-manifold-learning/main/embeddings/edge_on_edge_off_LLE_138_neighbours_10.pkl\n",
            "Resolving raw.githubusercontent.com (raw.githubusercontent.com)... 185.199.108.133, 185.199.111.133, 185.199.109.133, ...\n",
            "Connecting to raw.githubusercontent.com (raw.githubusercontent.com)|185.199.108.133|:443... connected.\n",
            "HTTP request sent, awaiting response... 200 OK\n",
            "Length: 22240267 (21M) [application/octet-stream]\n",
            "Saving to: ‘edge_on_edge_off_LLE_138_neighbours_10.pkl’\n",
            "\n",
            "edge_on_edge_off_LL 100%[===================>]  21.21M  --.-KB/s    in 0.1s    \n",
            "\n",
            "2025-02-26 13:50:09 (143 MB/s) - ‘edge_on_edge_off_LLE_138_neighbours_10.pkl’ saved [22240267/22240267]\n",
            "\n",
            "--2025-02-26 13:50:09--  https://raw.githubusercontent.com/mtsizh/galaxy-morphology-manifold-learning/main/embeddings/round_inbetween_cigar_LLE_138_neighbours_10.pkl\n",
            "Resolving raw.githubusercontent.com (raw.githubusercontent.com)... 185.199.108.133, 185.199.109.133, 185.199.110.133, ...\n",
            "Connecting to raw.githubusercontent.com (raw.githubusercontent.com)|185.199.108.133|:443... connected.\n",
            "HTTP request sent, awaiting response... 200 OK\n",
            "Length: 22240276 (21M) [application/octet-stream]\n",
            "Saving to: ‘round_inbetween_cigar_LLE_138_neighbours_10.pkl’\n",
            "\n",
            "round_inbetween_cig 100%[===================>]  21.21M  --.-KB/s    in 0.1s    \n",
            "\n",
            "2025-02-26 13:50:10 (153 MB/s) - ‘round_inbetween_cigar_LLE_138_neighbours_10.pkl’ saved [22240276/22240276]\n",
            "\n",
            "--2025-02-26 13:50:10--  https://raw.githubusercontent.com/mtsizh/galaxy-morphology-manifold-learning/main/embeddings/smooth_featured_LLE_138_neighbours_10.pkl\n",
            "Resolving raw.githubusercontent.com (raw.githubusercontent.com)... 185.199.108.133, 185.199.109.133, 185.199.110.133, ...\n",
            "Connecting to raw.githubusercontent.com (raw.githubusercontent.com)|185.199.108.133|:443... connected.\n",
            "HTTP request sent, awaiting response... 200 OK\n",
            "Length: 22240266 (21M) [application/octet-stream]\n",
            "Saving to: ‘smooth_featured_LLE_138_neighbours_10.pkl’\n",
            "\n",
            "smooth_featured_LLE 100%[===================>]  21.21M  --.-KB/s    in 0.1s    \n",
            "\n",
            "2025-02-26 13:50:10 (145 MB/s) - ‘smooth_featured_LLE_138_neighbours_10.pkl’ saved [22240266/22240266]\n",
            "\n"
          ]
        }
      ]
    },
    {
      "cell_type": "markdown",
      "source": [
        "Train classifier and draw confusion matrix. Data is taken from the appropriate pickle file."
      ],
      "metadata": {
        "id": "0PGbfYPMoHpt"
      }
    },
    {
      "cell_type": "code",
      "source": [
        "import numpy as np\n",
        "from sklearn.model_selection import train_test_split\n",
        "from sklearn.preprocessing import StandardScaler\n",
        "from sklearn.linear_model import LogisticRegression\n",
        "from sklearn.metrics import confusion_matrix, ConfusionMatrixDisplay\n",
        "import matplotlib.pyplot as plt\n",
        "import pickle\n",
        "from sklearn.metrics import classification_report\n",
        "import pandas as pd\n",
        "import seaborn as sns\n",
        "\n",
        "\n",
        "# set correct filename to load embedding data\n",
        "load_from = 'round_inbetween_cigar_LLE_138_neighbours_10.pkl'\n",
        "\n",
        "\n",
        "# helper function for visuals\n",
        "def draw_heatmap_with_info(y_test, y_pred, width, height, clsnames):\n",
        "    cm = confusion_matrix(y_test, y_pred, labels=list(clsnames.keys()))\n",
        "    cm_df = pd.DataFrame(cm, index=list(clsnames.values()), columns=list(clsnames.values()))\n",
        "\n",
        "    class_report = classification_report(y_test, y_pred, output_dict=True, target_names=list(clsnames.values()))\n",
        "    class_report_df = pd.DataFrame(class_report).transpose()\n",
        "    class_report_df['support'] = class_report_df['support'].astype(int)\n",
        "\n",
        "    fig, axes = plt.subplots(1, 2, figsize=(width, height))\n",
        "    sns.heatmap(cm_df, annot=True, fmt=\"d\", cmap=\"Blues\", ax=axes[0])\n",
        "    axes[0].set_title(\"Confusion Matrix\")\n",
        "    axes[0].set_xlabel(\"Predicted\")\n",
        "    axes[0].set_ylabel(\"Actual\")\n",
        "    axes[1].axis('off')\n",
        "    table = axes[1].table(\n",
        "        cellText=class_report_df.map(lambda x: f\"{x:.2f}\" if isinstance(x, float) else x).values,\n",
        "        rowLabels=class_report_df.index,\n",
        "        colLabels=class_report_df.columns,\n",
        "        cellLoc=\"center\",\n",
        "        loc=\"center\",\n",
        "    )\n",
        "    table.scale(1, 2)\n",
        "    axes[1].set_title(\"Classification Report\")\n",
        "    plt.tight_layout()\n",
        "    plt.show()\n",
        "\n",
        "\n",
        "with open(load_from, 'rb') as f:\n",
        "  data = pickle.load(f)\n",
        "  X_embedded = data['X_embedded']\n",
        "  y = data['y']\n",
        "  class_map = data['class_map']\n",
        "\n",
        "# Split dataset into train/test sets\n",
        "X_train, X_test, y_train, y_test = train_test_split(X_embedded, y, test_size=0.3, random_state=42, stratify=y)\n",
        "\n",
        "# Normalize features\n",
        "scaler = StandardScaler()\n",
        "X_train = scaler.fit_transform(X_train)\n",
        "X_test = scaler.transform(X_test)\n",
        "\n",
        "# Fit multinomial logistic regression\n",
        "model = LogisticRegression(solver='lbfgs', max_iter=1000, random_state=42)\n",
        "model.fit(X_train, y_train)\n",
        "\n",
        "# Make predictions\n",
        "y_pred = model.predict(X_test)\n",
        "\n",
        "# Generate confusion matrix\n",
        "draw_heatmap_with_info(y_test, y_pred, width=8, height=3.6, clsnames=class_map)"
      ],
      "metadata": {
        "colab": {
          "base_uri": "https://localhost:8080/",
          "height": 367
        },
        "id": "ReGgJ1_Q3YI6",
        "outputId": "41060493-8a80-4367-fad8-4fe5fdf3b7ec"
      },
      "execution_count": 10,
      "outputs": [
        {
          "output_type": "display_data",
          "data": {
            "text/plain": [
              "<Figure size 800x360 with 3 Axes>"
            ],
            "image/png": "[encoded data removed]"
          },
          "metadata": {}
        }
      ]
    }
  ]
}