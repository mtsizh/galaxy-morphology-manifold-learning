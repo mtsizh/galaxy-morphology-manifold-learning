{
  "nbformat": 4,
  "nbformat_minor": 0,
  "metadata": {
    "colab": {
      "provenance": [],
      "authorship_tag": "ABX9TyPWNY1rPquJOI4JcDwJNKWy",
      "include_colab_link": true
    },
    "kernelspec": {
      "name": "python3",
      "display_name": "Python 3"
    },
    "language_info": {
      "name": "python"
    }
  },
  "cells": [
    {
      "cell_type": "markdown",
      "metadata": {
        "id": "view-in-github",
        "colab_type": "text"
      },
      "source": [
        "<a href=\"https://colab.research.google.com/github/mtsizh/galaxy-morphology-manifold-learning/blob/main/curate_dataset.ipynb\" target=\"_parent\"><img src=\"https://colab.research.google.com/assets/colab-badge.svg\" alt=\"Open In Colab\"/></a>"
      ]
    },
    {
      "cell_type": "markdown",
      "source": [
        "The code below downloads `gz_decals_volunteers_5.parquet` dataset and curates. We use only these datapoints where there were enough answers and high confidence."
      ],
      "metadata": {
        "id": "grURRklstXjv"
      }
    },
    {
      "cell_type": "code",
      "source": [
        "#@title Download and curate table\n",
        "\n",
        "from functools import partial\n",
        "import operator\n",
        "import numpy as np\n",
        "import pandas as pd\n",
        "\n",
        "print('DOWNLOADING TABLE')\n",
        "!if [ ! -f \"gz_decals_volunteers_5.parquet\" ]; then wget https://zenodo.org/records/4573248/files/gz_decals_volunteers_5.parquet; fi\n",
        "\n",
        "df = pd.read_parquet('gz_decals_volunteers_5.parquet')\n",
        "working_columns = ['iauname',\n",
        "                   'png_loc',\n",
        "                   'smooth-or-featured_smooth_fraction',\n",
        "                   'smooth-or-featured_total-votes',\n",
        "                   'has-spiral-arms_yes_fraction',\n",
        "                   'has-spiral-arms_total-votes',\n",
        "                   'how-rounded_total-votes',\n",
        "                   'how-rounded_round_fraction',\n",
        "                   'how-rounded_in-between_fraction',\n",
        "                   'how-rounded_cigar-shaped_fraction',\n",
        "                   'disk-edge-on_total-votes',\n",
        "                   'disk-edge-on_yes_fraction',\n",
        "                   'disk-edge-on_no_fraction']\n",
        "\n",
        "\n",
        "df = df[working_columns] # remove unnecessary columns\n",
        "df['class'] = \"\" # add class column\n",
        "\n",
        "lt = lambda x : np.isfinite and partial(operator.gt, x)\n",
        "gt = lambda x : np.isfinite and partial(operator.lt, x)\n",
        "\n",
        "conditions = {\n",
        "    'has spiral arms': {'has-spiral-arms_yes_fraction': gt(0.8),\n",
        "                        'has-spiral-arms_total-votes': gt(15)},\n",
        "    'no spiral arms': {'has-spiral-arms_yes_fraction': lt(0.2),\n",
        "                       'has-spiral-arms_total-votes': gt(15)},\n",
        "    'round': {'how-rounded_round_fraction': gt(0.8),\n",
        "              'how-rounded_total-votes': gt(10)},\n",
        "    'inbetween': {'how-rounded_in-between_fraction': gt(0.8),\n",
        "                  'how-rounded_total-votes': gt(10)},\n",
        "    'cigar': {'how-rounded_cigar-shaped_fraction': gt(0.8),\n",
        "              'how-rounded_total-votes': gt(10)},\n",
        "    'edge on': {'disk-edge-on_yes_fraction': gt(0.8),\n",
        "                'disk-edge-on_total-votes': gt(10)},\n",
        "    'edge off': {'disk-edge-on_no_fraction': gt(0.8),\n",
        "                 'disk-edge-on_total-votes': gt(10)},\n",
        "    'smooth': {'smooth-or-featured_smooth_fraction': gt(0.8),\n",
        "               'smooth-or-featured_total-votes': gt(10)},\n",
        "    'featured': {'smooth-or-featured_smooth_fraction': lt(0.2),\n",
        "                 'smooth-or-featured_total-votes': gt(10)}\n",
        "}\n",
        "\n",
        "for class_name, cond_rules in conditions.items():\n",
        "  bool_arr = np.ones(len(df), dtype=bool)\n",
        "  for col, condition_func in cond_rules.items():\n",
        "    bool_arr &= condition_func(df[col])\n",
        "  df.loc[bool_arr, 'class'] += f', {class_name}'\n",
        "\n",
        "df['class'] = df['class'].str.lstrip(',')\n",
        "df = df[df['class'] != \"\"] #remove unclassified\n",
        "\n",
        "print('SAVING CURATED TABLE')\n",
        "df.to_parquet('curated_dataset.parquet', index=False)"
      ],
      "metadata": {
        "colab": {
          "base_uri": "https://localhost:8080/"
        },
        "id": "LMZYjIHikF5M",
        "outputId": "29c14baa-f357-4884-f079-a9bdd10fc4fb",
        "cellView": "form"
      },
      "execution_count": 1,
      "outputs": [
        {
          "output_type": "stream",
          "name": "stdout",
          "text": [
            "DOWNLOADING TABLE\n",
            "--2025-02-15 20:41:53--  https://zenodo.org/records/4573248/files/gz_decals_volunteers_5.parquet\n",
            "Resolving zenodo.org (zenodo.org)... 188.185.48.194, 188.185.43.25, 188.185.45.92, ...\n",
            "Connecting to zenodo.org (zenodo.org)|188.185.48.194|:443... connected.\n",
            "HTTP request sent, awaiting response... 200 OK\n",
            "Length: 40528939 (39M) [application/octet-stream]\n",
            "Saving to: ‘gz_decals_volunteers_5.parquet’\n",
            "\n",
            "gz_decals_volunteer 100%[===================>]  38.65M  11.9MB/s    in 4.1s    \n",
            "\n",
            "2025-02-15 20:41:58 (9.32 MB/s) - ‘gz_decals_volunteers_5.parquet’ saved [40528939/40528939]\n",
            "\n",
            "SAVING CURATED TABLE\n"
          ]
        }
      ]
    },
    {
      "cell_type": "markdown",
      "source": [
        "Downloading and curating images based on curated table. Please note, the procedure is quite slow (downloading 4 parts x 20 min per part). Images are cropped to 120 x 120 central part. The result is archived in case you want to download it (final size will be approximately 400 Mb, the whole dataset is 4 parts x 20 Gb each)."
      ],
      "metadata": {
        "id": "Jj5CXfAVtuEY"
      }
    },
    {
      "cell_type": "code",
      "source": [
        "#@title Download and curate images\n",
        "import zipfile\n",
        "import pandas as pd\n",
        "import os\n",
        "from tqdm.auto import tqdm\n",
        "import pathlib\n",
        "\n",
        "df = pd.read_parquet('curated_dataset.parquet')\n",
        "all_files = df['png_loc'].tolist()\n",
        "all_files = [str(pathlib.Path(*pathlib.Path(f).parts[1:])) for f in all_files]\n",
        "\n",
        "save_to_dir = 'curated_imgs'\n",
        "if not os.path.exists(save_to_dir):\n",
        "  os.makedirs(save_to_dir, exist_ok=True)\n",
        "\n",
        "parts_urls = [\n",
        "    'https://zenodo.org/records/4573248/files/gz_decals_dr5_png_part1.zip',\n",
        "    'https://zenodo.org/records/4573248/files/gz_decals_dr5_png_part2.zip',\n",
        "    'https://zenodo.org/records/4573248/files/gz_decals_dr5_png_part3.zip',\n",
        "    'https://zenodo.org/records/4573248/files/gz_decals_dr5_png_part4.zip'\n",
        "]\n",
        "\n",
        "for part_idx, url in enumerate(parts_urls):\n",
        "  print(f'PART {part_idx+1} of {len(parts_urls)}')\n",
        "  _, filename = os.path.split(url)\n",
        "  if not os.path.isfile(filename):\n",
        "    !wget {url}\n",
        "  if not os.path.isfile(filename):\n",
        "    print(f'ERROR LOADING PART {part_idx+1}')\n",
        "    continue\n",
        "  print(f'UNZIPPING {filename}')\n",
        "  with zipfile.ZipFile(filename) as z:\n",
        "    files_in_part = list(set(all_files) & set(z.namelist()))\n",
        "    with tqdm(total=len(files_in_part)) as progress:\n",
        "      for filename1 in files_in_part:\n",
        "        full_path = os.path.join(save_to_dir, filename1)\n",
        "        path = pathlib.Path(full_path)\n",
        "        path.parent.mkdir(parents=True, exist_ok=True)\n",
        "        with open(full_path, 'wb') as f:\n",
        "          f.write(z.read(filename1))\n",
        "        progress.update()\n",
        "  print('FILES EXTRACTED')\n",
        "  !rm {filename}\n",
        "\n",
        "from PIL import Image\n",
        "\n",
        "# Define the cropping function\n",
        "def crop_center(image, crop_width, crop_height):\n",
        "    width, height = image.size\n",
        "    left = (width - crop_width) // 2\n",
        "    top = (height - crop_height) // 2\n",
        "    right = left + crop_width\n",
        "    bottom = top + crop_height\n",
        "    return image.crop((left, top, right, bottom))\n",
        "\n",
        "def count_files(folder):\n",
        "    count = 0\n",
        "    for root, _, files in os.walk(folder):\n",
        "        count += len(files)\n",
        "    return count\n",
        "\n",
        "print('CROPPING IMAGES to 120x120')\n",
        "with tqdm(total=count_files(save_to_dir)) as progress:\n",
        "  for root, _, files in os.walk(save_to_dir):\n",
        "      for file in files:\n",
        "          file_path = os.path.join(root, file)\n",
        "          with Image.open(file_path) as img:\n",
        "            gray_img = img.convert(\"L\")\n",
        "            cropped_img = crop_center(gray_img, 120, 120)\n",
        "            cropped_img.save(file_path)\n",
        "            progress.update()\n",
        "\n",
        "print('ZIPPING just in case')\n",
        "!zip -q -r curated_imgs.zip curated_imgs curated_dataset.parquet && echo \"zipped\" || echo \"zip error\"\n",
        "\n",
        "print('PROCESSING COMPLETE!')"
      ],
      "metadata": {
        "colab": {
          "base_uri": "https://localhost:8080/",
          "height": 1000,
          "referenced_widgets": [
            "76316d0499074cb48d699ab5976ded89",
            "1650bace2ffc404f8b4af6a4c5c19f3c",
            "29a6b04cde954ed0b9936149d666bc8a",
            "e9a6331163d740838d2df1fc3fbcc70f",
            "c8fba23e549041c78df43cf502007892",
            "3aaf80db699f458f821f4ffea7206e6b",
            "676c574d19644a109f7a27976b4aa298",
            "b4dbcde1b586464dac1c686c509300ed",
            "0bbfb455c8e94a54a1b72cbf001c5cdb",
            "c350256c582e4cd68ed4c9a6eafb5226",
            "bfd23c5ddf814b6091e8a546244a8361",
            "ec29a6abae3e4006ba1336b3edaa26ea",
            "b5456ba1794f4ce5b7c56c18c79dd3be",
            "0d4b310b62424ec7a74159021aec5d7d",
            "9e6462378c6645fa9c61313af4bf8b45",
            "c9512a7435634617a9a79c8df78ecf45",
            "9404bef9b7cf4a4bae696957eb540acb",
            "336c4be601a24233859dab775d5b9924",
            "25f01eaa1ab24e05b76f65b18af88b8d",
            "deb5e02f276c4118b2958d881683a116",
            "e7ceb34b823e4e20810b1f1c91f522b0",
            "631c346a3582476380e3979a05e92f43",
            "af092842d48e46c181986ef151d742e7",
            "8b02b87708204f7b9743c9b723e5b721",
            "5402ffeb3e5e4fac9f5666fe2c44d8e5",
            "8505abe78dba4a5294992c915d7332fe",
            "0b3e8aac714d405ea87fd8c0f6df3756",
            "a473341a20514fb89be5f52c9a7c6ba9",
            "41169d60902f48178a4236842c38603a",
            "e0f92c8d46ee45c08d28a563336c3b07",
            "7fd28b315e114b42b88294f140284a49",
            "eb6fd8c6a8364839ac2e5ca85b4505ad",
            "099e7315a23d4443a7d99c90edca831e",
            "6fb2cd62f1e14f6c907eaecb50337860",
            "bbe64b55845b4d5ab4da47e104e2c0ea",
            "7976e5ce19c345669a64c82da1f504d5",
            "ce53dfd02e9c4f05a07a508cc2e21272",
            "055848b5d43e480984cdea15327006ac",
            "f77f08e3b13e4db8a6a4a16c322ffce1",
            "5263555a46a24d099a0c47dea683e52f",
            "1ed1a4abe4394809ae6fbee8b61d1cb8",
            "dc900e45475d402298991722ef58826b",
            "99ca89fceade4d0d9a75cd19a0f3894e",
            "020063f2bfaf4c90ad8b14bb4c7d60e0",
            "77f2a530300345a3ae87acae48f055f5",
            "0f2843bf62eb400a9bc43235c1aee7b2",
            "afbacef3079e40c2b93b2c38b9de5dfb",
            "c358f4d7b70a4788902b0d4a39338400",
            "7c47c4eedf46466297ca21dc94499c8d",
            "1da7e8e40b4146c6b31217f3fcbcafbf",
            "b5415a9d5eb54115ad2b1023c0c60440",
            "de0fb98fe5124850862072a0b8f7d15e",
            "0e784223c5264a7ea0f0c9b949d4ab5a",
            "b86bf4c95c5c43ffaba25cc00dd2c22b",
            "58b297d5a5fa45e28b5fefa6cf79eabf"
          ]
        },
        "id": "jafOHN4NN41E",
        "outputId": "e87725ab-73c5-4ba3-b8c8-f7b6dd06f673",
        "cellView": "form"
      },
      "execution_count": null,
      "outputs": [
        {
          "output_type": "stream",
          "name": "stdout",
          "text": [
            "PART 1 of 4\n",
            "--2024-12-09 14:06:58--  https://zenodo.org/records/4573248/files/gz_decals_dr5_png_part1.zip\n",
            "Resolving zenodo.org (zenodo.org)... 188.185.48.194, 188.185.43.25, 188.185.45.92, ...\n",
            "Connecting to zenodo.org (zenodo.org)|188.185.48.194|:443... connected.\n",
            "HTTP request sent, awaiting response... 200 OK\n",
            "Length: 27789905885 (26G) [application/octet-stream]\n",
            "Saving to: ‘gz_decals_dr5_png_part1.zip’\n",
            "\n",
            "gz_decals_dr5_png_p 100%[===================>]  25.88G  20.5MB/s    in 21m 42s \n",
            "\n",
            "2024-12-09 14:28:40 (20.4 MB/s) - ‘gz_decals_dr5_png_part1.zip’ saved [27789905885/27789905885]\n",
            "\n",
            "UNZIPPING gz_decals_dr5_png_part1.zip\n"
          ]
        },
        {
          "output_type": "display_data",
          "data": {
            "text/plain": [
              "  0%|          | 0/15425 [00:00<?, ?it/s]"
            ],
            "application/vnd.jupyter.widget-view+json": {
              "version_major": 2,
              "version_minor": 0,
              "model_id": "76316d0499074cb48d699ab5976ded89"
            }
          },
          "metadata": {}
        },
        {
          "output_type": "stream",
          "name": "stdout",
          "text": [
            "FILES EXTRACTED\n",
            "PART 2 of 4\n",
            "--2024-12-09 14:30:28--  https://zenodo.org/records/4573248/files/gz_decals_dr5_png_part2.zip\n",
            "Resolving zenodo.org (zenodo.org)... 188.185.43.25, 188.185.45.92, 188.185.48.194, ...\n",
            "Connecting to zenodo.org (zenodo.org)|188.185.43.25|:443... connected.\n",
            "HTTP request sent, awaiting response... 200 OK\n",
            "Length: 22281798528 (21G) [application/octet-stream]\n",
            "Saving to: ‘gz_decals_dr5_png_part2.zip’\n",
            "\n",
            "gz_decals_dr5_png_p 100%[===================>]  20.75G  20.9MB/s    in 16m 58s \n",
            "\n",
            "2024-12-09 14:47:27 (20.9 MB/s) - ‘gz_decals_dr5_png_part2.zip’ saved [22281798528/22281798528]\n",
            "\n",
            "UNZIPPING gz_decals_dr5_png_part2.zip\n"
          ]
        },
        {
          "output_type": "display_data",
          "data": {
            "text/plain": [
              "  0%|          | 0/13011 [00:00<?, ?it/s]"
            ],
            "application/vnd.jupyter.widget-view+json": {
              "version_major": 2,
              "version_minor": 0,
              "model_id": "ec29a6abae3e4006ba1336b3edaa26ea"
            }
          },
          "metadata": {}
        },
        {
          "output_type": "stream",
          "name": "stdout",
          "text": [
            "FILES EXTRACTED\n",
            "PART 3 of 4\n",
            "--2024-12-09 14:48:59--  https://zenodo.org/records/4573248/files/gz_decals_dr5_png_part3.zip\n",
            "Resolving zenodo.org (zenodo.org)... 188.185.48.194, 188.185.43.25, 188.185.45.92, ...\n",
            "Connecting to zenodo.org (zenodo.org)|188.185.48.194|:443... connected.\n",
            "HTTP request sent, awaiting response... 200 OK\n",
            "Length: 32510336192 (30G) [application/octet-stream]\n",
            "Saving to: ‘gz_decals_dr5_png_part3.zip’\n",
            "\n",
            "gz_decals_dr5_png_p  83%[===============>    ]  25.42G  --.-KB/s    in 24m 33s \n",
            "\n",
            "2024-12-09 15:13:33 (17.7 MB/s) - Connection closed at byte 27296025652. Retrying.\n",
            "\n",
            "--2024-12-09 15:13:34--  (try: 2)  https://zenodo.org/records/4573248/files/gz_decals_dr5_png_part3.zip\n",
            "Connecting to zenodo.org (zenodo.org)|188.185.48.194|:443... connected.\n",
            "HTTP request sent, awaiting response... 206 PARTIAL_CONTENT\n",
            "Length: 32510336192 (30G), 5214310540 (4.9G) remaining [application/octet-stream]\n",
            "Saving to: ‘gz_decals_dr5_png_part3.zip’\n",
            "\n",
            "gz_decals_dr5_png_p 100%[++++++++++++++++===>]  30.28G  12.9MB/s    in 6m 44s  \n",
            "\n",
            "2024-12-09 15:20:19 (12.3 MB/s) - ‘gz_decals_dr5_png_part3.zip’ saved [32510336192/32510336192]\n",
            "\n",
            "UNZIPPING gz_decals_dr5_png_part3.zip\n"
          ]
        },
        {
          "output_type": "display_data",
          "data": {
            "text/plain": [
              "  0%|          | 0/15001 [00:00<?, ?it/s]"
            ],
            "application/vnd.jupyter.widget-view+json": {
              "version_major": 2,
              "version_minor": 0,
              "model_id": "af092842d48e46c181986ef151d742e7"
            }
          },
          "metadata": {}
        },
        {
          "output_type": "stream",
          "name": "stdout",
          "text": [
            "FILES EXTRACTED\n",
            "PART 4 of 4\n",
            "--2024-12-09 15:22:13--  https://zenodo.org/records/4573248/files/gz_decals_dr5_png_part4.zip\n",
            "Resolving zenodo.org (zenodo.org)... 188.185.45.92, 188.185.43.25, 188.185.48.194, ...\n",
            "Connecting to zenodo.org (zenodo.org)|188.185.45.92|:443... connected.\n",
            "HTTP request sent, awaiting response... 200 OK\n",
            "Length: 21155375722 (20G) [application/octet-stream]\n",
            "Saving to: ‘gz_decals_dr5_png_part4.zip’\n",
            "\n",
            "gz_decals_dr5_png_p 100%[===================>]  19.70G  5.32MB/s    in 16m 27s \n",
            "\n",
            "2024-12-09 15:38:40 (20.4 MB/s) - ‘gz_decals_dr5_png_part4.zip’ saved [21155375722/21155375722]\n",
            "\n",
            "UNZIPPING gz_decals_dr5_png_part4.zip\n"
          ]
        },
        {
          "output_type": "display_data",
          "data": {
            "text/plain": [
              "  0%|          | 0/4400 [00:00<?, ?it/s]"
            ],
            "application/vnd.jupyter.widget-view+json": {
              "version_major": 2,
              "version_minor": 0,
              "model_id": "6fb2cd62f1e14f6c907eaecb50337860"
            }
          },
          "metadata": {}
        },
        {
          "output_type": "stream",
          "name": "stdout",
          "text": [
            "FILES EXTRACTED\n",
            "CROPPING IMAGES to 120x120\n"
          ]
        },
        {
          "output_type": "display_data",
          "data": {
            "text/plain": [
              "  0%|          | 0/47837 [00:00<?, ?it/s]"
            ],
            "application/vnd.jupyter.widget-view+json": {
              "version_major": 2,
              "version_minor": 0,
              "model_id": "77f2a530300345a3ae87acae48f055f5"
            }
          },
          "metadata": {}
        },
        {
          "output_type": "stream",
          "name": "stdout",
          "text": [
            "ZIPPING just in case\n",
            "zipped\n",
            "PROCESSING COMPLETE!\n"
          ]
        }
      ]
    },
    {
      "cell_type": "markdown",
      "source": [
        "You can connect GoogleDrive and store archive with images for future purposes to avoid the whole process of downloading and curating the data"
      ],
      "metadata": {
        "id": "JfS2Lrsc5jrv"
      }
    },
    {
      "cell_type": "code",
      "source": [
        "!cp curated_imgs.zip ./drive/MyDrive/"
      ],
      "metadata": {
        "id": "QyG3cV-NIk8R"
      },
      "execution_count": null,
      "outputs": []
    },
    {
      "cell_type": "markdown",
      "source": [
        "Or you can download the data if you wish"
      ],
      "metadata": {
        "id": "C16-k4d8WcvC"
      }
    },
    {
      "cell_type": "code",
      "source": [
        "from google.colab import files\n",
        "\n",
        "files.download('curated_imgs.zip')"
      ],
      "metadata": {
        "id": "wfJU7GeuWkRf"
      },
      "execution_count": null,
      "outputs": []
    }
  ]
}