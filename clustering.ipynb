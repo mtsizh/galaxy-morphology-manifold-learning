{
  "cells": [
    {
      "cell_type": "markdown",
      "metadata": {
        "id": "view-in-github",
        "colab_type": "text"
      },
      "source": [
        "<a href=\"https://colab.research.google.com/github/mtsizh/galaxy-morphology-manifold-learning/blob/main/clustering.ipynb\" target=\"_parent\"><img src=\"https://colab.research.google.com/assets/colab-badge.svg\" alt=\"Open In Colab\"/></a>"
      ]
    },
    {
      "cell_type": "markdown",
      "source": [
        "Download images from GitHub (Instead of this code you can upload yor own archive and unzip it)."
      ],
      "metadata": {
        "id": "GZHVV00dC-hh"
      }
    },
    {
      "cell_type": "code",
      "execution_count": 1,
      "metadata": {
        "colab": {
          "base_uri": "https://localhost:8080/"
        },
        "id": "JM3ZDuhgZM0Y",
        "outputId": "144f1474-02bb-4b80-fabc-d0e4214eb8fb"
      },
      "outputs": [
        {
          "output_type": "stream",
          "name": "stdout",
          "text": [
            "HEAD dowloaded\n",
            "PART 1 of 7 OK\n",
            "PART 2 of 7 OK\n",
            "PART 3 of 7 OK\n",
            "PART 4 of 7 OK\n",
            "PART 5 of 7 OK\n",
            "PART 6 of 7 OK\n",
            "PART 7 of 7 OK\n",
            "MERGING PARTS\n",
            "COMPLETE\n",
            "UNZIPPED\n"
          ]
        }
      ],
      "source": [
        "!wget -q https://raw.githubusercontent.com/mtsizh/galaxy-morphology-manifold-learning/main/curated_dataset/curated_imgs_multipart.zip && echo \"HEAD dowloaded\" || \"ERROR downloading HEAD\"\n",
        "\n",
        "for i in range(1,8):\n",
        "  !wget -q https://raw.githubusercontent.com/mtsizh/galaxy-morphology-manifold-learning/main/curated_dataset/curated_imgs_multipart.z0{i}  && echo \"PART {i} of 7 OK\" || \"ERROR downloading PART {i}\"\n",
        "\n",
        "print('MERGING PARTS')\n",
        "!zip -FF curated_imgs_multipart.zip --out curated_imgs.zip > /dev/null && rm curated_imgs_multipart.z* && echo \"COMPLETE\" || \"FAILED\"\n",
        "\n",
        "!unzip -q -o curated_imgs.zip && echo \"UNZIPPED\" || \"FAIL\""
      ]
    },
    {
      "cell_type": "markdown",
      "source": [
        "Perform dimensionality reduction with best parameters."
      ],
      "metadata": {
        "id": "tn6ij6rdDRng"
      }
    },
    {
      "cell_type": "code",
      "execution_count": 2,
      "metadata": {
        "colab": {
          "base_uri": "https://localhost:8080/",
          "height": 118,
          "referenced_widgets": [
            "c2be75bbdeb844a0ab4436b6e0ba1230",
            "3d83438ee6844f21b4c837edecac35e4",
            "8e4dba5686c041b183311eec1ac03e79",
            "d0f596a3c2014d0695aaa97dda8a1e0b",
            "71e595ac5d494cc58921b33335bf0458",
            "987ba591899e4154b43859eddba31785",
            "01ad83a89f514feab2262d2557b73ddf",
            "aefa8fbc901141818ed870dbd295adeb",
            "ed9142a2cf4f441e8976e294b845d268",
            "6d06774ac86a47dfabd667f6bb614d99",
            "c349882a158c4cbb8588354c2049d524"
          ]
        },
        "id": "UMryznZOZR72",
        "outputId": "669a1bb0-cb77-49b0-be2e-6fb4f40cb2bd"
      },
      "outputs": [
        {
          "output_type": "stream",
          "name": "stdout",
          "text": [
            "LOAD IMAGES\n"
          ]
        },
        {
          "output_type": "display_data",
          "data": {
            "text/plain": [
              "  0%|          | 0/20000 [00:00<?, ?it/s]"
            ],
            "application/vnd.jupyter.widget-view+json": {
              "version_major": 2,
              "version_minor": 0,
              "model_id": "c2be75bbdeb844a0ab4436b6e0ba1230"
            }
          },
          "metadata": {}
        },
        {
          "output_type": "stream",
          "name": "stdout",
          "text": [
            "CALCULATE LLE\n",
            "SAVING to:  unsupervised_LLE_138_neighbours_10.pkl\n",
            "COMPLETE\n"
          ]
        }
      ],
      "source": [
        "import pandas as pd\n",
        "import numpy as np\n",
        "from sklearn.manifold import LocallyLinearEmbedding\n",
        "from tqdm.auto import tqdm\n",
        "from PIL import Image\n",
        "import pickle\n",
        "\n",
        "\n",
        "n_neighbors = 10\n",
        "n_components = 138\n",
        "n_bootstrap_samples = 20000\n",
        "\n",
        "\n",
        "df = pd.read_parquet('curated_dataset.parquet')\n",
        "bootstrapped_df = df.sample(n=n_bootstrap_samples)\n",
        "X = np.zeros((len(bootstrapped_df), 120, 120))\n",
        "\n",
        "print('LOAD IMAGES')\n",
        "paths = bootstrapped_df['png_loc'].str.replace('dr5', 'curated_imgs')\n",
        "with tqdm(total=len(paths)) as progress:\n",
        "  for idx, file_path in enumerate(paths):\n",
        "    with Image.open(file_path) as img:\n",
        "      X[idx,:,:] = np.array(img)\n",
        "      progress.update()\n",
        "\n",
        "print('CALCULATE LLE')\n",
        "X_flattened = X.reshape(X.shape[0], -1)\n",
        "lle = LocallyLinearEmbedding(n_neighbors=n_neighbors, n_components=n_components)\n",
        "X_embedded = lle.fit_transform(X_flattened)\n",
        "\n",
        "\n",
        "out_file = f'unsupervised_LLE_{n_components}_neighbours_{n_neighbors}.pkl'.replace(' ', '_')\n",
        "print('SAVING to: ', out_file)\n",
        "with open(out_file, 'wb') as f:\n",
        "  pickle.dump({'X_embedded': X_embedded,\n",
        "               'metadata': bootstrapped_df}, f)\n",
        "print('COMPLETE')"
      ]
    },
    {
      "cell_type": "markdown",
      "source": [
        "Install library for Dunn index calculation (Davis-Bolduin already implemented in sklearn)."
      ],
      "metadata": {
        "id": "GYs_Wag5DYn1"
      }
    },
    {
      "cell_type": "code",
      "execution_count": 3,
      "metadata": {
        "colab": {
          "base_uri": "https://localhost:8080/"
        },
        "id": "yF5Uqvg0hKe-",
        "outputId": "7f78271f-e789-41b5-d6a6-c3e563b319de"
      },
      "outputs": [
        {
          "output_type": "stream",
          "name": "stdout",
          "text": [
            "Collecting git+https://github.com/jqmviegas/jqm_cvi.git\n",
            "  Cloning https://github.com/jqmviegas/jqm_cvi.git to /tmp/pip-req-build-iry12gc8\n",
            "  Running command git clone --filter=blob:none --quiet https://github.com/jqmviegas/jqm_cvi.git /tmp/pip-req-build-iry12gc8\n",
            "  Resolved https://github.com/jqmviegas/jqm_cvi.git to commit 9e1137d4f4df70c1287011e1a544b0c3fe36af36\n",
            "  Preparing metadata (setup.py) ... \u001b[?25l\u001b[?25hdone\n",
            "Building wheels for collected packages: jqmcvi\n",
            "  Building wheel for jqmcvi (setup.py) ... \u001b[?25l\u001b[?25hdone\n",
            "  Created wheel for jqmcvi: filename=jqmcvi-1.0-cp311-cp311-linux_x86_64.whl size=450010 sha256=c5c363a688ddcae30f2ee96e12a1ad82ae96e632da2142c685c0d5213b463015\n",
            "  Stored in directory: /tmp/pip-ephem-wheel-cache-358mp4ji/wheels/29/10/d5/511cfe31e24f6431d3c2b84287074fe8d1c92c2128f93bdc9c\n",
            "Successfully built jqmcvi\n",
            "Installing collected packages: jqmcvi\n",
            "Successfully installed jqmcvi-1.0\n"
          ]
        }
      ],
      "source": [
        "!pip install git+https://github.com/jqmviegas/jqm_cvi.git"
      ]
    },
    {
      "cell_type": "markdown",
      "source": [
        "Calculate indices and dump data for further plotting."
      ],
      "metadata": {
        "id": "6Ns78AJBDiCF"
      }
    },
    {
      "cell_type": "code",
      "execution_count": 30,
      "metadata": {
        "colab": {
          "base_uri": "https://localhost:8080/",
          "height": 84,
          "referenced_widgets": [
            "2cf2f38065b2441a806f38f530b1f387",
            "82c93a1660b34900b99585cfe3f263d9",
            "169dc537b9204632aa220870b0bb18ba",
            "0339104bccdf444bbeaa25d9b6543976",
            "0238a7db8a484b97b40cb5830846f375",
            "69e6bcc76e354f3e811935139f3ff422",
            "5f6e61ba4b91463389cb525c1e776380",
            "1f2bd82b6b2a4c44880977dd02da8f29",
            "2fb5c1aa38464ea4a1314dca9271c633",
            "5cd08d21c150419396a4d097ad7ead87",
            "aa4b49c549624db4aa23673ec6b84e41"
          ]
        },
        "id": "czKMraPudfyC",
        "outputId": "936e1b2f-a74f-4ee6-8322-361dcdc41caa"
      },
      "outputs": [
        {
          "output_type": "stream",
          "name": "stdout",
          "text": [
            "already processed 26, remaining iterations 974\n"
          ]
        },
        {
          "output_type": "display_data",
          "data": {
            "text/plain": [
              "  0%|          | 0/974 [00:00<?, ?it/s]"
            ],
            "application/vnd.jupyter.widget-view+json": {
              "version_major": 2,
              "version_minor": 0,
              "model_id": "2cf2f38065b2441a806f38f530b1f387"
            }
          },
          "metadata": {}
        },
        {
          "output_type": "stream",
          "name": "stdout",
          "text": [
            "Execution stopped by user. Exiting gracefully.\n"
          ]
        }
      ],
      "source": [
        "from sklearn.cluster import KMeans\n",
        "from sklearn.metrics import davies_bouldin_score\n",
        "from jqmcvi import base\n",
        "import pickle\n",
        "import numpy as np\n",
        "from tqdm.auto import tqdm\n",
        "import json\n",
        "import os\n",
        "\n",
        "\n",
        "load_from = 'unsupervised_LLE_138_neighbours_10.pkl'\n",
        "sample_size = 5000\n",
        "n_iterations = 1000\n",
        "calc_dunn = False # very long\n",
        "dump_file = 'scores.json'\n",
        "\n",
        "\n",
        "def get_scores(X_embedded, davis_bolduin=True, dunn=True):\n",
        "  db_scores = []\n",
        "  dunn_scores = []\n",
        "  for n_clusters in range(2, 10):\n",
        "    kmeans = KMeans(n_clusters=n_clusters)\n",
        "    labels = kmeans.fit_predict(X_embedded)\n",
        "    if davis_bolduin:\n",
        "      db_index = davies_bouldin_score(X_embedded, labels)\n",
        "      db_scores.append(db_index)\n",
        "    if dunn:\n",
        "      points_by_cluster = [X_embedded[labels == c] for c in range(n_clusters)]\n",
        "      dunn_index = base.dunn(points_by_cluster)\n",
        "      dunn_scores.append(dunn_index)\n",
        "  if davis_bolduin and not dunn:\n",
        "    return db_scores\n",
        "  if dunn and not davis_bolduin:\n",
        "    return dunn_scores\n",
        "  return db_scores, dunn_scores\n",
        "\n",
        "\n",
        "with open(load_from, 'rb') as f:\n",
        "  data = pickle.load(f)\n",
        "  X_embedded = data['X_embedded']\n",
        "  meta = data['metadata']\n",
        "\n",
        "if os.path.isfile(dump_file):\n",
        "  with open(dump_file, 'r+') as in_file:\n",
        "    all_scores = json.load(in_file)\n",
        "    already_processed = max(len(all_scores['db']), len(all_scores['dunn']))\n",
        "    n_iterations -= already_processed\n",
        "    print(f'already processed {already_processed}, remaining iterations {n_iterations}')\n",
        "else:\n",
        "  all_scores = {'db': [], 'dunn':[]}\n",
        "\n",
        "try:\n",
        "  with tqdm(total=n_iterations) as progress:\n",
        "    for iter in range(n_iterations):\n",
        "      row_indices = np.random.choice(X_embedded.shape[0], size=sample_size, replace=False)\n",
        "      sample = X_embedded[row_indices]\n",
        "      if calc_dunn:\n",
        "        db_score, dunn_score = get_scores(sample, dunn=calc_dunn)\n",
        "        all_scores['dunn'].append(dunn_score)\n",
        "      else:\n",
        "        db_score = get_scores(sample, dunn=calc_dunn)\n",
        "      all_scores['db'].append(db_score)\n",
        "      with open(dump_file, 'w+') as out_file:\n",
        "        json.dump(all_scores, out_file)\n",
        "      progress.update()\n",
        "except KeyboardInterrupt:\n",
        "    print(\"Execution stopped by user. Exiting gracefully.\")\n"
      ]
    },
    {
      "cell_type": "code",
      "source": [
        "import matplotlib.pyplot as plt\n",
        "import json\n",
        "\n",
        "\n",
        "with open(dump_file, 'r+') as in_file:\n",
        "  all_scores = json.load(in_file)\n",
        "  db_scores = np.array(all_scores['db'])\n",
        "  db_scores = np.mean(db_scores, axis=0)\n",
        "  dunn_scores = np.array(all_scores['dunn'])\n",
        "  if np.any(dunn_scores):\n",
        "    dunn_scores = np.mean(dunn_scores, axis=0)\n",
        "\n",
        "fig, ax = plt.subplots(2, 1, sharex=True, figsize=(6, 4))\n",
        "ax[0].plot(range(2, 10), db_scores)\n",
        "\n",
        "# First plot - Davis-Bouldin Score\n",
        "ax[0].plot(range(2, 10), db_scores, marker='o', linestyle='-', color='b')\n",
        "ax[0].set_ylabel(\"Davis-Bouldin Score\")\n",
        "ax[0].grid(True)\n",
        "\n",
        "# Second plot - Dunn Score\n",
        "if np.any(dunn_scores):\n",
        "  ax[1].plot(range(2, 10), dunn_scores, marker='s', linestyle='-', color='r')\n",
        "ax[1].set_ylabel(\"Dunn Score\")\n",
        "ax[1].set_xlabel(\"Number of Clusters\")\n",
        "ax[1].grid(True)\n",
        "\n",
        "\n",
        "plt.tight_layout()\n",
        "plt.show()"
      ],
      "metadata": {
        "id": "HhYB7d_pHCU-",
        "outputId": "14838035-5cff-46e1-e03c-5ebe7b0e5c03",
        "colab": {
          "base_uri": "https://localhost:8080/",
          "height": 407
        }
      },
      "execution_count": 29,
      "outputs": [
        {
          "output_type": "display_data",
          "data": {
            "text/plain": [
              "<Figure size 600x400 with 2 Axes>"
            ],
            "image/png": "[encoded data removed]"
          },
          "metadata": {}
        }
      ]
    }
  ],
  "metadata": {
    "colab": {
      "provenance": [],
      "include_colab_link": true
    },
    "kernelspec": {
      "display_name": "Python 3",
      "name": "python3"
    },
    "language_info": {
      "name": "python"
    },
    "widgets": {
      "application/vnd.jupyter.widget-state+json": {
        "c2be75bbdeb844a0ab4436b6e0ba1230": {
          "model_module": "@jupyter-widgets/controls",
          "model_name": "HBoxModel",
          "model_module_version": "1.5.0",
          "state": {
            "_dom_classes": [],
            "_model_module": "@jupyter-widgets/controls",
            "_model_module_version": "1.5.0",
            "_model_name": "HBoxModel",
            "_view_count": null,
            "_view_module": "@jupyter-widgets/controls",
            "_view_module_version": "1.5.0",
            "_view_name": "HBoxView",
            "box_style": "",
            "children": [
              "IPY_MODEL_3d83438ee6844f21b4c837edecac35e4",
              "IPY_MODEL_8e4dba5686c041b183311eec1ac03e79",
              "IPY_MODEL_d0f596a3c2014d0695aaa97dda8a1e0b"
            ],
            "layout": "IPY_MODEL_71e595ac5d494cc58921b33335bf0458"
          }
        },
        "3d83438ee6844f21b4c837edecac35e4": {
          "model_module": "@jupyter-widgets/controls",
          "model_name": "HTMLModel",
          "model_module_version": "1.5.0",
          "state": {
            "_dom_classes": [],
            "_model_module": "@jupyter-widgets/controls",
            "_model_module_version": "1.5.0",
            "_model_name": "HTMLModel",
            "_view_count": null,
            "_view_module": "@jupyter-widgets/controls",
            "_view_module_version": "1.5.0",
            "_view_name": "HTMLView",
            "description": "",
            "description_tooltip": null,
            "layout": "IPY_MODEL_987ba591899e4154b43859eddba31785",
            "placeholder": "​",
            "style": "IPY_MODEL_01ad83a89f514feab2262d2557b73ddf",
            "value": "100%"
          }
        },
        "8e4dba5686c041b183311eec1ac03e79": {
          "model_module": "@jupyter-widgets/controls",
          "model_name": "FloatProgressModel",
          "model_module_version": "1.5.0",
          "state": {
            "_dom_classes": [],
            "_model_module": "@jupyter-widgets/controls",
            "_model_module_version": "1.5.0",
            "_model_name": "FloatProgressModel",
            "_view_count": null,
            "_view_module": "@jupyter-widgets/controls",
            "_view_module_version": "1.5.0",
            "_view_name": "ProgressView",
            "bar_style": "success",
            "description": "",
            "description_tooltip": null,
            "layout": "IPY_MODEL_aefa8fbc901141818ed870dbd295adeb",
            "max": 20000,
            "min": 0,
            "orientation": "horizontal",
            "style": "IPY_MODEL_ed9142a2cf4f441e8976e294b845d268",
            "value": 20000
          }
        },
        "d0f596a3c2014d0695aaa97dda8a1e0b": {
          "model_module": "@jupyter-widgets/controls",
          "model_name": "HTMLModel",
          "model_module_version": "1.5.0",
          "state": {
            "_dom_classes": [],
            "_model_module": "@jupyter-widgets/controls",
            "_model_module_version": "1.5.0",
            "_model_name": "HTMLModel",
            "_view_count": null,
            "_view_module": "@jupyter-widgets/controls",
            "_view_module_version": "1.5.0",
            "_view_name": "HTMLView",
            "description": "",
            "description_tooltip": null,
            "layout": "IPY_MODEL_6d06774ac86a47dfabd667f6bb614d99",
            "placeholder": "​",
            "style": "IPY_MODEL_c349882a158c4cbb8588354c2049d524",
            "value": " 20000/20000 [00:35&lt;00:00, 1524.26it/s]"
          }
        },
        "71e595ac5d494cc58921b33335bf0458": {
          "model_module": "@jupyter-widgets/base",
          "model_name": "LayoutModel",
          "model_module_version": "1.2.0",
          "state": {
            "_model_module": "@jupyter-widgets/base",
            "_model_module_version": "1.2.0",
            "_model_name": "LayoutModel",
            "_view_count": null,
            "_view_module": "@jupyter-widgets/base",
            "_view_module_version": "1.2.0",
            "_view_name": "LayoutView",
            "align_content": null,
            "align_items": null,
            "align_self": null,
            "border": null,
            "bottom": null,
            "display": null,
            "flex": null,
            "flex_flow": null,
            "grid_area": null,
            "grid_auto_columns": null,
            "grid_auto_flow": null,
            "grid_auto_rows": null,
            "grid_column": null,
            "grid_gap": null,
            "grid_row": null,
            "grid_template_areas": null,
            "grid_template_columns": null,
            "grid_template_rows": null,
            "height": null,
            "justify_content": null,
            "justify_items": null,
            "left": null,
            "margin": null,
            "max_height": null,
            "max_width": null,
            "min_height": null,
            "min_width": null,
            "object_fit": null,
            "object_position": null,
            "order": null,
            "overflow": null,
            "overflow_x": null,
            "overflow_y": null,
            "padding": null,
            "right": null,
            "top": null,
            "visibility": null,
            "width": null
          }
        },
        "987ba591899e4154b43859eddba31785": {
          "model_module": "@jupyter-widgets/base",
          "model_name": "LayoutModel",
          "model_module_version": "1.2.0",
          "state": {
            "_model_module": "@jupyter-widgets/base",
            "_model_module_version": "1.2.0",
            "_model_name": "LayoutModel",
            "_view_count": null,
            "_view_module": "@jupyter-widgets/base",
            "_view_module_version": "1.2.0",
            "_view_name": "LayoutView",
            "align_content": null,
            "align_items": null,
            "align_self": null,
            "border": null,
            "bottom": null,
            "display": null,
            "flex": null,
            "flex_flow": null,
            "grid_area": null,
            "grid_auto_columns": null,
            "grid_auto_flow": null,
            "grid_auto_rows": null,
            "grid_column": null,
            "grid_gap": null,
            "grid_row": null,
            "grid_template_areas": null,
            "grid_template_columns": null,
            "grid_template_rows": null,
            "height": null,
            "justify_content": null,
            "justify_items": null,
            "left": null,
            "margin": null,
            "max_height": null,
            "max_width": null,
            "min_height": null,
            "min_width": null,
            "object_fit": null,
            "object_position": null,
            "order": null,
            "overflow": null,
            "overflow_x": null,
            "overflow_y": null,
            "padding": null,
            "right": null,
            "top": null,
            "visibility": null,
            "width": null
          }
        },
        "01ad83a89f514feab2262d2557b73ddf": {
          "model_module": "@jupyter-widgets/controls",
          "model_name": "DescriptionStyleModel",
          "model_module_version": "1.5.0",
          "state": {
            "_model_module": "@jupyter-widgets/controls",
            "_model_module_version": "1.5.0",
            "_model_name": "DescriptionStyleModel",
            "_view_count": null,
            "_view_module": "@jupyter-widgets/base",
            "_view_module_version": "1.2.0",
            "_view_name": "StyleView",
            "description_width": ""
          }
        },
        "aefa8fbc901141818ed870dbd295adeb": {
          "model_module": "@jupyter-widgets/base",
          "model_name": "LayoutModel",
          "model_module_version": "1.2.0",
          "state": {
            "_model_module": "@jupyter-widgets/base",
            "_model_module_version": "1.2.0",
            "_model_name": "LayoutModel",
            "_view_count": null,
            "_view_module": "@jupyter-widgets/base",
            "_view_module_version": "1.2.0",
            "_view_name": "LayoutView",
            "align_content": null,
            "align_items": null,
            "align_self": null,
            "border": null,
            "bottom": null,
            "display": null,
            "flex": null,
            "flex_flow": null,
            "grid_area": null,
            "grid_auto_columns": null,
            "grid_auto_flow": null,
            "grid_auto_rows": null,
            "grid_column": null,
            "grid_gap": null,
            "grid_row": null,
            "grid_template_areas": null,
            "grid_template_columns": null,
            "grid_template_rows": null,
            "height": null,
            "justify_content": null,
            "justify_items": null,
            "left": null,
            "margin": null,
            "max_height": null,
            "max_width": null,
            "min_height": null,
            "min_width": null,
            "object_fit": null,
            "object_position": null,
            "order": null,
            "overflow": null,
            "overflow_x": null,
            "overflow_y": null,
            "padding": null,
            "right": null,
            "top": null,
            "visibility": null,
            "width": null
          }
        },
        "ed9142a2cf4f441e8976e294b845d268": {
          "model_module": "@jupyter-widgets/controls",
          "model_name": "ProgressStyleModel",
          "model_module_version": "1.5.0",
          "state": {
            "_model_module": "@jupyter-widgets/controls",
            "_model_module_version": "1.5.0",
            "_model_name": "ProgressStyleModel",
            "_view_count": null,
            "_view_module": "@jupyter-widgets/base",
            "_view_module_version": "1.2.0",
            "_view_name": "StyleView",
            "bar_color": null,
            "description_width": ""
          }
        },
        "6d06774ac86a47dfabd667f6bb614d99": {
          "model_module": "@jupyter-widgets/base",
          "model_name": "LayoutModel",
          "model_module_version": "1.2.0",
          "state": {
            "_model_module": "@jupyter-widgets/base",
            "_model_module_version": "1.2.0",
            "_model_name": "LayoutModel",
            "_view_count": null,
            "_view_module": "@jupyter-widgets/base",
            "_view_module_version": "1.2.0",
            "_view_name": "LayoutView",
            "align_content": null,
            "align_items": null,
            "align_self": null,
            "border": null,
            "bottom": null,
            "display": null,
            "flex": null,
            "flex_flow": null,
            "grid_area": null,
            "grid_auto_columns": null,
            "grid_auto_flow": null,
            "grid_auto_rows": null,
            "grid_column": null,
            "grid_gap": null,
            "grid_row": null,
            "grid_template_areas": null,
            "grid_template_columns": null,
            "grid_template_rows": null,
            "height": null,
            "justify_content": null,
            "justify_items": null,
            "left": null,
            "margin": null,
            "max_height": null,
            "max_width": null,
            "min_height": null,
            "min_width": null,
            "object_fit": null,
            "object_position": null,
            "order": null,
            "overflow": null,
            "overflow_x": null,
            "overflow_y": null,
            "padding": null,
            "right": null,
            "top": null,
            "visibility": null,
            "width": null
          }
        },
        "c349882a158c4cbb8588354c2049d524": {
          "model_module": "@jupyter-widgets/controls",
          "model_name": "DescriptionStyleModel",
          "model_module_version": "1.5.0",
          "state": {
            "_model_module": "@jupyter-widgets/controls",
            "_model_module_version": "1.5.0",
            "_model_name": "DescriptionStyleModel",
            "_view_count": null,
            "_view_module": "@jupyter-widgets/base",
            "_view_module_version": "1.2.0",
            "_view_name": "StyleView",
            "description_width": ""
          }
        },
        "2cf2f38065b2441a806f38f530b1f387": {
          "model_module": "@jupyter-widgets/controls",
          "model_name": "HBoxModel",
          "model_module_version": "1.5.0",
          "state": {
            "_dom_classes": [],
            "_model_module": "@jupyter-widgets/controls",
            "_model_module_version": "1.5.0",
            "_model_name": "HBoxModel",
            "_view_count": null,
            "_view_module": "@jupyter-widgets/controls",
            "_view_module_version": "1.5.0",
            "_view_name": "HBoxView",
            "box_style": "",
            "children": [
              "IPY_MODEL_82c93a1660b34900b99585cfe3f263d9",
              "IPY_MODEL_169dc537b9204632aa220870b0bb18ba",
              "IPY_MODEL_0339104bccdf444bbeaa25d9b6543976"
            ],
            "layout": "IPY_MODEL_0238a7db8a484b97b40cb5830846f375"
          }
        },
        "82c93a1660b34900b99585cfe3f263d9": {
          "model_module": "@jupyter-widgets/controls",
          "model_name": "HTMLModel",
          "model_module_version": "1.5.0",
          "state": {
            "_dom_classes": [],
            "_model_module": "@jupyter-widgets/controls",
            "_model_module_version": "1.5.0",
            "_model_name": "HTMLModel",
            "_view_count": null,
            "_view_module": "@jupyter-widgets/controls",
            "_view_module_version": "1.5.0",
            "_view_name": "HTMLView",
            "description": "",
            "description_tooltip": null,
            "layout": "IPY_MODEL_69e6bcc76e354f3e811935139f3ff422",
            "placeholder": "​",
            "style": "IPY_MODEL_5f6e61ba4b91463389cb525c1e776380",
            "value": "  3%"
          }
        },
        "169dc537b9204632aa220870b0bb18ba": {
          "model_module": "@jupyter-widgets/controls",
          "model_name": "FloatProgressModel",
          "model_module_version": "1.5.0",
          "state": {
            "_dom_classes": [],
            "_model_module": "@jupyter-widgets/controls",
            "_model_module_version": "1.5.0",
            "_model_name": "FloatProgressModel",
            "_view_count": null,
            "_view_module": "@jupyter-widgets/controls",
            "_view_module_version": "1.5.0",
            "_view_name": "ProgressView",
            "bar_style": "danger",
            "description": "",
            "description_tooltip": null,
            "layout": "IPY_MODEL_1f2bd82b6b2a4c44880977dd02da8f29",
            "max": 974,
            "min": 0,
            "orientation": "horizontal",
            "style": "IPY_MODEL_2fb5c1aa38464ea4a1314dca9271c633",
            "value": 30
          }
        },
        "0339104bccdf444bbeaa25d9b6543976": {
          "model_module": "@jupyter-widgets/controls",
          "model_name": "HTMLModel",
          "model_module_version": "1.5.0",
          "state": {
            "_dom_classes": [],
            "_model_module": "@jupyter-widgets/controls",
            "_model_module_version": "1.5.0",
            "_model_name": "HTMLModel",
            "_view_count": null,
            "_view_module": "@jupyter-widgets/controls",
            "_view_module_version": "1.5.0",
            "_view_name": "HTMLView",
            "description": "",
            "description_tooltip": null,
            "layout": "IPY_MODEL_5cd08d21c150419396a4d097ad7ead87",
            "placeholder": "​",
            "style": "IPY_MODEL_aa4b49c549624db4aa23673ec6b84e41",
            "value": " 30/974 [00:35&lt;20:44,  1.32s/it]"
          }
        },
        "0238a7db8a484b97b40cb5830846f375": {
          "model_module": "@jupyter-widgets/base",
          "model_name": "LayoutModel",
          "model_module_version": "1.2.0",
          "state": {
            "_model_module": "@jupyter-widgets/base",
            "_model_module_version": "1.2.0",
            "_model_name": "LayoutModel",
            "_view_count": null,
            "_view_module": "@jupyter-widgets/base",
            "_view_module_version": "1.2.0",
            "_view_name": "LayoutView",
            "align_content": null,
            "align_items": null,
            "align_self": null,
            "border": null,
            "bottom": null,
            "display": null,
            "flex": null,
            "flex_flow": null,
            "grid_area": null,
            "grid_auto_columns": null,
            "grid_auto_flow": null,
            "grid_auto_rows": null,
            "grid_column": null,
            "grid_gap": null,
            "grid_row": null,
            "grid_template_areas": null,
            "grid_template_columns": null,
            "grid_template_rows": null,
            "height": null,
            "justify_content": null,
            "justify_items": null,
            "left": null,
            "margin": null,
            "max_height": null,
            "max_width": null,
            "min_height": null,
            "min_width": null,
            "object_fit": null,
            "object_position": null,
            "order": null,
            "overflow": null,
            "overflow_x": null,
            "overflow_y": null,
            "padding": null,
            "right": null,
            "top": null,
            "visibility": null,
            "width": null
          }
        },
        "69e6bcc76e354f3e811935139f3ff422": {
          "model_module": "@jupyter-widgets/base",
          "model_name": "LayoutModel",
          "model_module_version": "1.2.0",
          "state": {
            "_model_module": "@jupyter-widgets/base",
            "_model_module_version": "1.2.0",
            "_model_name": "LayoutModel",
            "_view_count": null,
            "_view_module": "@jupyter-widgets/base",
            "_view_module_version": "1.2.0",
            "_view_name": "LayoutView",
            "align_content": null,
            "align_items": null,
            "align_self": null,
            "border": null,
            "bottom": null,
            "display": null,
            "flex": null,
            "flex_flow": null,
            "grid_area": null,
            "grid_auto_columns": null,
            "grid_auto_flow": null,
            "grid_auto_rows": null,
            "grid_column": null,
            "grid_gap": null,
            "grid_row": null,
            "grid_template_areas": null,
            "grid_template_columns": null,
            "grid_template_rows": null,
            "height": null,
            "justify_content": null,
            "justify_items": null,
            "left": null,
            "margin": null,
            "max_height": null,
            "max_width": null,
            "min_height": null,
            "min_width": null,
            "object_fit": null,
            "object_position": null,
            "order": null,
            "overflow": null,
            "overflow_x": null,
            "overflow_y": null,
            "padding": null,
            "right": null,
            "top": null,
            "visibility": null,
            "width": null
          }
        },
        "5f6e61ba4b91463389cb525c1e776380": {
          "model_module": "@jupyter-widgets/controls",
          "model_name": "DescriptionStyleModel",
          "model_module_version": "1.5.0",
          "state": {
            "_model_module": "@jupyter-widgets/controls",
            "_model_module_version": "1.5.0",
            "_model_name": "DescriptionStyleModel",
            "_view_count": null,
            "_view_module": "@jupyter-widgets/base",
            "_view_module_version": "1.2.0",
            "_view_name": "StyleView",
            "description_width": ""
          }
        },
        "1f2bd82b6b2a4c44880977dd02da8f29": {
          "model_module": "@jupyter-widgets/base",
          "model_name": "LayoutModel",
          "model_module_version": "1.2.0",
          "state": {
            "_model_module": "@jupyter-widgets/base",
            "_model_module_version": "1.2.0",
            "_model_name": "LayoutModel",
            "_view_count": null,
            "_view_module": "@jupyter-widgets/base",
            "_view_module_version": "1.2.0",
            "_view_name": "LayoutView",
            "align_content": null,
            "align_items": null,
            "align_self": null,
            "border": null,
            "bottom": null,
            "display": null,
            "flex": null,
            "flex_flow": null,
            "grid_area": null,
            "grid_auto_columns": null,
            "grid_auto_flow": null,
            "grid_auto_rows": null,
            "grid_column": null,
            "grid_gap": null,
            "grid_row": null,
            "grid_template_areas": null,
            "grid_template_columns": null,
            "grid_template_rows": null,
            "height": null,
            "justify_content": null,
            "justify_items": null,
            "left": null,
            "margin": null,
            "max_height": null,
            "max_width": null,
            "min_height": null,
            "min_width": null,
            "object_fit": null,
            "object_position": null,
            "order": null,
            "overflow": null,
            "overflow_x": null,
            "overflow_y": null,
            "padding": null,
            "right": null,
            "top": null,
            "visibility": null,
            "width": null
          }
        },
        "2fb5c1aa38464ea4a1314dca9271c633": {
          "model_module": "@jupyter-widgets/controls",
          "model_name": "ProgressStyleModel",
          "model_module_version": "1.5.0",
          "state": {
            "_model_module": "@jupyter-widgets/controls",
            "_model_module_version": "1.5.0",
            "_model_name": "ProgressStyleModel",
            "_view_count": null,
            "_view_module": "@jupyter-widgets/base",
            "_view_module_version": "1.2.0",
            "_view_name": "StyleView",
            "bar_color": null,
            "description_width": ""
          }
        },
        "5cd08d21c150419396a4d097ad7ead87": {
          "model_module": "@jupyter-widgets/base",
          "model_name": "LayoutModel",
          "model_module_version": "1.2.0",
          "state": {
            "_model_module": "@jupyter-widgets/base",
            "_model_module_version": "1.2.0",
            "_model_name": "LayoutModel",
            "_view_count": null,
            "_view_module": "@jupyter-widgets/base",
            "_view_module_version": "1.2.0",
            "_view_name": "LayoutView",
            "align_content": null,
            "align_items": null,
            "align_self": null,
            "border": null,
            "bottom": null,
            "display": null,
            "flex": null,
            "flex_flow": null,
            "grid_area": null,
            "grid_auto_columns": null,
            "grid_auto_flow": null,
            "grid_auto_rows": null,
            "grid_column": null,
            "grid_gap": null,
            "grid_row": null,
            "grid_template_areas": null,
            "grid_template_columns": null,
            "grid_template_rows": null,
            "height": null,
            "justify_content": null,
            "justify_items": null,
            "left": null,
            "margin": null,
            "max_height": null,
            "max_width": null,
            "min_height": null,
            "min_width": null,
            "object_fit": null,
            "object_position": null,
            "order": null,
            "overflow": null,
            "overflow_x": null,
            "overflow_y": null,
            "padding": null,
            "right": null,
            "top": null,
            "visibility": null,
            "width": null
          }
        },
        "aa4b49c549624db4aa23673ec6b84e41": {
          "model_module": "@jupyter-widgets/controls",
          "model_name": "DescriptionStyleModel",
          "model_module_version": "1.5.0",
          "state": {
            "_model_module": "@jupyter-widgets/controls",
            "_model_module_version": "1.5.0",
            "_model_name": "DescriptionStyleModel",
            "_view_count": null,
            "_view_module": "@jupyter-widgets/base",
            "_view_module_version": "1.2.0",
            "_view_name": "StyleView",
            "description_width": ""
          }
        }
      }
    }
  },
  "nbformat": 4,
  "nbformat_minor": 0
}