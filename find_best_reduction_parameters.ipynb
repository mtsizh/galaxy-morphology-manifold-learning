{
  "nbformat": 4,
  "nbformat_minor": 0,
  "metadata": {
    "colab": {
      "provenance": [],
      "authorship_tag": "ABX9TyNMm3lCIbDILV5xOvz/5u9b",
      "include_colab_link": true
    },
    "kernelspec": {
      "name": "python3",
      "display_name": "Python 3"
    },
    "language_info": {
      "name": "python"
    }
  },
  "cells": [
    {
      "cell_type": "markdown",
      "metadata": {
        "id": "view-in-github",
        "colab_type": "text"
      },
      "source": [
        "<a href=\"https://colab.research.google.com/github/mtsizh/galaxy-morphology-manifold-learning/blob/main/find_best_reduction_parameters.ipynb\" target=\"_parent\"><img src=\"https://colab.research.google.com/assets/colab-badge.svg\" alt=\"Open In Colab\"/></a>"
      ]
    },
    {
      "cell_type": "markdown",
      "source": [
        "If you performed dataset curation on your own - upload `curated_imgs.zip` and skip to the next step. Otherwise you can run the following code and download the curated dataseet from GitHub."
      ],
      "metadata": {
        "id": "o0rLKfHa__4U"
      }
    },
    {
      "cell_type": "code",
      "source": [
        "!wget -q https://raw.githubusercontent.com/mtsizh/galaxy-morphology-manifold-learning/main/curated_dataset/curated_imgs_multipart.zip && echo \"HEAD dowloaded\" || \"ERROR downloading HEAD\"\n",
        "\n",
        "for i in range(1,8):\n",
        "  !wget -q https://raw.githubusercontent.com/mtsizh/galaxy-morphology-manifold-learning/main/curated_dataset/curated_imgs_multipart.z0{i}  && echo \"PART {i} of 7 OK\" || \"ERROR downloading PART {i}\"\n",
        "\n",
        "print('MERGING PARTS')\n",
        "!zip -FF curated_imgs_multipart.zip --out curated_imgs.zip > /dev/null && echo \"COMPLETE\" || \"FAILED\"\n"
      ],
      "metadata": {
        "colab": {
          "base_uri": "https://localhost:8080/"
        },
        "id": "peMXLfox98FW",
        "outputId": "3d7487be-af48-4ac9-83e2-84e6c287b60e"
      },
      "execution_count": 9,
      "outputs": [
        {
          "output_type": "stream",
          "name": "stdout",
          "text": [
            "HEAD dowloaded\n",
            "PART 1 of 7 OK\n",
            "PART 2 of 7 OK\n",
            "PART 3 of 7 OK\n",
            "PART 4 of 7 OK\n",
            "PART 5 of 7 OK\n",
            "PART 6 of 7 OK\n",
            "PART 7 of 7 OK\n",
            "MERGING PARTS\n",
            "COMPLETE\n"
          ]
        }
      ]
    },
    {
      "cell_type": "markdown",
      "source": [
        "Unzip the curated dataset."
      ],
      "metadata": {
        "id": "fmqRwqWhAZux"
      }
    },
    {
      "cell_type": "code",
      "source": [
        "!unzip -q -o curated_imgs.zip && echo \"UNZIPPED\" || \"FAIL\""
      ],
      "metadata": {
        "colab": {
          "base_uri": "https://localhost:8080/"
        },
        "id": "efbdUckc_4PW",
        "outputId": "60b91ee1-cee7-4441-c007-49b5222fafbc"
      },
      "execution_count": 10,
      "outputs": [
        {
          "output_type": "stream",
          "name": "stdout",
          "text": [
            "UNZIPPED\n"
          ]
        }
      ]
    },
    {
      "cell_type": "markdown",
      "source": [
        "Few libraries are not installed by default. the following code installs `optuna` and `umap-learn`."
      ],
      "metadata": {
        "id": "JraRV82hAe4l"
      }
    },
    {
      "cell_type": "code",
      "execution_count": 11,
      "metadata": {
        "colab": {
          "base_uri": "https://localhost:8080/"
        },
        "id": "aqO98zoY9Qv7",
        "outputId": "57e16728-2865-4d30-ef91-ee3194dae6b6"
      },
      "outputs": [
        {
          "output_type": "stream",
          "name": "stdout",
          "text": [
            "COMPLETE\n"
          ]
        }
      ],
      "source": [
        "!pip install optuna\n",
        "!pip install umap-learn\n",
        "\n",
        "try:\n",
        "  import optuna\n",
        "  import umap\n",
        "  from google.colab import output\n",
        "  output.clear()\n",
        "except:\n",
        "  print('ERROR')\n",
        "finally:\n",
        "  print('COMPLETE')"
      ]
    },
    {
      "cell_type": "markdown",
      "source": [
        "Run the following code to generate a report on different methods. `optuna` is used to get the best parameters for each of the methods: t-SNE, uMap, IsoMap, LLE, PCA. Result is saved in form of a `json` file."
      ],
      "metadata": {
        "id": "Oqjs29XhAtRq"
      }
    },
    {
      "cell_type": "code",
      "source": [
        "import optuna\n",
        "import numpy as np\n",
        "from sklearn.manifold import TSNE, LocallyLinearEmbedding, Isomap\n",
        "from sklearn.decomposition import PCA\n",
        "from umap import UMAP\n",
        "from sklearn.ensemble import RandomForestClassifier\n",
        "from sklearn.model_selection import cross_val_score, train_test_split\n",
        "import pandas as pd\n",
        "import numpy as np\n",
        "from tqdm.auto import tqdm\n",
        "from PIL import Image\n",
        "from sklearn.pipeline import make_pipeline\n",
        "from sklearn.preprocessing import StandardScaler\n",
        "from sklearn.linear_model import LogisticRegression\n",
        "import json\n",
        "import pprint\n",
        "\n",
        "\n",
        "# use different class maps to get different estimations\n",
        "class_map = {1: 'round', 2: 'inbetween', 3: 'cigar'}\n",
        "#class_map = {4: 'edge on', 5: 'edge off'}\n",
        "#class_map = {6: 'smooth', 7: 'featured'}\n",
        "methods = ['t-SNE', 'LLE', 'Isomap', 'PCA', 'uMap']\n",
        "n_bootstrap_samples = 50\n",
        "n_parameter_trials = 50\n",
        "\n",
        "\n",
        "df = pd.read_parquet('curated_dataset.parquet')\n",
        "regex_filter = '|'.join(class_map.values())\n",
        "filtered_df = df[df['class'].str.contains(regex_filter, regex=True)]\n",
        "bootstrapped_df = filtered_df.sample(n=n_bootstrap_samples, random_state=25)\n",
        "X = np.zeros((len(bootstrapped_df), 120, 120))\n",
        "y = np.zeros(len(bootstrapped_df))\n",
        "\n",
        "for key, val in class_map.items():\n",
        "  y[bootstrapped_df['class'].str.contains(val, regex=True)] = key\n",
        "\n",
        "print('Dataset balance:')\n",
        "for k,v in class_map.items():\n",
        "  print(f'class {v} has {np.sum(y == k)} items')\n",
        "print('-----------------------------------------')\n",
        "\n",
        "print('LOAD IMAGES')\n",
        "paths = bootstrapped_df['png_loc'].str.replace('dr5', 'curated_imgs')\n",
        "with tqdm(total=len(paths)) as progress:\n",
        "  for idx, file_path in enumerate(paths):\n",
        "    with Image.open(file_path) as img:\n",
        "      X[idx,:,:] = np.array(img)\n",
        "      progress.update()\n",
        "X_flattened = X.reshape(X.shape[0], -1)\n",
        "\n",
        "\n",
        "\n",
        "def objective(trial, methods):\n",
        "  dr_method = trial.suggest_categorical('dr_method', methods)\n",
        "\n",
        "  if dr_method == 't-SNE':\n",
        "    # for t-SNE # of components should be no greater that # of samples and # of features\n",
        "    n_components = trial.suggest_int('n_components', 2, np.min([200, X.shape[0]-1, X.shape[1]-1]))\n",
        "    perplexity = trial.suggest_int('perplexity', 5, min(50, X.shape[0]-1)) # perplexity < samples\n",
        "    learning_rate = trial.suggest_float('learning_rate', 10, 1000, log=True)\n",
        "    reducer = TSNE(n_components=n_components, perplexity=perplexity,\n",
        "                    learning_rate=learning_rate, method='exact')\n",
        "  elif dr_method == 'LLE':\n",
        "    n_components = trial.suggest_int('n_components', 2, min(200, X.shape[0]-1)) # components < samples\n",
        "    n_neighbors = trial.suggest_int('n_neighbors', min(5, n_components),\n",
        "                                    max(50, n_components)) # neighbors <= samples\n",
        "    reducer = LocallyLinearEmbedding(n_components=n_components, n_neighbors=n_neighbors)\n",
        "  elif dr_method == 'Isomap':\n",
        "    n_components = trial.suggest_int('n_components', 2, min(200, X.shape[0]-1)) # components < samples\n",
        "    n_neighbors = trial.suggest_int('n_neighbors', 10, min(50, X.shape[0]//2))\n",
        "    reducer = Isomap(n_components=n_components, n_neighbors=n_neighbors)\n",
        "  elif dr_method == 'PCA':\n",
        "    n_components = trial.suggest_int('n_components', 2, np.min([200, X.shape[0]-1, X.shape[1]-1]))\n",
        "    reducer = PCA(n_components=n_components)\n",
        "  elif dr_method == 'uMap':\n",
        "    n_components = trial.suggest_int('n_components', 2, np.min([200, X.shape[0]//2, X.shape[1]-1]))\n",
        "    n_neighbors = trial.suggest_int('n_neighbors', 5, np.min(50, X[0]-1)) # neighbors < samples\n",
        "    reducer = UMAP(n_neighbors=n_neighbors, n_components=n_components)\n",
        "\n",
        "\n",
        "  try: #ISOMAP fails without any reason\n",
        "    X_reduced = reducer.fit_transform(X_flattened)\n",
        "  except ValueError as e:\n",
        "    print(f\"Skipping {method} trial due to error: {e}\")\n",
        "    return -np.inf # not to spoil the result\n",
        "\n",
        "  #n_estimators = trial.suggest_int('n_estimators', 50, 300)\n",
        "  #clf = RandomForestClassifier(n_estimators=n_estimators)\n",
        "  clf = make_pipeline(StandardScaler(),\n",
        "                      LogisticRegression(solver='lbfgs', max_iter=1000, random_state=42))\n",
        "\n",
        "  return np.mean(cross_val_score(clf, X_reduced, y, cv=5))\n",
        "\n",
        "# ignore annoying futurewarnings\n",
        "import warnings\n",
        "warnings.filterwarnings(\"ignore\", message=\".*force_all_finite.*\", category=FutureWarning)\n",
        "\n",
        "result = []\n",
        "for method in methods:\n",
        "  print(f'********************************{method}***************************')\n",
        "  study = optuna.create_study(direction=\"maximize\")\n",
        "  study.optimize(lambda T: objective(T, [method]),\n",
        "                n_trials=n_parameter_trials, show_progress_bar=True, n_jobs=2)\n",
        "  print(\"Best parameters:\", study.best_params, \"Best value:\", study.best_value)\n",
        "  result.append(study.best_params)\n",
        "  result[-1]['best_vavlue'] = study.best_value\n",
        "\n",
        "\n",
        "pretty_json_str = pprint.pformat(result, compact=True).replace(\"'\",'\"')\n",
        "with open(\"results.json\", \"w\") as outfile:\n",
        "    outfile.write(pretty_json_str)"
      ],
      "metadata": {
        "colab": {
          "base_uri": "https://localhost:8080/",
          "height": 1000,
          "referenced_widgets": [
            "169c5b07d669484890b5652540cdcc48",
            "1a7d42e4113840a5931a873352b6e32a",
            "4c2475021934401089e2750419be09eb",
            "eb745964e2cf4ea387be9ac87d68fa12",
            "733e1d434c824f0796d994017a3b724a",
            "e4069f0ad1a2427eb56ffba5f87bd9ed",
            "182927e689804fa4889fc913c5db7680",
            "ef272064752b4afeb33f452c7737d33e",
            "3fffd3f9e1a84906be5117ea2a5b9f57",
            "c31ccc74cb4d430eae663c7fa63c30c3",
            "78cb0619d2f049da80bab97b763b1ef7",
            "2992b8460d234d7e90a168f67bb294db",
            "95d4f12a46ef4bd985b7d62245d82d29",
            "0544b43a18cd4d83bcfbef0985632217",
            "7d73b317667845609e732dd54efb62b9",
            "42dea4ca24b842cead69ffca2ef5cdb1",
            "538beaabe6294a698b02f7cffbf63bc1",
            "e36de207c9784d72b59c71a7a0bc8656",
            "1ddb444f4c134ca39506506964ef1c6c",
            "1c0c4c7a718a4bdbab1ec93735bd10a8",
            "748ff5d2c221443bb57df599cef331ac",
            "e8114128d44f4f5db11d2a488d494a3a",
            "0a15590f78cd49fdb254a1988250bb11",
            "376c121c02b640ccbfaca9158aed5323",
            "1fd4607d392640c2a7dee6460b571ec5",
            "94b267cee4484477bfd975e26fceb207",
            "86486f4997984a258b919780f6d8cdac",
            "72454bc2f47a4a80934dc0e0fed27963",
            "3c301e6b36c84e5fac0847999cdedd3c",
            "369e404bfe4b4ca58656674fe395364e",
            "81404a5be8194982802ddaf399cf2bfc",
            "7eec3409c281498d93f37b5e11f98ebb",
            "1ffd549f52c544d4b16e7a64d609d146",
            "cd3f50bf99db4ec096fc75d57a3b3e9b",
            "47d658209dc943918120480d0a2d8687",
            "eaf3bcb623af4aad920e6ad728b2195b",
            "06fbb7d7639349b2b718041a60dfa92b",
            "47e0f89c4a1f4c18b4765ae97cf9f9f2",
            "711fcdaf556144dc8782896ef7d8da04",
            "7705ecd181444bf5909356a42089fd69",
            "8203101134584366bb1776b0a64d97c4",
            "897b368476394cc3ae22ba4d880e2a60",
            "7c3f348b094e4a8a987b0ad06c06bcde",
            "e878fffac814412681ea32c20ef16c12",
            "ee1d0623cc414bde8ebb98cd1792f8c2",
            "094089ffddb74c578aee487e6f389d33",
            "7bc363b6cbc14934beb42619b668f7d0",
            "79bebf2407624755912f01d442314d41",
            "2580f07b8dfa498b81d270d8d53eac5e",
            "f16c4b923d6b4151bad6fbc445c1daf5",
            "c93cfab7f31b4265afe90ff3bf4a1295",
            "bb4ed96f67144c068b0e093746d981c8",
            "f2b3d787f3f34b25a71122e94a70eb96",
            "acb3568b68684d7e82d8b0306fa90938",
            "e09205795be94a2c9b3e102c1e8b716a",
            "65e2c61b540a47bf991da451a8ab0c87",
            "6eccde3e42d2482e8d68b432e98779cb",
            "81c6692ee30240ea9f494a9fd9ae3308",
            "3465b8f551794723b8dcfca4a26bd31a",
            "f98a54afcb044839afc9b03ebc35f861",
            "09f3e3107e7749baa3fe8c3422aa325c",
            "787e65af6f064ca78443b30fcaf96f5c",
            "0aec23234daa4fe3b95c55d061f9530a",
            "75bc16b3aed64f13995b8350ac828583",
            "8fb0e037f47d42fcb1f9c8447260eb7d",
            "7a123dd55e774b0b85af2d1b45624c63"
          ]
        },
        "id": "zCCLP6_fodt2",
        "outputId": "1e6970ca-3984-4e0c-e200-74dd07c8b92a"
      },
      "execution_count": null,
      "outputs": [
        {
          "output_type": "stream",
          "name": "stdout",
          "text": [
            "Dataset balance:\n",
            "class round has 17 items\n",
            "class inbetween has 26 items\n",
            "class cigar has 7 items\n",
            "-----------------------------------------\n",
            "LOAD IMAGES\n"
          ]
        },
        {
          "output_type": "display_data",
          "data": {
            "text/plain": [
              "  0%|          | 0/50 [00:00<?, ?it/s]"
            ],
            "application/vnd.jupyter.widget-view+json": {
              "version_major": 2,
              "version_minor": 0,
              "model_id": "169c5b07d669484890b5652540cdcc48"
            }
          },
          "metadata": {}
        },
        {
          "output_type": "stream",
          "name": "stderr",
          "text": [
            "[I 2025-02-13 12:06:32,764] A new study created in memory with name: no-name-0b3a7c51-188c-4e7a-a1d3-f64ce47c6839\n"
          ]
        },
        {
          "output_type": "stream",
          "name": "stdout",
          "text": [
            "********************************t-SNE***************************\n"
          ]
        },
        {
          "output_type": "display_data",
          "data": {
            "text/plain": [
              "  0%|          | 0/50 [00:00<?, ?it/s]"
            ],
            "application/vnd.jupyter.widget-view+json": {
              "version_major": 2,
              "version_minor": 0,
              "model_id": "2992b8460d234d7e90a168f67bb294db"
            }
          },
          "metadata": {}
        },
        {
          "output_type": "stream",
          "name": "stdout",
          "text": [
            "[I 2025-02-13 12:06:34,985] Trial 1 finished with value: 0.38 and parameters: {'dr_method': 't-SNE', 'n_components': 22, 'perplexity': 20, 'learning_rate': 89.00329319598727}. Best is trial 1 with value: 0.38.\n",
            "[I 2025-02-13 12:06:35,149] Trial 0 finished with value: 0.4600000000000001 and parameters: {'dr_method': 't-SNE', 'n_components': 42, 'perplexity': 47, 'learning_rate': 18.682969462645865}. Best is trial 0 with value: 0.4600000000000001.\n",
            "[I 2025-02-13 12:06:37,182] Trial 3 finished with value: 0.5199999999999999 and parameters: {'dr_method': 't-SNE', 'n_components': 2, 'perplexity': 14, 'learning_rate': 720.7895180263499}. Best is trial 3 with value: 0.5199999999999999.\n",
            "[I 2025-02-13 12:06:37,741] Trial 2 finished with value: 0.36 and parameters: {'dr_method': 't-SNE', 'n_components': 15, 'perplexity': 47, 'learning_rate': 32.147815241080394}. Best is trial 3 with value: 0.5199999999999999.\n",
            "[I 2025-02-13 12:06:38,050] Trial 4 finished with value: 0.26 and parameters: {'dr_method': 't-SNE', 'n_components': 36, 'perplexity': 7, 'learning_rate': 431.87824467804444}. Best is trial 3 with value: 0.5199999999999999.\n",
            "[I 2025-02-13 12:06:40,393] Trial 5 finished with value: 0.36 and parameters: {'dr_method': 't-SNE', 'n_components': 35, 'perplexity': 33, 'learning_rate': 74.32427077015188}. Best is trial 3 with value: 0.5199999999999999.\n",
            "[I 2025-02-13 12:06:40,502] Trial 6 finished with value: 0.38 and parameters: {'dr_method': 't-SNE', 'n_components': 28, 'perplexity': 34, 'learning_rate': 14.775329718660652}. Best is trial 3 with value: 0.5199999999999999.\n",
            "[I 2025-02-13 12:06:41,418] Trial 7 finished with value: 0.34 and parameters: {'dr_method': 't-SNE', 'n_components': 34, 'perplexity': 40, 'learning_rate': 370.3293852375769}. Best is trial 3 with value: 0.5199999999999999.\n",
            "[I 2025-02-13 12:06:44,450] Trial 8 finished with value: 0.45999999999999996 and parameters: {'dr_method': 't-SNE', 'n_components': 42, 'perplexity': 6, 'learning_rate': 11.460390291302156}. Best is trial 3 with value: 0.5199999999999999.\n",
            "[I 2025-02-13 12:06:45,466] Trial 9 finished with value: 0.38 and parameters: {'dr_method': 't-SNE', 'n_components': 44, 'perplexity': 44, 'learning_rate': 97.11582146978611}. Best is trial 3 with value: 0.5199999999999999.\n",
            "[I 2025-02-13 12:06:45,799] Trial 10 finished with value: 0.45999999999999996 and parameters: {'dr_method': 't-SNE', 'n_components': 2, 'perplexity': 32, 'learning_rate': 49.12126479548659}. Best is trial 3 with value: 0.5199999999999999.\n",
            "[I 2025-02-13 12:06:48,059] Trial 11 finished with value: 0.42000000000000004 and parameters: {'dr_method': 't-SNE', 'n_components': 2, 'perplexity': 19, 'learning_rate': 819.7747892934249}. Best is trial 3 with value: 0.5199999999999999.\n",
            "[I 2025-02-13 12:06:48,548] Trial 12 finished with value: 0.52 and parameters: {'dr_method': 't-SNE', 'n_components': 4, 'perplexity': 19, 'learning_rate': 987.8734217443686}. Best is trial 12 with value: 0.52.\n",
            "[I 2025-02-13 12:06:49,408] Trial 13 finished with value: 0.26 and parameters: {'dr_method': 't-SNE', 'n_components': 49, 'perplexity': 16, 'learning_rate': 241.90948549261145}. Best is trial 12 with value: 0.52.\n",
            "[I 2025-02-13 12:06:51,083] Trial 14 finished with value: 0.45999999999999996 and parameters: {'dr_method': 't-SNE', 'n_components': 11, 'perplexity': 17, 'learning_rate': 955.040474308139}. Best is trial 12 with value: 0.52.\n",
            "[I 2025-02-13 12:06:51,497] Trial 15 finished with value: 0.44000000000000006 and parameters: {'dr_method': 't-SNE', 'n_components': 10, 'perplexity': 13, 'learning_rate': 899.8368247306538}. Best is trial 12 with value: 0.52.\n",
            "[I 2025-02-13 12:06:53,210] Trial 16 finished with value: 0.4 and parameters: {'dr_method': 't-SNE', 'n_components': 11, 'perplexity': 25, 'learning_rate': 244.52098350572257}. Best is trial 12 with value: 0.52.\n",
            "[I 2025-02-13 12:06:53,542] Trial 17 finished with value: 0.38 and parameters: {'dr_method': 't-SNE', 'n_components': 7, 'perplexity': 25, 'learning_rate': 201.83025075621956}. Best is trial 12 with value: 0.52.\n",
            "[I 2025-02-13 12:06:53,884] Trial 18 finished with value: 0.52 and parameters: {'dr_method': 't-SNE', 'n_components': 17, 'perplexity': 26, 'learning_rate': 528.5701508666355}. Best is trial 12 with value: 0.52.\n",
            "[I 2025-02-13 12:06:54,263] Trial 19 finished with value: 0.36 and parameters: {'dr_method': 't-SNE', 'n_components': 19, 'perplexity': 11, 'learning_rate': 507.8736874934641}. Best is trial 12 with value: 0.52.\n",
            "[I 2025-02-13 12:06:56,792] Trial 20 finished with value: 0.5 and parameters: {'dr_method': 't-SNE', 'n_components': 19, 'perplexity': 29, 'learning_rate': 159.7355665336676}. Best is trial 12 with value: 0.52.\n",
            "[I 2025-02-13 12:06:56,985] Trial 21 finished with value: 0.5599999999999999 and parameters: {'dr_method': 't-SNE', 'n_components': 17, 'perplexity': 28, 'learning_rate': 160.44408198234535}. Best is trial 21 with value: 0.5599999999999999.\n",
            "[I 2025-02-13 12:06:57,591] Trial 23 finished with value: 0.38 and parameters: {'dr_method': 't-SNE', 'n_components': 28, 'perplexity': 22, 'learning_rate': 562.8760804369136}. Best is trial 21 with value: 0.5599999999999999.\n",
            "[I 2025-02-13 12:06:58,180] Trial 24 finished with value: 0.4 and parameters: {'dr_method': 't-SNE', 'n_components': 16, 'perplexity': 29, 'learning_rate': 319.02555179280563}. Best is trial 21 with value: 0.5599999999999999.\n",
            "[I 2025-02-13 12:06:58,695] Trial 22 finished with value: 0.42000000000000004 and parameters: {'dr_method': 't-SNE', 'n_components': 6, 'perplexity': 22, 'learning_rate': 656.267915357598}. Best is trial 21 with value: 0.5599999999999999.\n",
            "[I 2025-02-13 12:07:00,267] Trial 25 finished with value: 0.38 and parameters: {'dr_method': 't-SNE', 'n_components': 23, 'perplexity': 38, 'learning_rate': 137.88760700649257}. Best is trial 21 with value: 0.5599999999999999.\n",
            "[I 2025-02-13 12:07:00,609] Trial 26 finished with value: 0.38 and parameters: {'dr_method': 't-SNE', 'n_components': 22, 'perplexity': 37, 'learning_rate': 144.64580166578287}. Best is trial 21 with value: 0.5599999999999999.\n",
            "[I 2025-02-13 12:07:00,844] Trial 27 finished with value: 0.32 and parameters: {'dr_method': 't-SNE', 'n_components': 26, 'perplexity': 27, 'learning_rate': 320.6285111527974}. Best is trial 21 with value: 0.5599999999999999.\n",
            "[I 2025-02-13 12:07:01,097] Trial 28 finished with value: 0.42000000000000004 and parameters: {'dr_method': 't-SNE', 'n_components': 14, 'perplexity': 27, 'learning_rate': 327.7188702344331}. Best is trial 21 with value: 0.5599999999999999.\n",
            "[I 2025-02-13 12:07:01,438] Trial 29 finished with value: 0.4 and parameters: {'dr_method': 't-SNE', 'n_components': 14, 'perplexity': 24, 'learning_rate': 475.69382413366316}. Best is trial 21 with value: 0.5599999999999999.\n",
            "[I 2025-02-13 12:07:03,005] Trial 30 finished with value: 0.6 and parameters: {'dr_method': 't-SNE', 'n_components': 7, 'perplexity': 23, 'learning_rate': 56.919383444207476}. Best is trial 30 with value: 0.6.\n",
            "[I 2025-02-13 12:07:03,558] Trial 31 finished with value: 0.34 and parameters: {'dr_method': 't-SNE', 'n_components': 7, 'perplexity': 31, 'learning_rate': 24.619955803912845}. Best is trial 30 with value: 0.6.\n",
            "[I 2025-02-13 12:07:04,763] Trial 32 finished with value: 0.45999999999999996 and parameters: {'dr_method': 't-SNE', 'n_components': 6, 'perplexity': 30, 'learning_rate': 33.72291842709857}. Best is trial 30 with value: 0.6.\n",
            "[I 2025-02-13 12:07:05,257] Trial 33 finished with value: 0.44000000000000006 and parameters: {'dr_method': 't-SNE', 'n_components': 5, 'perplexity': 21, 'learning_rate': 57.73545799318488}. Best is trial 30 with value: 0.6.\n",
            "[I 2025-02-13 12:07:06,901] Trial 34 finished with value: 0.6199999999999999 and parameters: {'dr_method': 't-SNE', 'n_components': 19, 'perplexity': 20, 'learning_rate': 63.950780445407204}. Best is trial 34 with value: 0.6199999999999999.\n",
            "[I 2025-02-13 12:07:07,368] Trial 35 finished with value: 0.33999999999999997 and parameters: {'dr_method': 't-SNE', 'n_components': 11, 'perplexity': 18, 'learning_rate': 57.04238688706747}. Best is trial 34 with value: 0.6199999999999999.\n",
            "[I 2025-02-13 12:07:09,292] Trial 36 finished with value: 0.43999999999999995 and parameters: {'dr_method': 't-SNE', 'n_components': 12, 'perplexity': 19, 'learning_rate': 40.682786017813214}. Best is trial 34 with value: 0.6199999999999999.\n",
            "[I 2025-02-13 12:07:09,962] Trial 37 finished with value: 0.48 and parameters: {'dr_method': 't-SNE', 'n_components': 19, 'perplexity': 9, 'learning_rate': 38.86186463917674}. Best is trial 34 with value: 0.6199999999999999.\n",
            "[I 2025-02-13 12:07:11,064] Trial 39 finished with value: 0.36 and parameters: {'dr_method': 't-SNE', 'n_components': 9, 'perplexity': 14, 'learning_rate': 69.17053427788206}. Best is trial 34 with value: 0.6199999999999999.\n",
            "[I 2025-02-13 12:07:12,134] Trial 38 finished with value: 0.54 and parameters: {'dr_method': 't-SNE', 'n_components': 20, 'perplexity': 10, 'learning_rate': 21.670111564270726}. Best is trial 34 with value: 0.6199999999999999.\n",
            "[I 2025-02-13 12:07:13,366] Trial 40 finished with value: 0.5 and parameters: {'dr_method': 't-SNE', 'n_components': 32, 'perplexity': 23, 'learning_rate': 105.10587718844432}. Best is trial 34 with value: 0.6199999999999999.\n",
            "[I 2025-02-13 12:07:14,386] Trial 41 finished with value: 0.4 and parameters: {'dr_method': 't-SNE', 'n_components': 30, 'perplexity': 8, 'learning_rate': 24.568134061789234}. Best is trial 34 with value: 0.6199999999999999.\n",
            "[I 2025-02-13 12:07:15,601] Trial 42 finished with value: 0.45999999999999996 and parameters: {'dr_method': 't-SNE', 'n_components': 24, 'perplexity': 5, 'learning_rate': 24.575663145861107}. Best is trial 34 with value: 0.6199999999999999.\n",
            "[I 2025-02-13 12:07:16,584] Trial 43 finished with value: 0.5 and parameters: {'dr_method': 't-SNE', 'n_components': 23, 'perplexity': 15, 'learning_rate': 15.391815693893395}. Best is trial 34 with value: 0.6199999999999999.\n",
            "[I 2025-02-13 12:07:17,731] Trial 44 finished with value: 0.43999999999999995 and parameters: {'dr_method': 't-SNE', 'n_components': 20, 'perplexity': 16, 'learning_rate': 14.672035815135025}. Best is trial 34 with value: 0.6199999999999999.\n",
            "[I 2025-02-13 12:07:18,766] Trial 45 finished with value: 0.33999999999999997 and parameters: {'dr_method': 't-SNE', 'n_components': 20, 'perplexity': 20, 'learning_rate': 81.14019480570438}. Best is trial 34 with value: 0.6199999999999999.\n",
            "[I 2025-02-13 12:07:19,468] Trial 46 finished with value: 0.38 and parameters: {'dr_method': 't-SNE', 'n_components': 17, 'perplexity': 10, 'learning_rate': 83.84586144934558}. Best is trial 34 with value: 0.6199999999999999.\n",
            "[I 2025-02-13 12:07:19,970] Trial 47 finished with value: 0.5 and parameters: {'dr_method': 't-SNE', 'n_components': 4, 'perplexity': 11, 'learning_rate': 112.34921476557054}. Best is trial 34 with value: 0.6199999999999999.\n",
            "[I 2025-02-13 12:07:20,656] Trial 48 finished with value: 0.4 and parameters: {'dr_method': 't-SNE', 'n_components': 3, 'perplexity': 12, 'learning_rate': 10.43889594061082}. Best is trial 34 with value: 0.6199999999999999.\n"
          ]
        },
        {
          "output_type": "stream",
          "name": "stderr",
          "text": [
            "[I 2025-02-13 12:07:21,053] A new study created in memory with name: no-name-7cb90f97-88ac-4043-bdba-937a4789aa56\n"
          ]
        },
        {
          "output_type": "stream",
          "name": "stdout",
          "text": [
            "[I 2025-02-13 12:07:21,045] Trial 49 finished with value: 0.42000000000000004 and parameters: {'dr_method': 't-SNE', 'n_components': 14, 'perplexity': 35, 'learning_rate': 11.701520405187434}. Best is trial 34 with value: 0.6199999999999999.\n",
            "Best parameters: {'dr_method': 't-SNE', 'n_components': 19, 'perplexity': 20, 'learning_rate': 63.950780445407204} Best value: 0.6199999999999999\n",
            "********************************LLE***************************\n"
          ]
        },
        {
          "output_type": "display_data",
          "data": {
            "text/plain": [
              "  0%|          | 0/50 [00:00<?, ?it/s]"
            ],
            "application/vnd.jupyter.widget-view+json": {
              "version_major": 2,
              "version_minor": 0,
              "model_id": "0a15590f78cd49fdb254a1988250bb11"
            }
          },
          "metadata": {}
        },
        {
          "output_type": "stream",
          "name": "stdout",
          "text": [
            "[I 2025-02-13 12:07:21,289] Trial 0 finished with value: 0.43999999999999995 and parameters: {'dr_method': 'LLE', 'n_components': 45, 'n_neighbors': 23}. Best is trial 0 with value: 0.43999999999999995.\n",
            "[I 2025-02-13 12:07:21,425] Trial 1 finished with value: 0.48 and parameters: {'dr_method': 'LLE', 'n_components': 19, 'n_neighbors': 41}. Best is trial 1 with value: 0.48.\n",
            "[I 2025-02-13 12:07:21,538] Trial 3 finished with value: 0.62 and parameters: {'dr_method': 'LLE', 'n_components': 45, 'n_neighbors': 10}. Best is trial 3 with value: 0.62.\n",
            "[I 2025-02-13 12:07:21,605] Trial 2 finished with value: 0.5 and parameters: {'dr_method': 'LLE', 'n_components': 42, 'n_neighbors': 38}. Best is trial 3 with value: 0.62.\n",
            "[I 2025-02-13 12:07:21,700] Trial 5 finished with value: 0.66 and parameters: {'dr_method': 'LLE', 'n_components': 18, 'n_neighbors': 12}. Best is trial 5 with value: 0.66.\n",
            "[I 2025-02-13 12:07:21,847] Trial 4 finished with value: 0.42000000000000004 and parameters: {'dr_method': 'LLE', 'n_components': 44, 'n_neighbors': 41}. Best is trial 5 with value: 0.66.\n",
            "[I 2025-02-13 12:07:22,004] Trial 6 finished with value: 0.52 and parameters: {'dr_method': 'LLE', 'n_components': 27, 'n_neighbors': 41}. Best is trial 5 with value: 0.66.\n",
            "[I 2025-02-13 12:07:22,156] Trial 7 finished with value: 0.48 and parameters: {'dr_method': 'LLE', 'n_components': 38, 'n_neighbors': 44}. Best is trial 5 with value: 0.66.\n",
            "[I 2025-02-13 12:07:22,309] Trial 9 finished with value: 0.54 and parameters: {'dr_method': 'LLE', 'n_components': 35, 'n_neighbors': 18}. Best is trial 5 with value: 0.66.\n",
            "[I 2025-02-13 12:07:22,381] Trial 8 finished with value: 0.44000000000000006 and parameters: {'dr_method': 'LLE', 'n_components': 26, 'n_neighbors': 46}. Best is trial 5 with value: 0.66.\n",
            "[I 2025-02-13 12:07:22,460] Trial 11 finished with value: 0.43999999999999995 and parameters: {'dr_method': 'LLE', 'n_components': 3, 'n_neighbors': 3}. Best is trial 5 with value: 0.66.\n",
            "[I 2025-02-13 12:07:22,523] Trial 10 finished with value: 0.56 and parameters: {'dr_method': 'LLE', 'n_components': 45, 'n_neighbors': 12}. Best is trial 5 with value: 0.66.\n",
            "[I 2025-02-13 12:07:22,643] Trial 12 finished with value: 0.7200000000000001 and parameters: {'dr_method': 'LLE', 'n_components': 14, 'n_neighbors': 9}. Best is trial 12 with value: 0.7200000000000001.\n",
            "[I 2025-02-13 12:07:22,681] Trial 13 finished with value: 0.7200000000000001 and parameters: {'dr_method': 'LLE', 'n_components': 14, 'n_neighbors': 7}. Best is trial 12 with value: 0.7200000000000001.\n",
            "[I 2025-02-13 12:07:22,912] Trial 15 finished with value: 0.42000000000000004 and parameters: {'dr_method': 'LLE', 'n_components': 8, 'n_neighbors': 31}. Best is trial 12 with value: 0.7200000000000001.\n",
            "[I 2025-02-13 12:07:22,960] Trial 14 finished with value: 0.52 and parameters: {'dr_method': 'LLE', 'n_components': 11, 'n_neighbors': 31}. Best is trial 12 with value: 0.7200000000000001.\n",
            "[I 2025-02-13 12:07:23,046] Trial 16 finished with value: 0.6599999999999999 and parameters: {'dr_method': 'LLE', 'n_components': 14, 'n_neighbors': 5}. Best is trial 12 with value: 0.7200000000000001.\n",
            "[I 2025-02-13 12:07:23,127] Trial 17 finished with value: 0.74 and parameters: {'dr_method': 'LLE', 'n_components': 17, 'n_neighbors': 6}. Best is trial 17 with value: 0.74.\n",
            "[I 2025-02-13 12:07:23,244] Trial 18 finished with value: 0.38 and parameters: {'dr_method': 'LLE', 'n_components': 3, 'n_neighbors': 21}. Best is trial 17 with value: 0.74.\n",
            "[I 2025-02-13 12:07:23,337] Trial 19 finished with value: 0.62 and parameters: {'dr_method': 'LLE', 'n_components': 22, 'n_neighbors': 17}. Best is trial 17 with value: 0.74.\n",
            "[I 2025-02-13 12:07:23,439] Trial 20 finished with value: 0.56 and parameters: {'dr_method': 'LLE', 'n_components': 31, 'n_neighbors': 16}. Best is trial 17 with value: 0.74.\n",
            "[I 2025-02-13 12:07:23,550] Trial 22 finished with value: 0.64 and parameters: {'dr_method': 'LLE', 'n_components': 15, 'n_neighbors': 8}. Best is trial 17 with value: 0.74.\n",
            "[I 2025-02-13 12:07:23,665] Trial 23 finished with value: 0.52 and parameters: {'dr_method': 'LLE', 'n_components': 8, 'n_neighbors': 8}. Best is trial 17 with value: 0.74.\n",
            "[I 2025-02-13 12:07:23,718] Trial 21 finished with value: 0.44000000000000006 and parameters: {'dr_method': 'LLE', 'n_components': 30, 'n_neighbors': 26}. Best is trial 17 with value: 0.74.\n",
            "[I 2025-02-13 12:07:23,831] Trial 24 finished with value: 0.5800000000000001 and parameters: {'dr_method': 'LLE', 'n_components': 22, 'n_neighbors': 14}. Best is trial 17 with value: 0.74.\n",
            "[I 2025-02-13 12:07:23,893] Trial 25 finished with value: 0.64 and parameters: {'dr_method': 'LLE', 'n_components': 21, 'n_neighbors': 14}. Best is trial 17 with value: 0.74.\n",
            "[I 2025-02-13 12:07:23,973] Trial 26 finished with value: 0.6799999999999999 and parameters: {'dr_method': 'LLE', 'n_components': 11, 'n_neighbors': 7}. Best is trial 17 with value: 0.74.\n",
            "[I 2025-02-13 12:07:24,049] Trial 27 finished with value: 0.7200000000000001 and parameters: {'dr_method': 'LLE', 'n_components': 14, 'n_neighbors': 7}. Best is trial 17 with value: 0.74.\n",
            "[I 2025-02-13 12:07:24,133] Trial 28 finished with value: 0.68 and parameters: {'dr_method': 'LLE', 'n_components': 16, 'n_neighbors': 10}. Best is trial 17 with value: 0.74.\n",
            "[I 2025-02-13 12:07:24,219] Trial 29 finished with value: 0.5599999999999999 and parameters: {'dr_method': 'LLE', 'n_components': 7, 'n_neighbors': 20}. Best is trial 17 with value: 0.74.\n",
            "[I 2025-02-13 12:07:24,372] Trial 30 finished with value: 0.54 and parameters: {'dr_method': 'LLE', 'n_components': 8, 'n_neighbors': 24}. Best is trial 17 with value: 0.74.\n",
            "[I 2025-02-13 12:07:24,448] Trial 31 finished with value: 0.5 and parameters: {'dr_method': 'LLE', 'n_components': 10, 'n_neighbors': 24}. Best is trial 17 with value: 0.74.\n",
            "[I 2025-02-13 12:07:24,537] Trial 32 finished with value: 0.6799999999999999 and parameters: {'dr_method': 'LLE', 'n_components': 12, 'n_neighbors': 6}. Best is trial 17 with value: 0.74.\n",
            "[I 2025-02-13 12:07:24,619] Trial 33 finished with value: 0.64 and parameters: {'dr_method': 'LLE', 'n_components': 13, 'n_neighbors': 6}. Best is trial 17 with value: 0.74.\n",
            "Skipping LLE trial due to error: Expected n_neighbors <= n_samples,  but n_samples = 50, n_neighbors = 50\n",
            "[I 2025-02-13 12:07:24,633] Trial 35 finished with value: -inf and parameters: {'dr_method': 'LLE', 'n_components': 19, 'n_neighbors': 50}. Best is trial 17 with value: 0.74.\n",
            "[I 2025-02-13 12:07:24,719] Trial 34 finished with value: 0.76 and parameters: {'dr_method': 'LLE', 'n_components': 18, 'n_neighbors': 10}. Best is trial 34 with value: 0.76.\n",
            "[I 2025-02-13 12:07:24,796] Trial 36 finished with value: 0.76 and parameters: {'dr_method': 'LLE', 'n_components': 19, 'n_neighbors': 10}. Best is trial 34 with value: 0.76.\n",
            "[I 2025-02-13 12:07:24,886] Trial 37 finished with value: 0.6799999999999999 and parameters: {'dr_method': 'LLE', 'n_components': 17, 'n_neighbors': 11}. Best is trial 34 with value: 0.76.\n",
            "[I 2025-02-13 12:07:24,970] Trial 38 finished with value: 0.6599999999999999 and parameters: {'dr_method': 'LLE', 'n_components': 24, 'n_neighbors': 11}. Best is trial 34 with value: 0.76.\n",
            "[I 2025-02-13 12:07:25,070] Trial 39 finished with value: 0.64 and parameters: {'dr_method': 'LLE', 'n_components': 21, 'n_neighbors': 14}. Best is trial 34 with value: 0.76.\n",
            "[I 2025-02-13 12:07:25,154] Trial 40 finished with value: 0.6599999999999999 and parameters: {'dr_method': 'LLE', 'n_components': 19, 'n_neighbors': 14}. Best is trial 34 with value: 0.76.\n",
            "[I 2025-02-13 12:07:25,256] Trial 42 finished with value: 0.74 and parameters: {'dr_method': 'LLE', 'n_components': 17, 'n_neighbors': 9}. Best is trial 34 with value: 0.76.\n",
            "[I 2025-02-13 12:07:25,343] Trial 41 finished with value: 0.6 and parameters: {'dr_method': 'LLE', 'n_components': 28, 'n_neighbors': 19}. Best is trial 34 with value: 0.76.\n",
            "[I 2025-02-13 12:07:25,462] Trial 44 finished with value: 0.68 and parameters: {'dr_method': 'LLE', 'n_components': 24, 'n_neighbors': 9}. Best is trial 34 with value: 0.76.\n",
            "[I 2025-02-13 12:07:25,545] Trial 43 finished with value: 0.7 and parameters: {'dr_method': 'LLE', 'n_components': 18, 'n_neighbors': 9}. Best is trial 34 with value: 0.76.\n",
            "[I 2025-02-13 12:07:25,653] Trial 45 finished with value: 0.66 and parameters: {'dr_method': 'LLE', 'n_components': 18, 'n_neighbors': 12}. Best is trial 34 with value: 0.76.\n",
            "[I 2025-02-13 12:07:25,717] Trial 46 finished with value: 0.7 and parameters: {'dr_method': 'LLE', 'n_components': 16, 'n_neighbors': 12}. Best is trial 34 with value: 0.76.\n",
            "[I 2025-02-13 12:07:25,787] Trial 47 finished with value: 0.48 and parameters: {'dr_method': 'LLE', 'n_components': 48, 'n_neighbors': 5}. Best is trial 34 with value: 0.76.\n",
            "[I 2025-02-13 12:07:25,875] Trial 48 finished with value: 0.5 and parameters: {'dr_method': 'LLE', 'n_components': 5, 'n_neighbors': 16}. Best is trial 34 with value: 0.76.\n"
          ]
        },
        {
          "output_type": "stream",
          "name": "stderr",
          "text": [
            "[I 2025-02-13 12:07:25,961] A new study created in memory with name: no-name-73ee65ba-610f-4903-9799-054ec84be155\n"
          ]
        },
        {
          "output_type": "stream",
          "name": "stdout",
          "text": [
            "[I 2025-02-13 12:07:25,949] Trial 49 finished with value: 0.48 and parameters: {'dr_method': 'LLE', 'n_components': 25, 'n_neighbors': 29}. Best is trial 34 with value: 0.76.\n",
            "Best parameters: {'dr_method': 'LLE', 'n_components': 18, 'n_neighbors': 10} Best value: 0.76\n",
            "********************************Isomap***************************\n"
          ]
        },
        {
          "output_type": "display_data",
          "data": {
            "text/plain": [
              "  0%|          | 0/50 [00:00<?, ?it/s]"
            ],
            "application/vnd.jupyter.widget-view+json": {
              "version_major": 2,
              "version_minor": 0,
              "model_id": "cd3f50bf99db4ec096fc75d57a3b3e9b"
            }
          },
          "metadata": {}
        },
        {
          "output_type": "stream",
          "name": "stdout",
          "text": [
            "Skipping Isomap trial due to error: There are significant negative eigenvalues (0.0276908 of the maximum positive). Either the matrix is not PSD, or there was an issue while computing the eigendecomposition of the matrix.\n",
            "[I 2025-02-13 12:07:26,037] Trial 0 finished with value: -inf and parameters: {'dr_method': 'Isomap', 'n_components': 45, 'n_neighbors': 23}. Best is trial 0 with value: -inf.\n",
            "[I 2025-02-13 12:07:26,111] Trial 1 finished with value: 0.45999999999999996 and parameters: {'dr_method': 'Isomap', 'n_components': 24, 'n_neighbors': 11}. Best is trial 1 with value: 0.45999999999999996.\n",
            "[I 2025-02-13 12:07:26,156] Trial 2 finished with value: 0.45999999999999996 and parameters: {'dr_method': 'Isomap', 'n_components': 27, 'n_neighbors': 10}. Best is trial 1 with value: 0.45999999999999996.\n",
            "Skipping Isomap trial due to error: There are significant negative eigenvalues (0.0134683 of the maximum positive). Either the matrix is not PSD, or there was an issue while computing the eigendecomposition of the matrix.\n",
            "[I 2025-02-13 12:07:26,161] Trial 3 finished with value: -inf and parameters: {'dr_method': 'Isomap', 'n_components': 39, 'n_neighbors': 14}. Best is trial 1 with value: 0.45999999999999996.\n",
            "[I 2025-02-13 12:07:26,253] Trial 4 finished with value: 0.52 and parameters: {'dr_method': 'Isomap', 'n_components': 21, 'n_neighbors': 13}. Best is trial 4 with value: 0.52.\n",
            "[I 2025-02-13 12:07:26,293] Trial 5 finished with value: 0.3 and parameters: {'dr_method': 'Isomap', 'n_components': 27, 'n_neighbors': 24}. Best is trial 4 with value: 0.52.\n",
            "Skipping Isomap trial due to error: There are significant negative eigenvalues (0.0323897 of the maximum positive). Either the matrix is not PSD, or there was an issue while computing the eigendecomposition of the matrix.\n",
            "[I 2025-02-13 12:07:26,303] Trial 6 finished with value: -inf and parameters: {'dr_method': 'Isomap', 'n_components': 46, 'n_neighbors': 14}. Best is trial 4 with value: 0.52.\n",
            "[I 2025-02-13 12:07:26,407] Trial 7 finished with value: 0.45999999999999996 and parameters: {'dr_method': 'Isomap', 'n_components': 28, 'n_neighbors': 17}. Best is trial 4 with value: 0.52.\n",
            "[I 2025-02-13 12:07:26,433] Trial 8 finished with value: 0.45999999999999996 and parameters: {'dr_method': 'Isomap', 'n_components': 10, 'n_neighbors': 13}. Best is trial 4 with value: 0.52.\n",
            "Skipping Isomap trial due to error: There are significant negative eigenvalues (0.0144902 of the maximum positive). Either the matrix is not PSD, or there was an issue while computing the eigendecomposition of the matrix.\n",
            "[I 2025-02-13 12:07:26,464] Trial 9 finished with value: -inf and parameters: {'dr_method': 'Isomap', 'n_components': 41, 'n_neighbors': 20}. Best is trial 4 with value: 0.52.\n",
            "Skipping Isomap trial due to error: There are significant negative eigenvalues (0.0167855 of the maximum positive). Either the matrix is not PSD, or there was an issue while computing the eigendecomposition of the matrix.\n",
            "[I 2025-02-13 12:07:26,485] Trial 10 finished with value: -inf and parameters: {'dr_method': 'Isomap', 'n_components': 41, 'n_neighbors': 13}. Best is trial 4 with value: 0.52.\n",
            "[I 2025-02-13 12:07:26,600] Trial 11 finished with value: 0.4 and parameters: {'dr_method': 'Isomap', 'n_components': 4, 'n_neighbors': 19}. Best is trial 4 with value: 0.52.\n",
            "[I 2025-02-13 12:07:26,685] Trial 12 finished with value: 0.38 and parameters: {'dr_method': 'Isomap', 'n_components': 14, 'n_neighbors': 10}. Best is trial 4 with value: 0.52.\n",
            "[I 2025-02-13 12:07:26,779] Trial 13 finished with value: 0.32 and parameters: {'dr_method': 'Isomap', 'n_components': 17, 'n_neighbors': 10}. Best is trial 4 with value: 0.52.\n",
            "[I 2025-02-13 12:07:26,873] Trial 14 finished with value: 0.4 and parameters: {'dr_method': 'Isomap', 'n_components': 17, 'n_neighbors': 16}. Best is trial 4 with value: 0.52.\n",
            "Skipping Isomap trial due to error: There are significant negative eigenvalues (0.00380221 of the maximum positive). Either the matrix is not PSD, or there was an issue while computing the eigendecomposition of the matrix.\n",
            "[I 2025-02-13 12:07:26,929] Trial 16 finished with value: -inf and parameters: {'dr_method': 'Isomap', 'n_components': 34, 'n_neighbors': 12}. Best is trial 4 with value: 0.52.\n",
            "[I 2025-02-13 12:07:26,962] Trial 15 finished with value: 0.41999999999999993 and parameters: {'dr_method': 'Isomap', 'n_components': 20, 'n_neighbors': 15}. Best is trial 4 with value: 0.52.\n",
            "[I 2025-02-13 12:07:27,074] Trial 18 finished with value: 0.45999999999999996 and parameters: {'dr_method': 'Isomap', 'n_components': 22, 'n_neighbors': 12}. Best is trial 4 with value: 0.52.\n",
            "Skipping Isomap trial due to error: There are significant negative eigenvalues (0.00210484 of the maximum positive). Either the matrix is not PSD, or there was an issue while computing the eigendecomposition of the matrix.\n",
            "[I 2025-02-13 12:07:27,144] Trial 19 finished with value: -inf and parameters: {'dr_method': 'Isomap', 'n_components': 33, 'n_neighbors': 18}. Best is trial 4 with value: 0.52.\n",
            "[I 2025-02-13 12:07:27,166] Trial 17 finished with value: 0.45999999999999996 and parameters: {'dr_method': 'Isomap', 'n_components': 21, 'n_neighbors': 16}. Best is trial 4 with value: 0.52.\n",
            "[I 2025-02-13 12:07:27,281] Trial 21 finished with value: 0.44000000000000006 and parameters: {'dr_method': 'Isomap', 'n_components': 8, 'n_neighbors': 21}. Best is trial 4 with value: 0.52.\n",
            "[I 2025-02-13 12:07:27,290] Trial 20 finished with value: 0.44000000000000006 and parameters: {'dr_method': 'Isomap', 'n_components': 8, 'n_neighbors': 21}. Best is trial 4 with value: 0.52.\n",
            "Skipping Isomap trial due to error: There are significant negative eigenvalues (0.000671026 of the maximum positive). Either the matrix is not PSD, or there was an issue while computing the eigendecomposition of the matrix.\n",
            "[I 2025-02-13 12:07:27,338] Trial 23 finished with value: -inf and parameters: {'dr_method': 'Isomap', 'n_components': 30, 'n_neighbors': 11}. Best is trial 4 with value: 0.52.Skipping Isomap trial due to error: There are significant negative eigenvalues (0.0015512 of the maximum positive). Either the matrix is not PSD, or there was an issue while computing the eigendecomposition of the matrix.\n",
            "\n",
            "[I 2025-02-13 12:07:27,339] Trial 22 finished with value: -inf and parameters: {'dr_method': 'Isomap', 'n_components': 31, 'n_neighbors': 11}. Best is trial 4 with value: 0.52.\n",
            "[I 2025-02-13 12:07:27,484] Trial 24 finished with value: 0.44000000000000006 and parameters: {'dr_method': 'Isomap', 'n_components': 23, 'n_neighbors': 10}. Best is trial 4 with value: 0.52.\n",
            "[I 2025-02-13 12:07:27,519] Trial 25 finished with value: 0.45999999999999996 and parameters: {'dr_method': 'Isomap', 'n_components': 24, 'n_neighbors': 10}. Best is trial 4 with value: 0.52.\n",
            "[I 2025-02-13 12:07:27,652] Trial 27 finished with value: 0.44000000000000006 and parameters: {'dr_method': 'Isomap', 'n_components': 15, 'n_neighbors': 12}. Best is trial 4 with value: 0.52.\n",
            "[I 2025-02-13 12:07:27,693] Trial 26 finished with value: 0.44000000000000006 and parameters: {'dr_method': 'Isomap', 'n_components': 25, 'n_neighbors': 12}. Best is trial 4 with value: 0.52.\n",
            "Skipping Isomap trial due to error: There are significant negative eigenvalues (0.00853877 of the maximum positive). Either the matrix is not PSD, or there was an issue while computing the eigendecomposition of the matrix.\n",
            "[I 2025-02-13 12:07:27,740] Trial 29 finished with value: -inf and parameters: {'dr_method': 'Isomap', 'n_components': 37, 'n_neighbors': 14}. Best is trial 4 with value: 0.52.\n",
            "[I 2025-02-13 12:07:27,804] Trial 28 finished with value: 0.5599999999999999 and parameters: {'dr_method': 'Isomap', 'n_components': 26, 'n_neighbors': 14}. Best is trial 28 with value: 0.5599999999999999.\n",
            "[I 2025-02-13 12:07:27,874] Trial 30 finished with value: 0.38 and parameters: {'dr_method': 'Isomap', 'n_components': 19, 'n_neighbors': 11}. Best is trial 28 with value: 0.5599999999999999.\n",
            "[I 2025-02-13 12:07:27,988] Trial 32 finished with value: 0.48 and parameters: {'dr_method': 'Isomap', 'n_components': 27, 'n_neighbors': 13}. Best is trial 28 with value: 0.5599999999999999.\n",
            "[I 2025-02-13 12:07:27,996] Trial 31 finished with value: 0.44000000000000006 and parameters: {'dr_method': 'Isomap', 'n_components': 19, 'n_neighbors': 15}. Best is trial 28 with value: 0.5599999999999999.\n",
            "Skipping Isomap trial due to error: There are significant negative eigenvalues (0.0512468 of the maximum positive). Either the matrix is not PSD, or there was an issue while computing the eigendecomposition of the matrix.\n",
            "[I 2025-02-13 12:07:28,055] Trial 34 finished with value: -inf and parameters: {'dr_method': 'Isomap', 'n_components': 49, 'n_neighbors': 13}. Best is trial 28 with value: 0.5599999999999999.\n",
            "[I 2025-02-13 12:07:28,116] Trial 33 finished with value: 0.48 and parameters: {'dr_method': 'Isomap', 'n_components': 27, 'n_neighbors': 13}. Best is trial 28 with value: 0.5599999999999999.\n",
            "[I 2025-02-13 12:07:28,239] Trial 35 finished with value: 0.45999999999999996 and parameters: {'dr_method': 'Isomap', 'n_components': 28, 'n_neighbors': 15}. Best is trial 28 with value: 0.5599999999999999.\n",
            "[I 2025-02-13 12:07:28,256] Trial 36 finished with value: 0.45999999999999996 and parameters: {'dr_method': 'Isomap', 'n_components': 28, 'n_neighbors': 15}. Best is trial 28 with value: 0.5599999999999999.\n",
            "Skipping Isomap trial due to error: There are significant negative eigenvalues (0.00346602 of the maximum positive). Either the matrix is not PSD, or there was an issue while computing the eigendecomposition of the matrix.\n",
            "[I 2025-02-13 12:07:28,298] Trial 37 finished with value: -inf and parameters: {'dr_method': 'Isomap', 'n_components': 34, 'n_neighbors': 14}. Best is trial 28 with value: 0.5599999999999999.\n",
            "Skipping Isomap trial due to error: There are significant negative eigenvalues (0.00620664 of the maximum positive). Either the matrix is not PSD, or there was an issue while computing the eigendecomposition of the matrix.\n",
            "[I 2025-02-13 12:07:28,355] Trial 38 finished with value: -inf and parameters: {'dr_method': 'Isomap', 'n_components': 35, 'n_neighbors': 14}. Best is trial 28 with value: 0.5599999999999999.\n",
            "[I 2025-02-13 12:07:28,448] Trial 39 finished with value: 0.42000000000000004 and parameters: {'dr_method': 'Isomap', 'n_components': 25, 'n_neighbors': 17}. Best is trial 28 with value: 0.5599999999999999.\n",
            "[I 2025-02-13 12:07:28,550] Trial 40 finished with value: 0.43999999999999995 and parameters: {'dr_method': 'Isomap', 'n_components': 25, 'n_neighbors': 16}. Best is trial 28 with value: 0.5599999999999999.\n",
            "Skipping Isomap trial due to error: There are significant negative eigenvalues (0.00049246 of the maximum positive). Either the matrix is not PSD, or there was an issue while computing the eigendecomposition of the matrix.\n",
            "[I 2025-02-13 12:07:28,637] Trial 42 finished with value: -inf and parameters: {'dr_method': 'Isomap', 'n_components': 30, 'n_neighbors': 13}. Best is trial 28 with value: 0.5599999999999999.\n",
            "[I 2025-02-13 12:07:28,675] Trial 41 finished with value: 0.45999999999999996 and parameters: {'dr_method': 'Isomap', 'n_components': 30, 'n_neighbors': 25}. Best is trial 28 with value: 0.5599999999999999.\n",
            "[I 2025-02-13 12:07:28,825] Trial 43 finished with value: 0.48 and parameters: {'dr_method': 'Isomap', 'n_components': 26, 'n_neighbors': 13}. Best is trial 28 with value: 0.5599999999999999.\n",
            "[I 2025-02-13 12:07:28,849] Trial 44 finished with value: 0.48 and parameters: {'dr_method': 'Isomap', 'n_components': 27, 'n_neighbors': 13}. Best is trial 28 with value: 0.5599999999999999.\n",
            "[I 2025-02-13 12:07:29,010] Trial 46 finished with value: 0.48 and parameters: {'dr_method': 'Isomap', 'n_components': 27, 'n_neighbors': 14}. Best is trial 28 with value: 0.5599999999999999.\n",
            "[I 2025-02-13 12:07:29,035] Trial 45 finished with value: 0.5800000000000001 and parameters: {'dr_method': 'Isomap', 'n_components': 22, 'n_neighbors': 14}. Best is trial 45 with value: 0.5800000000000001.\n"
          ]
        },
        {
          "output_type": "stream",
          "name": "stderr",
          "text": [
            "[I 2025-02-13 12:07:29,282] A new study created in memory with name: no-name-f6030463-01d7-481f-828f-4478e2498289\n"
          ]
        },
        {
          "output_type": "stream",
          "name": "stdout",
          "text": [
            "[I 2025-02-13 12:07:29,173] Trial 47 finished with value: 0.5 and parameters: {'dr_method': 'Isomap', 'n_components': 22, 'n_neighbors': 13}. Best is trial 45 with value: 0.5800000000000001.\n",
            "[I 2025-02-13 12:07:29,222] Trial 48 finished with value: 0.42000000000000004 and parameters: {'dr_method': 'Isomap', 'n_components': 15, 'n_neighbors': 17}. Best is trial 45 with value: 0.5800000000000001.\n",
            "[I 2025-02-13 12:07:29,266] Trial 49 finished with value: 0.4 and parameters: {'dr_method': 'Isomap', 'n_components': 17, 'n_neighbors': 16}. Best is trial 45 with value: 0.5800000000000001.\n",
            "Best parameters: {'dr_method': 'Isomap', 'n_components': 22, 'n_neighbors': 14} Best value: 0.5800000000000001\n",
            "********************************PCA***************************\n"
          ]
        },
        {
          "output_type": "display_data",
          "data": {
            "text/plain": [
              "  0%|          | 0/50 [00:00<?, ?it/s]"
            ],
            "application/vnd.jupyter.widget-view+json": {
              "version_major": 2,
              "version_minor": 0,
              "model_id": "ee1d0623cc414bde8ebb98cd1792f8c2"
            }
          },
          "metadata": {}
        },
        {
          "output_type": "stream",
          "name": "stdout",
          "text": [
            "[I 2025-02-13 12:07:29,657] Trial 1 finished with value: 0.43999999999999995 and parameters: {'dr_method': 'PCA', 'n_components': 36}. Best is trial 1 with value: 0.43999999999999995.\n",
            "[I 2025-02-13 12:07:29,690] Trial 0 finished with value: 0.45999999999999996 and parameters: {'dr_method': 'PCA', 'n_components': 34}. Best is trial 0 with value: 0.45999999999999996.\n",
            "[I 2025-02-13 12:07:29,845] Trial 2 finished with value: 0.4 and parameters: {'dr_method': 'PCA', 'n_components': 10}. Best is trial 0 with value: 0.45999999999999996.\n",
            "[I 2025-02-13 12:07:29,851] Trial 3 finished with value: 0.38 and parameters: {'dr_method': 'PCA', 'n_components': 5}. Best is trial 0 with value: 0.45999999999999996.\n",
            "[I 2025-02-13 12:07:30,045] Trial 4 finished with value: 0.43999999999999995 and parameters: {'dr_method': 'PCA', 'n_components': 18}. Best is trial 0 with value: 0.45999999999999996.\n",
            "[I 2025-02-13 12:07:30,058] Trial 5 finished with value: 0.41999999999999993 and parameters: {'dr_method': 'PCA', 'n_components': 18}. Best is trial 0 with value: 0.45999999999999996.\n",
            "[I 2025-02-13 12:07:30,193] Trial 6 finished with value: 0.4 and parameters: {'dr_method': 'PCA', 'n_components': 10}. Best is trial 0 with value: 0.45999999999999996.\n",
            "[I 2025-02-13 12:07:30,224] Trial 7 finished with value: 0.45999999999999996 and parameters: {'dr_method': 'PCA', 'n_components': 2}. Best is trial 0 with value: 0.45999999999999996.\n",
            "[I 2025-02-13 12:07:30,357] Trial 9 finished with value: 0.4600000000000001 and parameters: {'dr_method': 'PCA', 'n_components': 7}. Best is trial 9 with value: 0.4600000000000001.\n",
            "[I 2025-02-13 12:07:30,464] Trial 8 finished with value: 0.38 and parameters: {'dr_method': 'PCA', 'n_components': 22}. Best is trial 9 with value: 0.4600000000000001.\n",
            "[I 2025-02-13 12:07:30,638] Trial 10 finished with value: 0.48 and parameters: {'dr_method': 'PCA', 'n_components': 31}. Best is trial 10 with value: 0.48.\n",
            "[I 2025-02-13 12:07:30,746] Trial 11 finished with value: 0.48 and parameters: {'dr_method': 'PCA', 'n_components': 29}. Best is trial 10 with value: 0.48.\n",
            "[I 2025-02-13 12:07:30,827] Trial 12 finished with value: 0.42000000000000004 and parameters: {'dr_method': 'PCA', 'n_components': 42}. Best is trial 10 with value: 0.48.\n",
            "[I 2025-02-13 12:07:30,897] Trial 13 finished with value: 0.42000000000000004 and parameters: {'dr_method': 'PCA', 'n_components': 48}. Best is trial 10 with value: 0.48.\n",
            "[I 2025-02-13 12:07:31,150] Trial 14 finished with value: 0.48 and parameters: {'dr_method': 'PCA', 'n_components': 30}. Best is trial 10 with value: 0.48.\n",
            "[I 2025-02-13 12:07:31,163] Trial 15 finished with value: 0.52 and parameters: {'dr_method': 'PCA', 'n_components': 30}. Best is trial 15 with value: 0.52.\n",
            "[I 2025-02-13 12:07:31,435] Trial 16 finished with value: 0.4 and parameters: {'dr_method': 'PCA', 'n_components': 40}. Best is trial 15 with value: 0.52.\n",
            "[I 2025-02-13 12:07:31,463] Trial 17 finished with value: 0.4 and parameters: {'dr_method': 'PCA', 'n_components': 40}. Best is trial 15 with value: 0.52.\n",
            "[I 2025-02-13 12:07:31,707] Trial 18 finished with value: 0.36 and parameters: {'dr_method': 'PCA', 'n_components': 24}. Best is trial 15 with value: 0.52.\n",
            "[I 2025-02-13 12:07:31,740] Trial 19 finished with value: 0.28 and parameters: {'dr_method': 'PCA', 'n_components': 23}. Best is trial 15 with value: 0.52.\n",
            "[I 2025-02-13 12:07:31,993] Trial 20 finished with value: 0.45999999999999996 and parameters: {'dr_method': 'PCA', 'n_components': 29}. Best is trial 15 with value: 0.52.\n",
            "[I 2025-02-13 12:07:32,010] Trial 21 finished with value: 0.43999999999999995 and parameters: {'dr_method': 'PCA', 'n_components': 30}. Best is trial 15 with value: 0.52.\n",
            "[I 2025-02-13 12:07:32,362] Trial 23 finished with value: 0.43999999999999995 and parameters: {'dr_method': 'PCA', 'n_components': 34}. Best is trial 15 with value: 0.52.\n",
            "[I 2025-02-13 12:07:32,393] Trial 22 finished with value: 0.45999999999999996 and parameters: {'dr_method': 'PCA', 'n_components': 32}. Best is trial 15 with value: 0.52.\n",
            "[I 2025-02-13 12:07:32,624] Trial 25 finished with value: 0.45999999999999996 and parameters: {'dr_method': 'PCA', 'n_components': 26}. Best is trial 15 with value: 0.52.\n",
            "[I 2025-02-13 12:07:32,660] Trial 24 finished with value: 0.45999999999999996 and parameters: {'dr_method': 'PCA', 'n_components': 27}. Best is trial 15 with value: 0.52.\n",
            "[I 2025-02-13 12:07:32,847] Trial 26 finished with value: 0.45999999999999996 and parameters: {'dr_method': 'PCA', 'n_components': 16}. Best is trial 15 with value: 0.52.\n",
            "[I 2025-02-13 12:07:32,888] Trial 27 finished with value: 0.43999999999999995 and parameters: {'dr_method': 'PCA', 'n_components': 18}. Best is trial 15 with value: 0.52.\n",
            "[I 2025-02-13 12:07:33,231] Trial 28 finished with value: 0.33999999999999997 and parameters: {'dr_method': 'PCA', 'n_components': 37}. Best is trial 15 with value: 0.52.\n",
            "[I 2025-02-13 12:07:33,281] Trial 29 finished with value: 0.33999999999999997 and parameters: {'dr_method': 'PCA', 'n_components': 37}. Best is trial 15 with value: 0.52.\n",
            "[I 2025-02-13 12:07:33,447] Trial 30 finished with value: 0.44000000000000006 and parameters: {'dr_method': 'PCA', 'n_components': 46}. Best is trial 15 with value: 0.52.\n",
            "[I 2025-02-13 12:07:33,488] Trial 31 finished with value: 0.45999999999999996 and parameters: {'dr_method': 'PCA', 'n_components': 45}. Best is trial 15 with value: 0.52.\n",
            "[I 2025-02-13 12:07:33,697] Trial 32 finished with value: 0.43999999999999995 and parameters: {'dr_method': 'PCA', 'n_components': 32}. Best is trial 15 with value: 0.52.\n",
            "[I 2025-02-13 12:07:33,744] Trial 33 finished with value: 0.48 and parameters: {'dr_method': 'PCA', 'n_components': 32}. Best is trial 15 with value: 0.52.\n",
            "[I 2025-02-13 12:07:33,909] Trial 34 finished with value: 0.45999999999999996 and parameters: {'dr_method': 'PCA', 'n_components': 29}. Best is trial 15 with value: 0.52.\n",
            "[I 2025-02-13 12:07:33,957] Trial 35 finished with value: 0.48 and parameters: {'dr_method': 'PCA', 'n_components': 28}. Best is trial 15 with value: 0.52.\n",
            "[I 2025-02-13 12:07:34,129] Trial 36 finished with value: 0.48 and parameters: {'dr_method': 'PCA', 'n_components': 27}. Best is trial 15 with value: 0.52.\n",
            "[I 2025-02-13 12:07:34,136] Trial 37 finished with value: 0.38 and parameters: {'dr_method': 'PCA', 'n_components': 21}. Best is trial 15 with value: 0.52.\n",
            "[I 2025-02-13 12:07:34,385] Trial 38 finished with value: 0.38 and parameters: {'dr_method': 'PCA', 'n_components': 35}. Best is trial 15 with value: 0.52.\n",
            "[I 2025-02-13 12:07:34,439] Trial 39 finished with value: 0.42000000000000004 and parameters: {'dr_method': 'PCA', 'n_components': 34}. Best is trial 15 with value: 0.52.\n",
            "[I 2025-02-13 12:07:34,624] Trial 40 finished with value: 0.4000000000000001 and parameters: {'dr_method': 'PCA', 'n_components': 25}. Best is trial 15 with value: 0.52.\n",
            "[I 2025-02-13 12:07:34,648] Trial 41 finished with value: 0.33999999999999997 and parameters: {'dr_method': 'PCA', 'n_components': 24}. Best is trial 15 with value: 0.52.\n",
            "[I 2025-02-13 12:07:34,878] Trial 42 finished with value: 0.48 and parameters: {'dr_method': 'PCA', 'n_components': 31}. Best is trial 15 with value: 0.52.\n",
            "[I 2025-02-13 12:07:34,891] Trial 43 finished with value: 0.48 and parameters: {'dr_method': 'PCA', 'n_components': 31}. Best is trial 15 with value: 0.52.\n",
            "[I 2025-02-13 12:07:35,172] Trial 44 finished with value: 0.4 and parameters: {'dr_method': 'PCA', 'n_components': 39}. Best is trial 15 with value: 0.52.\n",
            "[I 2025-02-13 12:07:35,187] Trial 45 finished with value: 0.4 and parameters: {'dr_method': 'PCA', 'n_components': 39}. Best is trial 15 with value: 0.52.\n",
            "[I 2025-02-13 12:07:35,468] Trial 46 finished with value: 0.45999999999999996 and parameters: {'dr_method': 'PCA', 'n_components': 33}. Best is trial 15 with value: 0.52.\n",
            "[I 2025-02-13 12:07:35,495] Trial 47 finished with value: 0.45999999999999996 and parameters: {'dr_method': 'PCA', 'n_components': 33}. Best is trial 15 with value: 0.52.\n",
            "[I 2025-02-13 12:07:35,653] Trial 48 finished with value: 0.4 and parameters: {'dr_method': 'PCA', 'n_components': 19}. Best is trial 15 with value: 0.52.\n"
          ]
        },
        {
          "output_type": "stream",
          "name": "stderr",
          "text": [
            "[I 2025-02-13 12:07:35,689] A new study created in memory with name: no-name-3fe01199-c373-458e-93bf-865a1281d240\n"
          ]
        },
        {
          "output_type": "stream",
          "name": "stdout",
          "text": [
            "[I 2025-02-13 12:07:35,680] Trial 49 finished with value: 0.38 and parameters: {'dr_method': 'PCA', 'n_components': 21}. Best is trial 15 with value: 0.52.\n",
            "Best parameters: {'dr_method': 'PCA', 'n_components': 30} Best value: 0.52\n",
            "********************************uMap***************************\n"
          ]
        },
        {
          "output_type": "display_data",
          "data": {
            "text/plain": [
              "  0%|          | 0/50 [00:00<?, ?it/s]"
            ],
            "application/vnd.jupyter.widget-view+json": {
              "version_major": 2,
              "version_minor": 0,
              "model_id": "65e2c61b540a47bf991da451a8ab0c87"
            }
          },
          "metadata": {}
        },
        {
          "output_type": "stream",
          "name": "stdout",
          "text": [
            "[I 2025-02-13 12:07:44,705] Trial 0 finished with value: 0.4 and parameters: {'dr_method': 'uMap', 'n_components': 19, 'n_neighbors': 10}. Best is trial 0 with value: 0.4.\n",
            "[I 2025-02-13 12:07:44,793] Trial 1 finished with value: 0.48 and parameters: {'dr_method': 'uMap', 'n_components': 15, 'n_neighbors': 19}. Best is trial 1 with value: 0.48.\n",
            "[I 2025-02-13 12:07:45,096] Trial 2 finished with value: 0.37999999999999995 and parameters: {'dr_method': 'uMap', 'n_components': 4, 'n_neighbors': 36}. Best is trial 1 with value: 0.48.\n",
            "[I 2025-02-13 12:07:45,389] Trial 3 finished with value: 0.43999999999999995 and parameters: {'dr_method': 'uMap', 'n_components': 19, 'n_neighbors': 26}. Best is trial 1 with value: 0.48.\n",
            "[I 2025-02-13 12:07:45,531] Trial 4 finished with value: 0.5 and parameters: {'dr_method': 'uMap', 'n_components': 23, 'n_neighbors': 14}. Best is trial 4 with value: 0.5.\n",
            "[I 2025-02-13 12:07:45,660] Trial 6 finished with value: 0.4 and parameters: {'dr_method': 'uMap', 'n_components': 2, 'n_neighbors': 9}. Best is trial 4 with value: 0.5.\n",
            "[I 2025-02-13 12:07:45,802] Trial 5 finished with value: 0.42000000000000004 and parameters: {'dr_method': 'uMap', 'n_components': 18, 'n_neighbors': 24}. Best is trial 4 with value: 0.5.\n",
            "[I 2025-02-13 12:07:45,915] Trial 7 finished with value: 0.42000000000000004 and parameters: {'dr_method': 'uMap', 'n_components': 8, 'n_neighbors': 23}. Best is trial 4 with value: 0.5.\n",
            "[I 2025-02-13 12:07:46,076] Trial 8 finished with value: 0.5 and parameters: {'dr_method': 'uMap', 'n_components': 16, 'n_neighbors': 17}. Best is trial 4 with value: 0.5.\n",
            "[I 2025-02-13 12:07:46,239] Trial 9 finished with value: 0.45999999999999996 and parameters: {'dr_method': 'uMap', 'n_components': 22, 'n_neighbors': 14}. Best is trial 4 with value: 0.5.\n",
            "[I 2025-02-13 12:07:46,440] Trial 10 finished with value: 0.52 and parameters: {'dr_method': 'uMap', 'n_components': 10, 'n_neighbors': 46}. Best is trial 10 with value: 0.52.\n"
          ]
        },
        {
          "output_type": "stream",
          "name": "stderr",
          "text": [
            "/usr/local/lib/python3.11/dist-packages/umap/umap_.py:2462: UserWarning: n_neighbors is larger than the dataset size; truncating to X.shape[0] - 1\n",
            "  warn(\n"
          ]
        },
        {
          "output_type": "stream",
          "name": "stdout",
          "text": [
            "[I 2025-02-13 12:07:46,670] Trial 11 finished with value: 0.48 and parameters: {'dr_method': 'uMap', 'n_components': 25, 'n_neighbors': 49}. Best is trial 10 with value: 0.52.\n",
            "[I 2025-02-13 12:07:46,791] Trial 12 finished with value: 0.54 and parameters: {'dr_method': 'uMap', 'n_components': 10, 'n_neighbors': 50}. Best is trial 12 with value: 0.54.\n",
            "[I 2025-02-13 12:07:46,971] Trial 14 finished with value: 0.52 and parameters: {'dr_method': 'uMap', 'n_components': 10, 'n_neighbors': 49}. Best is trial 12 with value: 0.54.\n",
            "[I 2025-02-13 12:07:47,063] Trial 13 finished with value: 0.5399999999999999 and parameters: {'dr_method': 'uMap', 'n_components': 9, 'n_neighbors': 36}. Best is trial 12 with value: 0.54.\n",
            "[I 2025-02-13 12:07:47,219] Trial 15 finished with value: 0.43999999999999995 and parameters: {'dr_method': 'uMap', 'n_components': 11, 'n_neighbors': 40}. Best is trial 12 with value: 0.54.\n",
            "[I 2025-02-13 12:07:47,351] Trial 16 finished with value: 0.45999999999999996 and parameters: {'dr_method': 'uMap', 'n_components': 7, 'n_neighbors': 37}. Best is trial 12 with value: 0.54.\n",
            "[I 2025-02-13 12:07:47,523] Trial 17 finished with value: 0.5199999999999999 and parameters: {'dr_method': 'uMap', 'n_components': 6, 'n_neighbors': 34}. Best is trial 12 with value: 0.54.\n",
            "[I 2025-02-13 12:07:47,668] Trial 18 finished with value: 0.4800000000000001 and parameters: {'dr_method': 'uMap', 'n_components': 13, 'n_neighbors': 32}. Best is trial 12 with value: 0.54.\n",
            "[I 2025-02-13 12:07:47,790] Trial 19 finished with value: 0.4800000000000001 and parameters: {'dr_method': 'uMap', 'n_components': 13, 'n_neighbors': 43}. Best is trial 12 with value: 0.54.\n",
            "[I 2025-02-13 12:07:47,943] Trial 21 finished with value: 0.48 and parameters: {'dr_method': 'uMap', 'n_components': 5, 'n_neighbors': 31}. Best is trial 12 with value: 0.54.\n",
            "[I 2025-02-13 12:07:48,040] Trial 20 finished with value: 0.5599999999999999 and parameters: {'dr_method': 'uMap', 'n_components': 13, 'n_neighbors': 44}. Best is trial 20 with value: 0.5599999999999999.\n",
            "[I 2025-02-13 12:07:48,224] Trial 22 finished with value: 0.4 and parameters: {'dr_method': 'uMap', 'n_components': 10, 'n_neighbors': 44}. Best is trial 20 with value: 0.5599999999999999.\n",
            "[I 2025-02-13 12:07:48,347] Trial 23 finished with value: 0.5399999999999999 and parameters: {'dr_method': 'uMap', 'n_components': 9, 'n_neighbors': 42}. Best is trial 20 with value: 0.5599999999999999.\n",
            "[I 2025-02-13 12:07:48,536] Trial 24 finished with value: 0.5 and parameters: {'dr_method': 'uMap', 'n_components': 8, 'n_neighbors': 40}. Best is trial 20 with value: 0.5599999999999999.\n"
          ]
        },
        {
          "output_type": "stream",
          "name": "stderr",
          "text": [
            "/usr/local/lib/python3.11/dist-packages/umap/umap_.py:2462: UserWarning: n_neighbors is larger than the dataset size; truncating to X.shape[0] - 1\n",
            "  warn(\n",
            "/usr/local/lib/python3.11/dist-packages/umap/umap_.py:2462: UserWarning: n_neighbors is larger than the dataset size; truncating to X.shape[0] - 1\n",
            "  warn(\n"
          ]
        },
        {
          "output_type": "stream",
          "name": "stdout",
          "text": [
            "[I 2025-02-13 12:07:48,701] Trial 25 finished with value: 0.5399999999999999 and parameters: {'dr_method': 'uMap', 'n_components': 12, 'n_neighbors': 39}. Best is trial 20 with value: 0.5599999999999999.\n",
            "[I 2025-02-13 12:07:48,813] Trial 26 finished with value: 0.45999999999999996 and parameters: {'dr_method': 'uMap', 'n_components': 12, 'n_neighbors': 50}. Best is trial 20 with value: 0.5599999999999999.\n",
            "[I 2025-02-13 12:07:49,018] Trial 27 finished with value: 0.43999999999999995 and parameters: {'dr_method': 'uMap', 'n_components': 16, 'n_neighbors': 50}. Best is trial 20 with value: 0.5599999999999999.\n",
            "[I 2025-02-13 12:07:49,167] Trial 28 finished with value: 0.48 and parameters: {'dr_method': 'uMap', 'n_components': 15, 'n_neighbors': 45}. Best is trial 20 with value: 0.5599999999999999.\n",
            "[I 2025-02-13 12:07:49,317] Trial 30 finished with value: 0.4 and parameters: {'dr_method': 'uMap', 'n_components': 3, 'n_neighbors': 5}. Best is trial 20 with value: 0.5599999999999999.\n",
            "[I 2025-02-13 12:07:49,466] Trial 29 finished with value: 0.44000000000000006 and parameters: {'dr_method': 'uMap', 'n_components': 15, 'n_neighbors': 46}. Best is trial 20 with value: 0.5599999999999999.\n",
            "[I 2025-02-13 12:07:49,624] Trial 31 finished with value: 0.4999999999999999 and parameters: {'dr_method': 'uMap', 'n_components': 6, 'n_neighbors': 30}. Best is trial 20 with value: 0.5599999999999999.\n",
            "[I 2025-02-13 12:07:49,749] Trial 32 finished with value: 0.48 and parameters: {'dr_method': 'uMap', 'n_components': 8, 'n_neighbors': 40}. Best is trial 20 with value: 0.5599999999999999.\n",
            "[I 2025-02-13 12:07:49,984] Trial 34 finished with value: 0.41999999999999993 and parameters: {'dr_method': 'uMap', 'n_components': 9, 'n_neighbors': 42}. Best is trial 20 with value: 0.5599999999999999.\n",
            "[I 2025-02-13 12:07:50,044] Trial 33 finished with value: 0.4 and parameters: {'dr_method': 'uMap', 'n_components': 9, 'n_neighbors': 42}. Best is trial 20 with value: 0.5599999999999999.\n",
            "[I 2025-02-13 12:07:50,254] Trial 36 finished with value: 0.56 and parameters: {'dr_method': 'uMap', 'n_components': 11, 'n_neighbors': 35}. Best is trial 36 with value: 0.56.\n",
            "[I 2025-02-13 12:07:50,416] Trial 35 finished with value: 0.48 and parameters: {'dr_method': 'uMap', 'n_components': 11, 'n_neighbors': 35}. Best is trial 36 with value: 0.56.\n",
            "[I 2025-02-13 12:07:50,617] Trial 38 finished with value: 0.45999999999999996 and parameters: {'dr_method': 'uMap', 'n_components': 14, 'n_neighbors': 28}. Best is trial 36 with value: 0.56.\n",
            "[I 2025-02-13 12:07:50,732] Trial 37 finished with value: 0.5 and parameters: {'dr_method': 'uMap', 'n_components': 14, 'n_neighbors': 28}. Best is trial 36 with value: 0.56.\n",
            "[I 2025-02-13 12:07:51,016] Trial 40 finished with value: 0.54 and parameters: {'dr_method': 'uMap', 'n_components': 18, 'n_neighbors': 38}. Best is trial 36 with value: 0.56.\n",
            "[I 2025-02-13 12:07:51,053] Trial 39 finished with value: 0.45999999999999996 and parameters: {'dr_method': 'uMap', 'n_components': 18, 'n_neighbors': 47}. Best is trial 36 with value: 0.56.\n",
            "[I 2025-02-13 12:07:51,400] Trial 41 finished with value: 0.45999999999999996 and parameters: {'dr_method': 'uMap', 'n_components': 18, 'n_neighbors': 38}. Best is trial 36 with value: 0.56.\n",
            "[I 2025-02-13 12:07:51,409] Trial 42 finished with value: 0.4600000000000001 and parameters: {'dr_method': 'uMap', 'n_components': 17, 'n_neighbors': 37}. Best is trial 36 with value: 0.56.\n",
            "[I 2025-02-13 12:07:51,647] Trial 44 finished with value: 0.39999999999999997 and parameters: {'dr_method': 'uMap', 'n_components': 20, 'n_neighbors': 33}. Best is trial 36 with value: 0.56.\n",
            "[I 2025-02-13 12:07:51,767] Trial 43 finished with value: 0.68 and parameters: {'dr_method': 'uMap', 'n_components': 12, 'n_neighbors': 33}. Best is trial 43 with value: 0.68.\n",
            "[I 2025-02-13 12:07:51,962] Trial 45 finished with value: 0.41999999999999993 and parameters: {'dr_method': 'uMap', 'n_components': 20, 'n_neighbors': 25}. Best is trial 43 with value: 0.68.\n",
            "[I 2025-02-13 12:07:52,136] Trial 46 finished with value: 0.56 and parameters: {'dr_method': 'uMap', 'n_components': 20, 'n_neighbors': 25}. Best is trial 43 with value: 0.68.\n",
            "[I 2025-02-13 12:07:52,253] Trial 47 finished with value: 0.54 and parameters: {'dr_method': 'uMap', 'n_components': 12, 'n_neighbors': 20}. Best is trial 43 with value: 0.68.\n",
            "[I 2025-02-13 12:07:52,513] Trial 48 finished with value: 0.42000000000000004 and parameters: {'dr_method': 'uMap', 'n_components': 12, 'n_neighbors': 22}. Best is trial 43 with value: 0.68.\n",
            "[I 2025-02-13 12:07:52,628] Trial 49 finished with value: 0.39999999999999997 and parameters: {'dr_method': 'uMap', 'n_components': 25, 'n_neighbors': 22}. Best is trial 43 with value: 0.68.\n",
            "Best parameters: {'dr_method': 'uMap', 'n_components': 12, 'n_neighbors': 33} Best value: 0.68\n"
          ]
        }
      ]
    },
    {
      "cell_type": "code",
      "source": [
        "with open('results.json') as json_file:\n",
        "  data = json.load(json_file)\n",
        "data"
      ],
      "metadata": {
        "id": "cjsuAQor9j8t"
      },
      "execution_count": null,
      "outputs": []
    }
  ]
}