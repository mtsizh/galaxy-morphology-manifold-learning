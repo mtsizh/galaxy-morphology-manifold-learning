{
  "cells": [
    {
      "cell_type": "markdown",
      "metadata": {
        "id": "view-in-github",
        "colab_type": "text"
      },
      "source": [
        "<a href=\"https://colab.research.google.com/github/mtsizh/galaxy-morphology-manifold-learning/blob/main/clustering.ipynb\" target=\"_parent\"><img src=\"https://colab.research.google.com/assets/colab-badge.svg\" alt=\"Open In Colab\"/></a>"
      ]
    },
    {
      "cell_type": "code",
      "execution_count": null,
      "metadata": {
        "colab": {
          "base_uri": "https://localhost:8080/"
        },
        "id": "JM3ZDuhgZM0Y",
        "outputId": "ceefcf8a-a725-467c-e174-13808b8ce4d1"
      },
      "outputs": [
        {
          "name": "stdout",
          "output_type": "stream",
          "text": [
            "HEAD dowloaded\n",
            "PART 1 of 7 OK\n",
            "PART 2 of 7 OK\n",
            "PART 3 of 7 OK\n",
            "PART 4 of 7 OK\n",
            "PART 5 of 7 OK\n",
            "PART 6 of 7 OK\n",
            "PART 7 of 7 OK\n",
            "MERGING PARTS\n",
            "COMPLETE\n",
            "UNZIPPED\n"
          ]
        }
      ],
      "source": [
        "!wget -q https://raw.githubusercontent.com/mtsizh/galaxy-morphology-manifold-learning/main/curated_dataset/curated_imgs_multipart.zip && echo \"HEAD dowloaded\" || \"ERROR downloading HEAD\"\n",
        "\n",
        "for i in range(1,8):\n",
        "  !wget -q https://raw.githubusercontent.com/mtsizh/galaxy-morphology-manifold-learning/main/curated_dataset/curated_imgs_multipart.z0{i}  && echo \"PART {i} of 7 OK\" || \"ERROR downloading PART {i}\"\n",
        "\n",
        "print('MERGING PARTS')\n",
        "!zip -FF curated_imgs_multipart.zip --out curated_imgs.zip > /dev/null && rm curated_imgs_multipart.z* && echo \"COMPLETE\" || \"FAILED\"\n",
        "\n",
        "!unzip -q -o curated_imgs.zip && echo \"UNZIPPED\" || \"FAIL\""
      ]
    },
    {
      "cell_type": "code",
      "execution_count": null,
      "metadata": {
        "colab": {
          "base_uri": "https://localhost:8080/",
          "height": 118,
          "referenced_widgets": [
            "0ab424abbf914d5283d9b1954e28b184",
            "adaafd2798af4c94917aa5f2cd40cdc2",
            "724087d81f9b420993deef390d85441b",
            "797128f3b5e34740998a53608c050825",
            "76fafa18489e46f78d67089eb9a5b090",
            "249affe8769c49ddb655e85577b3da79",
            "8da9a7416dcb4619b92f75449c177557",
            "ed8f7e1f6631408cbe3801f277e705e8",
            "4da8c340290e4887b7d22f3f1e6afb6f",
            "0261d1fc39b04d0aa9480781cb5e0e52",
            "723c3debf289447081945752c0f091ac"
          ]
        },
        "id": "UMryznZOZR72",
        "outputId": "d4da418d-ba35-4b75-ec78-0421af456920"
      },
      "outputs": [
        {
          "name": "stdout",
          "output_type": "stream",
          "text": [
            "LOAD IMAGES\n"
          ]
        },
        {
          "data": {
            "application/vnd.jupyter.widget-view+json": {
              "model_id": "0ab424abbf914d5283d9b1954e28b184",
              "version_major": 2,
              "version_minor": 0
            },
            "text/plain": [
              "  0%|          | 0/20000 [00:00<?, ?it/s]"
            ]
          },
          "metadata": {},
          "output_type": "display_data"
        },
        {
          "name": "stdout",
          "output_type": "stream",
          "text": [
            "CALCULATE LLE\n",
            "SAVING to:  unsupervised_LLE_138_neighbours_10.pkl\n",
            "COMPLETE\n"
          ]
        }
      ],
      "source": [
        "import pandas as pd\n",
        "import numpy as np\n",
        "from sklearn.manifold import LocallyLinearEmbedding\n",
        "from tqdm.auto import tqdm\n",
        "from PIL import Image\n",
        "import pickle\n",
        "\n",
        "\n",
        "n_neighbors = 10\n",
        "n_components = 138\n",
        "n_bootstrap_samples = 20000\n",
        "\n",
        "\n",
        "df = pd.read_parquet('curated_dataset.parquet')\n",
        "bootstrapped_df = df.sample(n=n_bootstrap_samples)\n",
        "X = np.zeros((len(bootstrapped_df), 120, 120))\n",
        "\n",
        "print('LOAD IMAGES')\n",
        "paths = bootstrapped_df['png_loc'].str.replace('dr5', 'curated_imgs')\n",
        "with tqdm(total=len(paths)) as progress:\n",
        "  for idx, file_path in enumerate(paths):\n",
        "    with Image.open(file_path) as img:\n",
        "      X[idx,:,:] = np.array(img)\n",
        "      progress.update()\n",
        "\n",
        "print('CALCULATE LLE')\n",
        "X_flattened = X.reshape(X.shape[0], -1)\n",
        "lle = LocallyLinearEmbedding(n_neighbors=n_neighbors, n_components=n_components)\n",
        "X_embedded = lle.fit_transform(X_flattened)\n",
        "\n",
        "\n",
        "out_file = f'unsupervised_LLE_{n_components}_neighbours_{n_neighbors}.pkl'.replace(' ', '_')\n",
        "print('SAVING to: ', out_file)\n",
        "with open(out_file, 'wb') as f:\n",
        "  pickle.dump({'X_embedded': X_embedded,\n",
        "               'metadata': bootstrapped_df}, f)\n",
        "print('COMPLETE')"
      ]
    },
    {
      "cell_type": "code",
      "execution_count": null,
      "metadata": {
        "colab": {
          "base_uri": "https://localhost:8080/"
        },
        "id": "yF5Uqvg0hKe-",
        "outputId": "ca34df2d-9876-4545-da2f-4f5a25a48eb3"
      },
      "outputs": [
        {
          "name": "stdout",
          "output_type": "stream",
          "text": [
            "Collecting git+https://github.com/jqmviegas/jqm_cvi.git\n",
            "  Cloning https://github.com/jqmviegas/jqm_cvi.git to /tmp/pip-req-build-qlxsn2pn\n",
            "  Running command git clone --filter=blob:none --quiet https://github.com/jqmviegas/jqm_cvi.git /tmp/pip-req-build-qlxsn2pn\n",
            "  Resolved https://github.com/jqmviegas/jqm_cvi.git to commit 9e1137d4f4df70c1287011e1a544b0c3fe36af36\n",
            "  Preparing metadata (setup.py) ... \u001b[?25l\u001b[?25hdone\n",
            "Building wheels for collected packages: jqmcvi\n",
            "  Building wheel for jqmcvi (setup.py) ... \u001b[?25l\u001b[?25hdone\n",
            "  Created wheel for jqmcvi: filename=jqmcvi-1.0-cp311-cp311-linux_x86_64.whl size=450012 sha256=5bebc1d1677274c3499baf05f82d78cf6025b1d71a4a5d0fc6e7f7e3688c20dd\n",
            "  Stored in directory: /tmp/pip-ephem-wheel-cache-r6itiaqq/wheels/29/10/d5/511cfe31e24f6431d3c2b84287074fe8d1c92c2128f93bdc9c\n",
            "Successfully built jqmcvi\n",
            "Installing collected packages: jqmcvi\n",
            "Successfully installed jqmcvi-1.0\n"
          ]
        }
      ],
      "source": [
        "!pip install git+https://github.com/jqmviegas/jqm_cvi.git"
      ]
    },
    {
      "cell_type": "code",
      "execution_count": null,
      "metadata": {
        "colab": {
          "background_save": true
        },
        "id": "czKMraPudfyC",
        "outputId": "ebe99bb3-6a42-4dd0-d081-0e13669e6d22"
      },
      "outputs": [
        {
          "data": {
            "text/plain": [
              "[<matplotlib.lines.Line2D at 0x7cf713dd6a50>]"
            ]
          },
          "execution_count": 12,
          "metadata": {},
          "output_type": "execute_result"
        },
        {
          "data": {
            "image/png": "[encoded data removed]",
            "text/plain": [
              "<Figure size 640x480 with 1 Axes>"
            ]
          },
          "metadata": {},
          "output_type": "display_data"
        }
      ],
      "source": [
        "from sklearn.cluster import KMeans\n",
        "from sklearn.metrics import davies_bouldin_score\n",
        "from jqmcvi import base\n",
        "import pickle\n",
        "import numpy as np\n",
        "\n",
        "\n",
        "load_from = 'unsupervised_LLE_138_neighbours_10.pkl'\n",
        "sample_size = 10000\n",
        "\n",
        "\n",
        "def get_scores(X_embedded):\n",
        "  scores = []\n",
        "  for n_clusters in range(2, 10):\n",
        "    kmeans = KMeans(n_clusters=n_clusters)\n",
        "    labels = kmeans.fit_predict(X_embedded)\n",
        "    #points_by_cluster = [X_embedded[labels == c] for c in range(n_clusters)]\n",
        "    #sizes = [a.shape for a in points_by_cluster]\n",
        "    #print(\"dunn:\", base.dunn(points_by_cluster))\n",
        "    db_index = davies_bouldin_score(X_embedded, labels)\n",
        "    scores.append(db_index)\n",
        "    #print(f\"Davies-Bouldin Index for {n_clusters}: {db_index}\")\n",
        "  return scores\n",
        "\n",
        "\n",
        "with open(load_from, 'rb') as f:\n",
        "  data = pickle.load(f)\n",
        "  X_embedded = data['X_embedded']\n",
        "  meta = data['metadata']\n",
        "\n",
        "all_scores = []\n",
        "for iter in range(200):\n",
        "  row_indices = np.random.choice(X_embedded.shape[0], size=sample_size, replace=False)\n",
        "  sample = X_embedded[row_indices]\n",
        "  all_scores.append(get_scores(sample))\n",
        "all_scores = np.array(all_scores)\n",
        "\n",
        "scores = np.mean(all_scores, axis=0)\n",
        "\n",
        "import matplotlib.pyplot as plt\n",
        "\n",
        "plt.plot(range(2, 10), scores)"
      ]
    },
    {
      "cell_type": "code",
      "execution_count": null,
      "metadata": {
        "id": "cDnCr_WDiYnB"
      },
      "outputs": [],
      "source": []
    }
  ],
  "metadata": {
    "colab": {
      "provenance": [],
      "include_colab_link": true
    },
    "kernelspec": {
      "display_name": "Python 3",
      "name": "python3"
    },
    "language_info": {
      "name": "python"
    },
    "widgets": {
      "application/vnd.jupyter.widget-state+json": {
        "0261d1fc39b04d0aa9480781cb5e0e52": {
          "model_module": "@jupyter-widgets/base",
          "model_module_version": "1.2.0",
          "model_name": "LayoutModel",
          "state": {
            "_model_module": "@jupyter-widgets/base",
            "_model_module_version": "1.2.0",
            "_model_name": "LayoutModel",
            "_view_count": null,
            "_view_module": "@jupyter-widgets/base",
            "_view_module_version": "1.2.0",
            "_view_name": "LayoutView",
            "align_content": null,
            "align_items": null,
            "align_self": null,
            "border": null,
            "bottom": null,
            "display": null,
            "flex": null,
            "flex_flow": null,
            "grid_area": null,
            "grid_auto_columns": null,
            "grid_auto_flow": null,
            "grid_auto_rows": null,
            "grid_column": null,
            "grid_gap": null,
            "grid_row": null,
            "grid_template_areas": null,
            "grid_template_columns": null,
            "grid_template_rows": null,
            "height": null,
            "justify_content": null,
            "justify_items": null,
            "left": null,
            "margin": null,
            "max_height": null,
            "max_width": null,
            "min_height": null,
            "min_width": null,
            "object_fit": null,
            "object_position": null,
            "order": null,
            "overflow": null,
            "overflow_x": null,
            "overflow_y": null,
            "padding": null,
            "right": null,
            "top": null,
            "visibility": null,
            "width": null
          }
        },
        "0ab424abbf914d5283d9b1954e28b184": {
          "model_module": "@jupyter-widgets/controls",
          "model_module_version": "1.5.0",
          "model_name": "HBoxModel",
          "state": {
            "_dom_classes": [],
            "_model_module": "@jupyter-widgets/controls",
            "_model_module_version": "1.5.0",
            "_model_name": "HBoxModel",
            "_view_count": null,
            "_view_module": "@jupyter-widgets/controls",
            "_view_module_version": "1.5.0",
            "_view_name": "HBoxView",
            "box_style": "",
            "children": [
              "IPY_MODEL_adaafd2798af4c94917aa5f2cd40cdc2",
              "IPY_MODEL_724087d81f9b420993deef390d85441b",
              "IPY_MODEL_797128f3b5e34740998a53608c050825"
            ],
            "layout": "IPY_MODEL_76fafa18489e46f78d67089eb9a5b090"
          }
        },
        "249affe8769c49ddb655e85577b3da79": {
          "model_module": "@jupyter-widgets/base",
          "model_module_version": "1.2.0",
          "model_name": "LayoutModel",
          "state": {
            "_model_module": "@jupyter-widgets/base",
            "_model_module_version": "1.2.0",
            "_model_name": "LayoutModel",
            "_view_count": null,
            "_view_module": "@jupyter-widgets/base",
            "_view_module_version": "1.2.0",
            "_view_name": "LayoutView",
            "align_content": null,
            "align_items": null,
            "align_self": null,
            "border": null,
            "bottom": null,
            "display": null,
            "flex": null,
            "flex_flow": null,
            "grid_area": null,
            "grid_auto_columns": null,
            "grid_auto_flow": null,
            "grid_auto_rows": null,
            "grid_column": null,
            "grid_gap": null,
            "grid_row": null,
            "grid_template_areas": null,
            "grid_template_columns": null,
            "grid_template_rows": null,
            "height": null,
            "justify_content": null,
            "justify_items": null,
            "left": null,
            "margin": null,
            "max_height": null,
            "max_width": null,
            "min_height": null,
            "min_width": null,
            "object_fit": null,
            "object_position": null,
            "order": null,
            "overflow": null,
            "overflow_x": null,
            "overflow_y": null,
            "padding": null,
            "right": null,
            "top": null,
            "visibility": null,
            "width": null
          }
        },
        "4da8c340290e4887b7d22f3f1e6afb6f": {
          "model_module": "@jupyter-widgets/controls",
          "model_module_version": "1.5.0",
          "model_name": "ProgressStyleModel",
          "state": {
            "_model_module": "@jupyter-widgets/controls",
            "_model_module_version": "1.5.0",
            "_model_name": "ProgressStyleModel",
            "_view_count": null,
            "_view_module": "@jupyter-widgets/base",
            "_view_module_version": "1.2.0",
            "_view_name": "StyleView",
            "bar_color": null,
            "description_width": ""
          }
        },
        "723c3debf289447081945752c0f091ac": {
          "model_module": "@jupyter-widgets/controls",
          "model_module_version": "1.5.0",
          "model_name": "DescriptionStyleModel",
          "state": {
            "_model_module": "@jupyter-widgets/controls",
            "_model_module_version": "1.5.0",
            "_model_name": "DescriptionStyleModel",
            "_view_count": null,
            "_view_module": "@jupyter-widgets/base",
            "_view_module_version": "1.2.0",
            "_view_name": "StyleView",
            "description_width": ""
          }
        },
        "724087d81f9b420993deef390d85441b": {
          "model_module": "@jupyter-widgets/controls",
          "model_module_version": "1.5.0",
          "model_name": "FloatProgressModel",
          "state": {
            "_dom_classes": [],
            "_model_module": "@jupyter-widgets/controls",
            "_model_module_version": "1.5.0",
            "_model_name": "FloatProgressModel",
            "_view_count": null,
            "_view_module": "@jupyter-widgets/controls",
            "_view_module_version": "1.5.0",
            "_view_name": "ProgressView",
            "bar_style": "success",
            "description": "",
            "description_tooltip": null,
            "layout": "IPY_MODEL_ed8f7e1f6631408cbe3801f277e705e8",
            "max": 20000,
            "min": 0,
            "orientation": "horizontal",
            "style": "IPY_MODEL_4da8c340290e4887b7d22f3f1e6afb6f",
            "value": 20000
          }
        },
        "76fafa18489e46f78d67089eb9a5b090": {
          "model_module": "@jupyter-widgets/base",
          "model_module_version": "1.2.0",
          "model_name": "LayoutModel",
          "state": {
            "_model_module": "@jupyter-widgets/base",
            "_model_module_version": "1.2.0",
            "_model_name": "LayoutModel",
            "_view_count": null,
            "_view_module": "@jupyter-widgets/base",
            "_view_module_version": "1.2.0",
            "_view_name": "LayoutView",
            "align_content": null,
            "align_items": null,
            "align_self": null,
            "border": null,
            "bottom": null,
            "display": null,
            "flex": null,
            "flex_flow": null,
            "grid_area": null,
            "grid_auto_columns": null,
            "grid_auto_flow": null,
            "grid_auto_rows": null,
            "grid_column": null,
            "grid_gap": null,
            "grid_row": null,
            "grid_template_areas": null,
            "grid_template_columns": null,
            "grid_template_rows": null,
            "height": null,
            "justify_content": null,
            "justify_items": null,
            "left": null,
            "margin": null,
            "max_height": null,
            "max_width": null,
            "min_height": null,
            "min_width": null,
            "object_fit": null,
            "object_position": null,
            "order": null,
            "overflow": null,
            "overflow_x": null,
            "overflow_y": null,
            "padding": null,
            "right": null,
            "top": null,
            "visibility": null,
            "width": null
          }
        },
        "797128f3b5e34740998a53608c050825": {
          "model_module": "@jupyter-widgets/controls",
          "model_module_version": "1.5.0",
          "model_name": "HTMLModel",
          "state": {
            "_dom_classes": [],
            "_model_module": "@jupyter-widgets/controls",
            "_model_module_version": "1.5.0",
            "_model_name": "HTMLModel",
            "_view_count": null,
            "_view_module": "@jupyter-widgets/controls",
            "_view_module_version": "1.5.0",
            "_view_name": "HTMLView",
            "description": "",
            "description_tooltip": null,
            "layout": "IPY_MODEL_0261d1fc39b04d0aa9480781cb5e0e52",
            "placeholder": "​",
            "style": "IPY_MODEL_723c3debf289447081945752c0f091ac",
            "value": " 20000/20000 [00:27&lt;00:00, 1832.53it/s]"
          }
        },
        "8da9a7416dcb4619b92f75449c177557": {
          "model_module": "@jupyter-widgets/controls",
          "model_module_version": "1.5.0",
          "model_name": "DescriptionStyleModel",
          "state": {
            "_model_module": "@jupyter-widgets/controls",
            "_model_module_version": "1.5.0",
            "_model_name": "DescriptionStyleModel",
            "_view_count": null,
            "_view_module": "@jupyter-widgets/base",
            "_view_module_version": "1.2.0",
            "_view_name": "StyleView",
            "description_width": ""
          }
        },
        "adaafd2798af4c94917aa5f2cd40cdc2": {
          "model_module": "@jupyter-widgets/controls",
          "model_module_version": "1.5.0",
          "model_name": "HTMLModel",
          "state": {
            "_dom_classes": [],
            "_model_module": "@jupyter-widgets/controls",
            "_model_module_version": "1.5.0",
            "_model_name": "HTMLModel",
            "_view_count": null,
            "_view_module": "@jupyter-widgets/controls",
            "_view_module_version": "1.5.0",
            "_view_name": "HTMLView",
            "description": "",
            "description_tooltip": null,
            "layout": "IPY_MODEL_249affe8769c49ddb655e85577b3da79",
            "placeholder": "​",
            "style": "IPY_MODEL_8da9a7416dcb4619b92f75449c177557",
            "value": "100%"
          }
        },
        "ed8f7e1f6631408cbe3801f277e705e8": {
          "model_module": "@jupyter-widgets/base",
          "model_module_version": "1.2.0",
          "model_name": "LayoutModel",
          "state": {
            "_model_module": "@jupyter-widgets/base",
            "_model_module_version": "1.2.0",
            "_model_name": "LayoutModel",
            "_view_count": null,
            "_view_module": "@jupyter-widgets/base",
            "_view_module_version": "1.2.0",
            "_view_name": "LayoutView",
            "align_content": null,
            "align_items": null,
            "align_self": null,
            "border": null,
            "bottom": null,
            "display": null,
            "flex": null,
            "flex_flow": null,
            "grid_area": null,
            "grid_auto_columns": null,
            "grid_auto_flow": null,
            "grid_auto_rows": null,
            "grid_column": null,
            "grid_gap": null,
            "grid_row": null,
            "grid_template_areas": null,
            "grid_template_columns": null,
            "grid_template_rows": null,
            "height": null,
            "justify_content": null,
            "justify_items": null,
            "left": null,
            "margin": null,
            "max_height": null,
            "max_width": null,
            "min_height": null,
            "min_width": null,
            "object_fit": null,
            "object_position": null,
            "order": null,
            "overflow": null,
            "overflow_x": null,
            "overflow_y": null,
            "padding": null,
            "right": null,
            "top": null,
            "visibility": null,
            "width": null
          }
        }
      }
    }
  },
  "nbformat": 4,
  "nbformat_minor": 0
}