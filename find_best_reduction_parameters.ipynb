{
  "nbformat": 4,
  "nbformat_minor": 0,
  "metadata": {
    "colab": {
      "provenance": [],
      "authorship_tag": "ABX9TyMVLtQSKQEFz34JavhW3u8X",
      "include_colab_link": true
    },
    "kernelspec": {
      "name": "python3",
      "display_name": "Python 3"
    },
    "language_info": {
      "name": "python"
    },
    "widgets": {
      "application/vnd.jupyter.widget-state+json": {
        "75df78c674dc49bdbf6a94db46b3873c": {
          "model_module": "@jupyter-widgets/controls",
          "model_name": "HBoxModel",
          "model_module_version": "1.5.0",
          "state": {
            "_dom_classes": [],
            "_model_module": "@jupyter-widgets/controls",
            "_model_module_version": "1.5.0",
            "_model_name": "HBoxModel",
            "_view_count": null,
            "_view_module": "@jupyter-widgets/controls",
            "_view_module_version": "1.5.0",
            "_view_name": "HBoxView",
            "box_style": "",
            "children": [
              "IPY_MODEL_c1c5102ac5d94adfa4fec98ae1c35a91",
              "IPY_MODEL_8a816016068c436a913a46385f1bea13",
              "IPY_MODEL_95c628b187214ad9bd74835c04c14916"
            ],
            "layout": "IPY_MODEL_eaf94125e41047379f384359525e10d0"
          }
        },
        "c1c5102ac5d94adfa4fec98ae1c35a91": {
          "model_module": "@jupyter-widgets/controls",
          "model_name": "HTMLModel",
          "model_module_version": "1.5.0",
          "state": {
            "_dom_classes": [],
            "_model_module": "@jupyter-widgets/controls",
            "_model_module_version": "1.5.0",
            "_model_name": "HTMLModel",
            "_view_count": null,
            "_view_module": "@jupyter-widgets/controls",
            "_view_module_version": "1.5.0",
            "_view_name": "HTMLView",
            "description": "",
            "description_tooltip": null,
            "layout": "IPY_MODEL_c75ebf19d7c94e07a2751a631f513203",
            "placeholder": "​",
            "style": "IPY_MODEL_938f6a6df6234e6f97bdf03d80d61f13",
            "value": "100%"
          }
        },
        "8a816016068c436a913a46385f1bea13": {
          "model_module": "@jupyter-widgets/controls",
          "model_name": "FloatProgressModel",
          "model_module_version": "1.5.0",
          "state": {
            "_dom_classes": [],
            "_model_module": "@jupyter-widgets/controls",
            "_model_module_version": "1.5.0",
            "_model_name": "FloatProgressModel",
            "_view_count": null,
            "_view_module": "@jupyter-widgets/controls",
            "_view_module_version": "1.5.0",
            "_view_name": "ProgressView",
            "bar_style": "success",
            "description": "",
            "description_tooltip": null,
            "layout": "IPY_MODEL_a6527d5c52ab46efa73af6bcdcbbe72c",
            "max": 4000,
            "min": 0,
            "orientation": "horizontal",
            "style": "IPY_MODEL_6b08222f3db34712881fbe7e34192c54",
            "value": 4000
          }
        },
        "95c628b187214ad9bd74835c04c14916": {
          "model_module": "@jupyter-widgets/controls",
          "model_name": "HTMLModel",
          "model_module_version": "1.5.0",
          "state": {
            "_dom_classes": [],
            "_model_module": "@jupyter-widgets/controls",
            "_model_module_version": "1.5.0",
            "_model_name": "HTMLModel",
            "_view_count": null,
            "_view_module": "@jupyter-widgets/controls",
            "_view_module_version": "1.5.0",
            "_view_name": "HTMLView",
            "description": "",
            "description_tooltip": null,
            "layout": "IPY_MODEL_852a6384e4bc4bdfbe96b76122f8c2eb",
            "placeholder": "​",
            "style": "IPY_MODEL_c2fea7f498cb4dd794a84835d5835f33",
            "value": " 4000/4000 [00:02&lt;00:00, 1833.50it/s]"
          }
        },
        "eaf94125e41047379f384359525e10d0": {
          "model_module": "@jupyter-widgets/base",
          "model_name": "LayoutModel",
          "model_module_version": "1.2.0",
          "state": {
            "_model_module": "@jupyter-widgets/base",
            "_model_module_version": "1.2.0",
            "_model_name": "LayoutModel",
            "_view_count": null,
            "_view_module": "@jupyter-widgets/base",
            "_view_module_version": "1.2.0",
            "_view_name": "LayoutView",
            "align_content": null,
            "align_items": null,
            "align_self": null,
            "border": null,
            "bottom": null,
            "display": null,
            "flex": null,
            "flex_flow": null,
            "grid_area": null,
            "grid_auto_columns": null,
            "grid_auto_flow": null,
            "grid_auto_rows": null,
            "grid_column": null,
            "grid_gap": null,
            "grid_row": null,
            "grid_template_areas": null,
            "grid_template_columns": null,
            "grid_template_rows": null,
            "height": null,
            "justify_content": null,
            "justify_items": null,
            "left": null,
            "margin": null,
            "max_height": null,
            "max_width": null,
            "min_height": null,
            "min_width": null,
            "object_fit": null,
            "object_position": null,
            "order": null,
            "overflow": null,
            "overflow_x": null,
            "overflow_y": null,
            "padding": null,
            "right": null,
            "top": null,
            "visibility": null,
            "width": null
          }
        },
        "c75ebf19d7c94e07a2751a631f513203": {
          "model_module": "@jupyter-widgets/base",
          "model_name": "LayoutModel",
          "model_module_version": "1.2.0",
          "state": {
            "_model_module": "@jupyter-widgets/base",
            "_model_module_version": "1.2.0",
            "_model_name": "LayoutModel",
            "_view_count": null,
            "_view_module": "@jupyter-widgets/base",
            "_view_module_version": "1.2.0",
            "_view_name": "LayoutView",
            "align_content": null,
            "align_items": null,
            "align_self": null,
            "border": null,
            "bottom": null,
            "display": null,
            "flex": null,
            "flex_flow": null,
            "grid_area": null,
            "grid_auto_columns": null,
            "grid_auto_flow": null,
            "grid_auto_rows": null,
            "grid_column": null,
            "grid_gap": null,
            "grid_row": null,
            "grid_template_areas": null,
            "grid_template_columns": null,
            "grid_template_rows": null,
            "height": null,
            "justify_content": null,
            "justify_items": null,
            "left": null,
            "margin": null,
            "max_height": null,
            "max_width": null,
            "min_height": null,
            "min_width": null,
            "object_fit": null,
            "object_position": null,
            "order": null,
            "overflow": null,
            "overflow_x": null,
            "overflow_y": null,
            "padding": null,
            "right": null,
            "top": null,
            "visibility": null,
            "width": null
          }
        },
        "938f6a6df6234e6f97bdf03d80d61f13": {
          "model_module": "@jupyter-widgets/controls",
          "model_name": "DescriptionStyleModel",
          "model_module_version": "1.5.0",
          "state": {
            "_model_module": "@jupyter-widgets/controls",
            "_model_module_version": "1.5.0",
            "_model_name": "DescriptionStyleModel",
            "_view_count": null,
            "_view_module": "@jupyter-widgets/base",
            "_view_module_version": "1.2.0",
            "_view_name": "StyleView",
            "description_width": ""
          }
        },
        "a6527d5c52ab46efa73af6bcdcbbe72c": {
          "model_module": "@jupyter-widgets/base",
          "model_name": "LayoutModel",
          "model_module_version": "1.2.0",
          "state": {
            "_model_module": "@jupyter-widgets/base",
            "_model_module_version": "1.2.0",
            "_model_name": "LayoutModel",
            "_view_count": null,
            "_view_module": "@jupyter-widgets/base",
            "_view_module_version": "1.2.0",
            "_view_name": "LayoutView",
            "align_content": null,
            "align_items": null,
            "align_self": null,
            "border": null,
            "bottom": null,
            "display": null,
            "flex": null,
            "flex_flow": null,
            "grid_area": null,
            "grid_auto_columns": null,
            "grid_auto_flow": null,
            "grid_auto_rows": null,
            "grid_column": null,
            "grid_gap": null,
            "grid_row": null,
            "grid_template_areas": null,
            "grid_template_columns": null,
            "grid_template_rows": null,
            "height": null,
            "justify_content": null,
            "justify_items": null,
            "left": null,
            "margin": null,
            "max_height": null,
            "max_width": null,
            "min_height": null,
            "min_width": null,
            "object_fit": null,
            "object_position": null,
            "order": null,
            "overflow": null,
            "overflow_x": null,
            "overflow_y": null,
            "padding": null,
            "right": null,
            "top": null,
            "visibility": null,
            "width": null
          }
        },
        "6b08222f3db34712881fbe7e34192c54": {
          "model_module": "@jupyter-widgets/controls",
          "model_name": "ProgressStyleModel",
          "model_module_version": "1.5.0",
          "state": {
            "_model_module": "@jupyter-widgets/controls",
            "_model_module_version": "1.5.0",
            "_model_name": "ProgressStyleModel",
            "_view_count": null,
            "_view_module": "@jupyter-widgets/base",
            "_view_module_version": "1.2.0",
            "_view_name": "StyleView",
            "bar_color": null,
            "description_width": ""
          }
        },
        "852a6384e4bc4bdfbe96b76122f8c2eb": {
          "model_module": "@jupyter-widgets/base",
          "model_name": "LayoutModel",
          "model_module_version": "1.2.0",
          "state": {
            "_model_module": "@jupyter-widgets/base",
            "_model_module_version": "1.2.0",
            "_model_name": "LayoutModel",
            "_view_count": null,
            "_view_module": "@jupyter-widgets/base",
            "_view_module_version": "1.2.0",
            "_view_name": "LayoutView",
            "align_content": null,
            "align_items": null,
            "align_self": null,
            "border": null,
            "bottom": null,
            "display": null,
            "flex": null,
            "flex_flow": null,
            "grid_area": null,
            "grid_auto_columns": null,
            "grid_auto_flow": null,
            "grid_auto_rows": null,
            "grid_column": null,
            "grid_gap": null,
            "grid_row": null,
            "grid_template_areas": null,
            "grid_template_columns": null,
            "grid_template_rows": null,
            "height": null,
            "justify_content": null,
            "justify_items": null,
            "left": null,
            "margin": null,
            "max_height": null,
            "max_width": null,
            "min_height": null,
            "min_width": null,
            "object_fit": null,
            "object_position": null,
            "order": null,
            "overflow": null,
            "overflow_x": null,
            "overflow_y": null,
            "padding": null,
            "right": null,
            "top": null,
            "visibility": null,
            "width": null
          }
        },
        "c2fea7f498cb4dd794a84835d5835f33": {
          "model_module": "@jupyter-widgets/controls",
          "model_name": "DescriptionStyleModel",
          "model_module_version": "1.5.0",
          "state": {
            "_model_module": "@jupyter-widgets/controls",
            "_model_module_version": "1.5.0",
            "_model_name": "DescriptionStyleModel",
            "_view_count": null,
            "_view_module": "@jupyter-widgets/base",
            "_view_module_version": "1.2.0",
            "_view_name": "StyleView",
            "description_width": ""
          }
        },
        "abc4c3a151e44f6fa74c62d9848d3bfd": {
          "model_module": "@jupyter-widgets/controls",
          "model_name": "HBoxModel",
          "model_module_version": "1.5.0",
          "state": {
            "_dom_classes": [],
            "_model_module": "@jupyter-widgets/controls",
            "_model_module_version": "1.5.0",
            "_model_name": "HBoxModel",
            "_view_count": null,
            "_view_module": "@jupyter-widgets/controls",
            "_view_module_version": "1.5.0",
            "_view_name": "HBoxView",
            "box_style": "",
            "children": [
              "IPY_MODEL_5eda62da8f204004ae5e33a3ae278ab7",
              "IPY_MODEL_33ae64e3f4504ee8916c1d42b5380afa",
              "IPY_MODEL_3f321df90a5f45f0a52d75c2569b4433"
            ],
            "layout": "IPY_MODEL_fe89dfd51c4e43c18b0a3b61941708f5"
          }
        },
        "5eda62da8f204004ae5e33a3ae278ab7": {
          "model_module": "@jupyter-widgets/controls",
          "model_name": "HTMLModel",
          "model_module_version": "1.5.0",
          "state": {
            "_dom_classes": [],
            "_model_module": "@jupyter-widgets/controls",
            "_model_module_version": "1.5.0",
            "_model_name": "HTMLModel",
            "_view_count": null,
            "_view_module": "@jupyter-widgets/controls",
            "_view_module_version": "1.5.0",
            "_view_name": "HTMLView",
            "description": "",
            "description_tooltip": null,
            "layout": "IPY_MODEL_d6fe80a2ac294807a4fc49befacee744",
            "placeholder": "​",
            "style": "IPY_MODEL_d5ecc2909c184ca191038f257f991b38",
            "value": "Best trial: 0. Best value: 0.7905:   2%"
          }
        },
        "33ae64e3f4504ee8916c1d42b5380afa": {
          "model_module": "@jupyter-widgets/controls",
          "model_name": "FloatProgressModel",
          "model_module_version": "1.5.0",
          "state": {
            "_dom_classes": [],
            "_model_module": "@jupyter-widgets/controls",
            "_model_module_version": "1.5.0",
            "_model_name": "FloatProgressModel",
            "_view_count": null,
            "_view_module": "@jupyter-widgets/controls",
            "_view_module_version": "1.5.0",
            "_view_name": "ProgressView",
            "bar_style": "",
            "description": "",
            "description_tooltip": null,
            "layout": "IPY_MODEL_b3b11576d8e34e39b90c7dfd81f81cee",
            "max": 50,
            "min": 0,
            "orientation": "horizontal",
            "style": "IPY_MODEL_932b0c8407354ba5bfe57e3559f97627",
            "value": 1
          }
        },
        "3f321df90a5f45f0a52d75c2569b4433": {
          "model_module": "@jupyter-widgets/controls",
          "model_name": "HTMLModel",
          "model_module_version": "1.5.0",
          "state": {
            "_dom_classes": [],
            "_model_module": "@jupyter-widgets/controls",
            "_model_module_version": "1.5.0",
            "_model_name": "HTMLModel",
            "_view_count": null,
            "_view_module": "@jupyter-widgets/controls",
            "_view_module_version": "1.5.0",
            "_view_name": "HTMLView",
            "description": "",
            "description_tooltip": null,
            "layout": "IPY_MODEL_6ce6170b20af413f8c350fdc36ea13a5",
            "placeholder": "​",
            "style": "IPY_MODEL_9eb6e2dec99c494da2fd404f06367165",
            "value": " 1/50 [57:01&lt;46:33:53, 3421.09s/it]"
          }
        },
        "fe89dfd51c4e43c18b0a3b61941708f5": {
          "model_module": "@jupyter-widgets/base",
          "model_name": "LayoutModel",
          "model_module_version": "1.2.0",
          "state": {
            "_model_module": "@jupyter-widgets/base",
            "_model_module_version": "1.2.0",
            "_model_name": "LayoutModel",
            "_view_count": null,
            "_view_module": "@jupyter-widgets/base",
            "_view_module_version": "1.2.0",
            "_view_name": "LayoutView",
            "align_content": null,
            "align_items": null,
            "align_self": null,
            "border": null,
            "bottom": null,
            "display": null,
            "flex": null,
            "flex_flow": null,
            "grid_area": null,
            "grid_auto_columns": null,
            "grid_auto_flow": null,
            "grid_auto_rows": null,
            "grid_column": null,
            "grid_gap": null,
            "grid_row": null,
            "grid_template_areas": null,
            "grid_template_columns": null,
            "grid_template_rows": null,
            "height": null,
            "justify_content": null,
            "justify_items": null,
            "left": null,
            "margin": null,
            "max_height": null,
            "max_width": null,
            "min_height": null,
            "min_width": null,
            "object_fit": null,
            "object_position": null,
            "order": null,
            "overflow": null,
            "overflow_x": null,
            "overflow_y": null,
            "padding": null,
            "right": null,
            "top": null,
            "visibility": null,
            "width": null
          }
        },
        "d6fe80a2ac294807a4fc49befacee744": {
          "model_module": "@jupyter-widgets/base",
          "model_name": "LayoutModel",
          "model_module_version": "1.2.0",
          "state": {
            "_model_module": "@jupyter-widgets/base",
            "_model_module_version": "1.2.0",
            "_model_name": "LayoutModel",
            "_view_count": null,
            "_view_module": "@jupyter-widgets/base",
            "_view_module_version": "1.2.0",
            "_view_name": "LayoutView",
            "align_content": null,
            "align_items": null,
            "align_self": null,
            "border": null,
            "bottom": null,
            "display": null,
            "flex": null,
            "flex_flow": null,
            "grid_area": null,
            "grid_auto_columns": null,
            "grid_auto_flow": null,
            "grid_auto_rows": null,
            "grid_column": null,
            "grid_gap": null,
            "grid_row": null,
            "grid_template_areas": null,
            "grid_template_columns": null,
            "grid_template_rows": null,
            "height": null,
            "justify_content": null,
            "justify_items": null,
            "left": null,
            "margin": null,
            "max_height": null,
            "max_width": null,
            "min_height": null,
            "min_width": null,
            "object_fit": null,
            "object_position": null,
            "order": null,
            "overflow": null,
            "overflow_x": null,
            "overflow_y": null,
            "padding": null,
            "right": null,
            "top": null,
            "visibility": null,
            "width": null
          }
        },
        "d5ecc2909c184ca191038f257f991b38": {
          "model_module": "@jupyter-widgets/controls",
          "model_name": "DescriptionStyleModel",
          "model_module_version": "1.5.0",
          "state": {
            "_model_module": "@jupyter-widgets/controls",
            "_model_module_version": "1.5.0",
            "_model_name": "DescriptionStyleModel",
            "_view_count": null,
            "_view_module": "@jupyter-widgets/base",
            "_view_module_version": "1.2.0",
            "_view_name": "StyleView",
            "description_width": ""
          }
        },
        "b3b11576d8e34e39b90c7dfd81f81cee": {
          "model_module": "@jupyter-widgets/base",
          "model_name": "LayoutModel",
          "model_module_version": "1.2.0",
          "state": {
            "_model_module": "@jupyter-widgets/base",
            "_model_module_version": "1.2.0",
            "_model_name": "LayoutModel",
            "_view_count": null,
            "_view_module": "@jupyter-widgets/base",
            "_view_module_version": "1.2.0",
            "_view_name": "LayoutView",
            "align_content": null,
            "align_items": null,
            "align_self": null,
            "border": null,
            "bottom": null,
            "display": null,
            "flex": null,
            "flex_flow": null,
            "grid_area": null,
            "grid_auto_columns": null,
            "grid_auto_flow": null,
            "grid_auto_rows": null,
            "grid_column": null,
            "grid_gap": null,
            "grid_row": null,
            "grid_template_areas": null,
            "grid_template_columns": null,
            "grid_template_rows": null,
            "height": null,
            "justify_content": null,
            "justify_items": null,
            "left": null,
            "margin": null,
            "max_height": null,
            "max_width": null,
            "min_height": null,
            "min_width": null,
            "object_fit": null,
            "object_position": null,
            "order": null,
            "overflow": null,
            "overflow_x": null,
            "overflow_y": null,
            "padding": null,
            "right": null,
            "top": null,
            "visibility": null,
            "width": null
          }
        },
        "932b0c8407354ba5bfe57e3559f97627": {
          "model_module": "@jupyter-widgets/controls",
          "model_name": "ProgressStyleModel",
          "model_module_version": "1.5.0",
          "state": {
            "_model_module": "@jupyter-widgets/controls",
            "_model_module_version": "1.5.0",
            "_model_name": "ProgressStyleModel",
            "_view_count": null,
            "_view_module": "@jupyter-widgets/base",
            "_view_module_version": "1.2.0",
            "_view_name": "StyleView",
            "bar_color": null,
            "description_width": ""
          }
        },
        "6ce6170b20af413f8c350fdc36ea13a5": {
          "model_module": "@jupyter-widgets/base",
          "model_name": "LayoutModel",
          "model_module_version": "1.2.0",
          "state": {
            "_model_module": "@jupyter-widgets/base",
            "_model_module_version": "1.2.0",
            "_model_name": "LayoutModel",
            "_view_count": null,
            "_view_module": "@jupyter-widgets/base",
            "_view_module_version": "1.2.0",
            "_view_name": "LayoutView",
            "align_content": null,
            "align_items": null,
            "align_self": null,
            "border": null,
            "bottom": null,
            "display": null,
            "flex": null,
            "flex_flow": null,
            "grid_area": null,
            "grid_auto_columns": null,
            "grid_auto_flow": null,
            "grid_auto_rows": null,
            "grid_column": null,
            "grid_gap": null,
            "grid_row": null,
            "grid_template_areas": null,
            "grid_template_columns": null,
            "grid_template_rows": null,
            "height": null,
            "justify_content": null,
            "justify_items": null,
            "left": null,
            "margin": null,
            "max_height": null,
            "max_width": null,
            "min_height": null,
            "min_width": null,
            "object_fit": null,
            "object_position": null,
            "order": null,
            "overflow": null,
            "overflow_x": null,
            "overflow_y": null,
            "padding": null,
            "right": null,
            "top": null,
            "visibility": null,
            "width": null
          }
        },
        "9eb6e2dec99c494da2fd404f06367165": {
          "model_module": "@jupyter-widgets/controls",
          "model_name": "DescriptionStyleModel",
          "model_module_version": "1.5.0",
          "state": {
            "_model_module": "@jupyter-widgets/controls",
            "_model_module_version": "1.5.0",
            "_model_name": "DescriptionStyleModel",
            "_view_count": null,
            "_view_module": "@jupyter-widgets/base",
            "_view_module_version": "1.2.0",
            "_view_name": "StyleView",
            "description_width": ""
          }
        }
      }
    }
  },
  "cells": [
    {
      "cell_type": "markdown",
      "metadata": {
        "id": "view-in-github",
        "colab_type": "text"
      },
      "source": [
        "<a href=\"https://colab.research.google.com/github/mtsizh/galaxy-morphology-manifold-learning/blob/main/find_best_reduction_parameters.ipynb\" target=\"_parent\"><img src=\"https://colab.research.google.com/assets/colab-badge.svg\" alt=\"Open In Colab\"/></a>"
      ]
    },
    {
      "cell_type": "markdown",
      "source": [
        "If you performed dataset curation on your own - upload `curated_imgs.zip` and skip to the next step. Otherwise you can run the following code and download the curated dataseet from GitHub."
      ],
      "metadata": {
        "id": "o0rLKfHa__4U"
      }
    },
    {
      "cell_type": "code",
      "source": [
        "!wget -q https://raw.githubusercontent.com/mtsizh/galaxy-morphology-manifold-learning/main/curated_dataset/curated_imgs_multipart.zip && echo \"HEAD dowloaded\" || \"ERROR downloading HEAD\"\n",
        "\n",
        "for i in range(1,8):\n",
        "  !wget -q https://raw.githubusercontent.com/mtsizh/galaxy-morphology-manifold-learning/main/curated_dataset/curated_imgs_multipart.z0{i}  && echo \"PART {i} of 7 OK\" || \"ERROR downloading PART {i}\"\n",
        "\n",
        "print('MERGING PARTS')\n",
        "!zip -FF curated_imgs_multipart.zip --out curated_imgs.zip > /dev/null && rm curated_imgs_multipart.z* && echo \"COMPLETE\" || \"FAILED\"\n"
      ],
      "metadata": {
        "colab": {
          "base_uri": "https://localhost:8080/"
        },
        "id": "peMXLfox98FW",
        "outputId": "07643494-55aa-4a94-9892-d548f2fc9d73"
      },
      "execution_count": 1,
      "outputs": [
        {
          "output_type": "stream",
          "name": "stdout",
          "text": [
            "HEAD dowloaded\n",
            "PART 1 of 7 OK\n",
            "PART 2 of 7 OK\n",
            "PART 3 of 7 OK\n",
            "PART 4 of 7 OK\n",
            "PART 5 of 7 OK\n",
            "PART 6 of 7 OK\n",
            "PART 7 of 7 OK\n",
            "MERGING PARTS\n",
            "COMPLETE\n"
          ]
        }
      ]
    },
    {
      "cell_type": "markdown",
      "source": [
        "Unzip the curated dataset."
      ],
      "metadata": {
        "id": "fmqRwqWhAZux"
      }
    },
    {
      "cell_type": "code",
      "source": [
        "!unzip -q -o curated_imgs.zip && echo \"UNZIPPED\" || \"FAIL\""
      ],
      "metadata": {
        "colab": {
          "base_uri": "https://localhost:8080/"
        },
        "id": "efbdUckc_4PW",
        "outputId": "0d9c1fac-b665-429d-c531-e5a5c781e659"
      },
      "execution_count": 2,
      "outputs": [
        {
          "output_type": "stream",
          "name": "stdout",
          "text": [
            "UNZIPPED\n"
          ]
        }
      ]
    },
    {
      "cell_type": "markdown",
      "source": [
        "Few libraries are not installed by default. the following code installs `optuna` and `umap-learn`."
      ],
      "metadata": {
        "id": "JraRV82hAe4l"
      }
    },
    {
      "cell_type": "code",
      "execution_count": 3,
      "metadata": {
        "colab": {
          "base_uri": "https://localhost:8080/"
        },
        "id": "aqO98zoY9Qv7",
        "outputId": "e623844e-1d8c-45aa-8f5c-60a782e86172"
      },
      "outputs": [
        {
          "output_type": "stream",
          "name": "stdout",
          "text": [
            "COMPLETE\n"
          ]
        }
      ],
      "source": [
        "!pip install optuna\n",
        "!pip install umap-learn\n",
        "\n",
        "try:\n",
        "  import optuna\n",
        "  import umap\n",
        "  from google.colab import output\n",
        "  output.clear()\n",
        "except:\n",
        "  print('ERROR')\n",
        "finally:\n",
        "  print('COMPLETE')"
      ]
    },
    {
      "cell_type": "markdown",
      "source": [
        "Run the following code to generate a report on different methods. `optuna` is used to get the best parameters for each of the methods: t-SNE, uMap, IsoMap, LLE, PCA. Result is saved in form of a `json` file."
      ],
      "metadata": {
        "id": "Oqjs29XhAtRq"
      }
    },
    {
      "cell_type": "code",
      "source": [
        "import optuna\n",
        "import numpy as np\n",
        "from sklearn.manifold import TSNE, LocallyLinearEmbedding, Isomap\n",
        "from sklearn.decomposition import PCA\n",
        "from umap import UMAP\n",
        "from sklearn.ensemble import RandomForestClassifier\n",
        "from sklearn.model_selection import cross_val_score, train_test_split\n",
        "import pandas as pd\n",
        "import numpy as np\n",
        "from tqdm.auto import tqdm\n",
        "from PIL import Image\n",
        "from sklearn.pipeline import make_pipeline\n",
        "from sklearn.preprocessing import StandardScaler\n",
        "from sklearn.linear_model import LogisticRegression\n",
        "import json\n",
        "import pprint\n",
        "\n",
        "\n",
        "# use different class maps to get different estimations\n",
        "class_map = {1: 'round', 2: 'inbetween', 3: 'cigar'}\n",
        "#class_map = {4: 'edge on', 5: 'edge off'}\n",
        "#class_map = {6: 'smooth', 7: 'featured'}\n",
        "methods = ['t-SNE', 'LLE', 'Isomap', 'PCA', 'uMap']\n",
        "n_bootstrap_samples = 4000\n",
        "n_parameter_trials = 50\n",
        "\n",
        "\n",
        "df = pd.read_parquet('curated_dataset.parquet')\n",
        "regex_filter = '|'.join(class_map.values())\n",
        "filtered_df = df[df['class'].str.contains(regex_filter, regex=True)]\n",
        "bootstrapped_df = filtered_df.sample(n=n_bootstrap_samples, random_state=25)\n",
        "X = np.zeros((len(bootstrapped_df), 120, 120))\n",
        "y = np.zeros(len(bootstrapped_df))\n",
        "\n",
        "for key, val in class_map.items():\n",
        "  y[bootstrapped_df['class'].str.contains(val, regex=True)] = key\n",
        "\n",
        "print('Dataset balance:')\n",
        "for k,v in class_map.items():\n",
        "  print(f'class {v} has {np.sum(y == k)} items')\n",
        "print('-----------------------------------------')\n",
        "\n",
        "print('LOAD IMAGES')\n",
        "paths = bootstrapped_df['png_loc'].str.replace('dr5', 'curated_imgs')\n",
        "with tqdm(total=len(paths)) as progress:\n",
        "  for idx, file_path in enumerate(paths):\n",
        "    with Image.open(file_path) as img:\n",
        "      X[idx,:,:] = np.array(img)\n",
        "      progress.update()\n",
        "X_flattened = X.reshape(X.shape[0], -1)\n",
        "\n",
        "\n",
        "\n",
        "def objective(trial, methods):\n",
        "  dr_method = trial.suggest_categorical('dr_method', methods)\n",
        "\n",
        "  if dr_method == 't-SNE':\n",
        "    # for t-SNE # of components should be no greater that # of samples and # of features\n",
        "    n_components = trial.suggest_int('n_components', 2, np.min([200, X.shape[0]-1, X.shape[1]-1]))\n",
        "    perplexity = trial.suggest_int('perplexity', 5, min(50, X.shape[0]-1)) # perplexity < samples\n",
        "    learning_rate = trial.suggest_float('learning_rate', 10, 1000, log=True)\n",
        "    reducer = TSNE(n_components=n_components, perplexity=perplexity,\n",
        "                    learning_rate=learning_rate, method='exact')\n",
        "  elif dr_method == 'LLE':\n",
        "    n_components = trial.suggest_int('n_components', 2, min(200, X.shape[0]-1)) # components < samples\n",
        "    n_neighbors = trial.suggest_int('n_neighbors', min(2, n_components),\n",
        "                                    max(50, n_components)) # neighbors <= samples\n",
        "    reducer = LocallyLinearEmbedding(n_components=n_components, n_neighbors=n_neighbors)\n",
        "  elif dr_method == 'Isomap':\n",
        "    n_components = trial.suggest_int('n_components', 2, min(200, X.shape[0]-1)) # components < samples\n",
        "    n_neighbors = trial.suggest_int('n_neighbors', 10, min(50, X.shape[0]//2))\n",
        "    reducer = Isomap(n_components=n_components, n_neighbors=n_neighbors)\n",
        "  elif dr_method == 'PCA':\n",
        "    n_components = trial.suggest_int('n_components', 2, np.min([200, X.shape[0]-1, X.shape[1]-1]))\n",
        "    reducer = PCA(n_components=n_components)\n",
        "  elif dr_method == 'uMap':\n",
        "    n_components = trial.suggest_int('n_components', 2, np.min([200, X.shape[0]//2, X.shape[1]-1]))\n",
        "    n_neighbors = trial.suggest_int('n_neighbors', 5, np.min(50, X[0]-1)) # neighbors < samples\n",
        "    reducer = UMAP(n_neighbors=n_neighbors, n_components=n_components)\n",
        "\n",
        "\n",
        "  try: #ISOMAP fails without any reason\n",
        "    X_reduced = reducer.fit_transform(X_flattened)\n",
        "  except ValueError as e:\n",
        "    print(f\"Skipping {method} trial due to error: {e}\")\n",
        "    return -np.inf # not to spoil the result\n",
        "\n",
        "  #n_estimators = trial.suggest_int('n_estimators', 50, 300)\n",
        "  #clf = RandomForestClassifier(n_estimators=n_estimators)\n",
        "  clf = make_pipeline(StandardScaler(),\n",
        "                      LogisticRegression(solver='lbfgs', max_iter=1000, random_state=42))\n",
        "\n",
        "  return np.mean(cross_val_score(clf, X_reduced, y, cv=5))\n",
        "\n",
        "# ignore annoying futurewarnings\n",
        "import warnings\n",
        "warnings.filterwarnings(\"ignore\", message=\".*force_all_finite.*\", category=FutureWarning)\n",
        "\n",
        "result = []\n",
        "for method in methods:\n",
        "  print(f'********************************{method}***************************')\n",
        "  study = optuna.create_study(direction=\"maximize\")\n",
        "  study.optimize(lambda T: objective(T, [method]),\n",
        "                n_trials=n_parameter_trials, show_progress_bar=True, n_jobs=2)\n",
        "  print(\"Best parameters:\", study.best_params, \"Best value:\", study.best_value)\n",
        "  result.append(study.best_params)\n",
        "  result[-1]['best_vavlue'] = study.best_value\n",
        "\n",
        "\n",
        "pretty_json_str = pprint.pformat(result, compact=True).replace(\"'\",'\"')\n",
        "with open(\"results.json\", \"w\") as outfile:\n",
        "    outfile.write(pretty_json_str)"
      ],
      "metadata": {
        "colab": {
          "base_uri": "https://localhost:8080/",
          "height": 264,
          "referenced_widgets": [
            "75df78c674dc49bdbf6a94db46b3873c",
            "c1c5102ac5d94adfa4fec98ae1c35a91",
            "8a816016068c436a913a46385f1bea13",
            "95c628b187214ad9bd74835c04c14916",
            "eaf94125e41047379f384359525e10d0",
            "c75ebf19d7c94e07a2751a631f513203",
            "938f6a6df6234e6f97bdf03d80d61f13",
            "a6527d5c52ab46efa73af6bcdcbbe72c",
            "6b08222f3db34712881fbe7e34192c54",
            "852a6384e4bc4bdfbe96b76122f8c2eb",
            "c2fea7f498cb4dd794a84835d5835f33",
            "abc4c3a151e44f6fa74c62d9848d3bfd",
            "5eda62da8f204004ae5e33a3ae278ab7",
            "33ae64e3f4504ee8916c1d42b5380afa",
            "3f321df90a5f45f0a52d75c2569b4433",
            "fe89dfd51c4e43c18b0a3b61941708f5",
            "d6fe80a2ac294807a4fc49befacee744",
            "d5ecc2909c184ca191038f257f991b38",
            "b3b11576d8e34e39b90c7dfd81f81cee",
            "932b0c8407354ba5bfe57e3559f97627",
            "6ce6170b20af413f8c350fdc36ea13a5",
            "9eb6e2dec99c494da2fd404f06367165"
          ]
        },
        "id": "zCCLP6_fodt2",
        "outputId": "2dee9776-edc7-4a64-d3ea-2c37627d57bb"
      },
      "execution_count": null,
      "outputs": [
        {
          "output_type": "stream",
          "name": "stdout",
          "text": [
            "Dataset balance:\n",
            "class round has 1332 items\n",
            "class inbetween has 2019 items\n",
            "class cigar has 649 items\n",
            "-----------------------------------------\n",
            "LOAD IMAGES\n"
          ]
        },
        {
          "output_type": "display_data",
          "data": {
            "text/plain": [
              "  0%|          | 0/4000 [00:00<?, ?it/s]"
            ],
            "application/vnd.jupyter.widget-view+json": {
              "version_major": 2,
              "version_minor": 0,
              "model_id": "75df78c674dc49bdbf6a94db46b3873c"
            }
          },
          "metadata": {}
        },
        {
          "output_type": "stream",
          "name": "stderr",
          "text": [
            "[I 2025-02-16 17:49:11,806] A new study created in memory with name: no-name-2badf700-ae4f-4f70-b86a-b64a90b6067a\n"
          ]
        },
        {
          "output_type": "stream",
          "name": "stdout",
          "text": [
            "********************************t-SNE***************************\n"
          ]
        },
        {
          "output_type": "display_data",
          "data": {
            "text/plain": [
              "  0%|          | 0/50 [00:00<?, ?it/s]"
            ],
            "application/vnd.jupyter.widget-view+json": {
              "version_major": 2,
              "version_minor": 0,
              "model_id": "abc4c3a151e44f6fa74c62d9848d3bfd"
            }
          },
          "metadata": {}
        },
        {
          "output_type": "stream",
          "name": "stdout",
          "text": [
            "[I 2025-02-16 18:46:12,876] Trial 0 finished with value: 0.7905 and parameters: {'dr_method': 't-SNE', 'n_components': 16, 'perplexity': 34, 'learning_rate': 26.495919529954204}. Best is trial 0 with value: 0.7905.\n"
          ]
        }
      ]
    },
    {
      "cell_type": "code",
      "source": [
        "with open('results.json') as json_file:\n",
        "  data = json.load(json_file)\n",
        "data"
      ],
      "metadata": {
        "id": "cjsuAQor9j8t"
      },
      "execution_count": null,
      "outputs": []
    }
  ]
}